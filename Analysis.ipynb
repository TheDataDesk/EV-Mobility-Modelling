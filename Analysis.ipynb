{
 "cells": [
  {
   "cell_type": "markdown",
   "id": "162c8bc4",
   "metadata": {},
   "source": [
    "# Modeling the S-Curve of EV Adoption & integrating National Policies\n",
    "\n",
    "\n",
    "### A Comparative Study of Norway, Germany, and the United States (2016–2030)\n",
    "\n"
   ]
  },
  {
   "cell_type": "markdown",
   "id": "30adcac3",
   "metadata": {},
   "source": [
    "## Objective"
   ]
  },
  {
   "cell_type": "markdown",
   "id": "eb9124b2",
   "metadata": {},
   "source": [
    "The objective of this study is to evaluate and forecast electric vehicle (EV) adoption trajectories across **Norway**, **Germany**, and the **United States** by integrating national policy. Specifically, the project aims to: \n",
    "\n",
    "(1) fit logistic S-curves to historical EV share data to capture country-specific adoption patterns, \n",
    "\n",
    "(2) overlay and analyze the temporal placement of key policy milestones from 2016 to 2030, and \n",
    "\n",
    "(3) visually and quantitatively assess the potential catalytic impact of these policies on EV growth. \n",
    "\n",
    "This research seeks to provide a data-driven framework for understanding how timing, type, and status of national policies align with shifts in EV market penetration, offering insights for future policy design and international benchmarking."
   ]
  },
  {
   "cell_type": "markdown",
   "id": "c56f8c15",
   "metadata": {},
   "source": [
    "### Caveats"
   ]
  },
  {
   "cell_type": "markdown",
   "id": "7a4d5519",
   "metadata": {},
   "source": [
    "- U.S. diesel data is not directly reported and is assumed negligible due to low market share (<3%). Petrol and diesel are combined as PetrolOnly in U.S. data.\n",
    "\n",
    "- Germany and Norway include diesel explicitly, offering more granularity for analysis.\n",
    "\n"
   ]
  },
  {
   "cell_type": "markdown",
   "id": "50ee32a9",
   "metadata": {},
   "source": [
    "## Data Loading "
   ]
  },
  {
   "cell_type": "code",
   "execution_count": 1,
   "id": "0b04e2a1",
   "metadata": {},
   "outputs": [
    {
     "data": {
      "text/html": [
       "<div>\n",
       "<style scoped>\n",
       "    .dataframe tbody tr th:only-of-type {\n",
       "        vertical-align: middle;\n",
       "    }\n",
       "\n",
       "    .dataframe tbody tr th {\n",
       "        vertical-align: top;\n",
       "    }\n",
       "\n",
       "    .dataframe thead th {\n",
       "        text-align: right;\n",
       "    }\n",
       "</style>\n",
       "<table border=\"1\" class=\"dataframe\">\n",
       "  <thead>\n",
       "    <tr style=\"text-align: right;\">\n",
       "      <th></th>\n",
       "      <th>Year</th>\n",
       "      <th>Benzin</th>\n",
       "      <th>Diesel</th>\n",
       "      <th>LPG (einschl. bivalent)</th>\n",
       "      <th>CNG (einschl. bivalent)</th>\n",
       "      <th>BEV</th>\n",
       "      <th>Hybrid (gesamt)</th>\n",
       "      <th>Plug-in Hybrid</th>\n",
       "      <th>Sonstige</th>\n",
       "      <th>Insgesamt</th>\n",
       "    </tr>\n",
       "  </thead>\n",
       "  <tbody>\n",
       "    <tr>\n",
       "      <th>0</th>\n",
       "      <td>2005</td>\n",
       "      <td>1903190</td>\n",
       "      <td>1425576</td>\n",
       "      <td>1380</td>\n",
       "      <td>8053</td>\n",
       "      <td>47</td>\n",
       "      <td>3589</td>\n",
       "      <td>NaN</td>\n",
       "      <td>287</td>\n",
       "      <td>3342122</td>\n",
       "    </tr>\n",
       "    <tr>\n",
       "      <th>1</th>\n",
       "      <td>2006</td>\n",
       "      <td>1910823</td>\n",
       "      <td>1535881</td>\n",
       "      <td>4220</td>\n",
       "      <td>11555</td>\n",
       "      <td>19</td>\n",
       "      <td>5278</td>\n",
       "      <td>NaN</td>\n",
       "      <td>185</td>\n",
       "      <td>3467961</td>\n",
       "    </tr>\n",
       "    <tr>\n",
       "      <th>2</th>\n",
       "      <td>2007</td>\n",
       "      <td>1622276</td>\n",
       "      <td>1501566</td>\n",
       "      <td>5419</td>\n",
       "      <td>11208</td>\n",
       "      <td>8</td>\n",
       "      <td>7591</td>\n",
       "      <td>NaN</td>\n",
       "      <td>95</td>\n",
       "      <td>3148163</td>\n",
       "    </tr>\n",
       "    <tr>\n",
       "      <th>3</th>\n",
       "      <td>2008</td>\n",
       "      <td>1695972</td>\n",
       "      <td>1361457</td>\n",
       "      <td>14175</td>\n",
       "      <td>11896</td>\n",
       "      <td>36</td>\n",
       "      <td>6464</td>\n",
       "      <td>NaN</td>\n",
       "      <td>40</td>\n",
       "      <td>3090040</td>\n",
       "    </tr>\n",
       "    <tr>\n",
       "      <th>4</th>\n",
       "      <td>2009</td>\n",
       "      <td>2608767</td>\n",
       "      <td>1168633</td>\n",
       "      <td>11083</td>\n",
       "      <td>10062</td>\n",
       "      <td>162</td>\n",
       "      <td>8374</td>\n",
       "      <td>NaN</td>\n",
       "      <td>94</td>\n",
       "      <td>3807175</td>\n",
       "    </tr>\n",
       "  </tbody>\n",
       "</table>\n",
       "</div>"
      ],
      "text/plain": [
       "   Year   Benzin   Diesel  LPG (einschl. bivalent)  CNG (einschl. bivalent)  \\\n",
       "0  2005  1903190  1425576                     1380                     8053   \n",
       "1  2006  1910823  1535881                     4220                    11555   \n",
       "2  2007  1622276  1501566                     5419                    11208   \n",
       "3  2008  1695972  1361457                    14175                    11896   \n",
       "4  2009  2608767  1168633                    11083                    10062   \n",
       "\n",
       "   BEV  Hybrid (gesamt)  Plug-in Hybrid  Sonstige  Insgesamt  \n",
       "0   47             3589             NaN       287    3342122  \n",
       "1   19             5278             NaN       185    3467961  \n",
       "2    8             7591             NaN        95    3148163  \n",
       "3   36             6464             NaN        40    3090040  \n",
       "4  162             8374             NaN        94    3807175  "
      ]
     },
     "metadata": {},
     "output_type": "display_data"
    },
    {
     "data": {
      "text/html": [
       "<div>\n",
       "<style scoped>\n",
       "    .dataframe tbody tr th:only-of-type {\n",
       "        vertical-align: middle;\n",
       "    }\n",
       "\n",
       "    .dataframe tbody tr th {\n",
       "        vertical-align: top;\n",
       "    }\n",
       "\n",
       "    .dataframe thead th {\n",
       "        text-align: right;\n",
       "    }\n",
       "</style>\n",
       "<table border=\"1\" class=\"dataframe\">\n",
       "  <thead>\n",
       "    <tr style=\"text-align: right;\">\n",
       "      <th></th>\n",
       "      <th>YYYYMM</th>\n",
       "      <th>Total: New</th>\n",
       "      <th>PetrolOnly: New</th>\n",
       "      <th>DieselOnly: New</th>\n",
       "      <th>BEV: New</th>\n",
       "      <th>Non-plugin hybrid: New</th>\n",
       "      <th>Plugin hybrid: New</th>\n",
       "      <th>Total: Used</th>\n",
       "      <th>PetrolOnly: Used</th>\n",
       "      <th>DieselOnly: Used</th>\n",
       "      <th>BEV: Used</th>\n",
       "      <th>Non-plugin hybrid: Used</th>\n",
       "      <th>Plugin hybrid: Used</th>\n",
       "    </tr>\n",
       "  </thead>\n",
       "  <tbody>\n",
       "    <tr>\n",
       "      <th>0</th>\n",
       "      <td>199001</td>\n",
       "      <td>5733</td>\n",
       "      <td>5394</td>\n",
       "      <td>339</td>\n",
       "      <td>0</td>\n",
       "      <td>0</td>\n",
       "      <td>0</td>\n",
       "      <td>165</td>\n",
       "      <td>136.0</td>\n",
       "      <td>29.0</td>\n",
       "      <td>0</td>\n",
       "      <td>0.0</td>\n",
       "      <td>0.0</td>\n",
       "    </tr>\n",
       "    <tr>\n",
       "      <th>1</th>\n",
       "      <td>199002</td>\n",
       "      <td>5246</td>\n",
       "      <td>4990</td>\n",
       "      <td>255</td>\n",
       "      <td>0</td>\n",
       "      <td>0</td>\n",
       "      <td>0</td>\n",
       "      <td>150</td>\n",
       "      <td>118.0</td>\n",
       "      <td>32.0</td>\n",
       "      <td>0</td>\n",
       "      <td>0.0</td>\n",
       "      <td>0.0</td>\n",
       "    </tr>\n",
       "    <tr>\n",
       "      <th>2</th>\n",
       "      <td>199003</td>\n",
       "      <td>6007</td>\n",
       "      <td>5646</td>\n",
       "      <td>360</td>\n",
       "      <td>1</td>\n",
       "      <td>0</td>\n",
       "      <td>0</td>\n",
       "      <td>150</td>\n",
       "      <td>128.0</td>\n",
       "      <td>22.0</td>\n",
       "      <td>0</td>\n",
       "      <td>0.0</td>\n",
       "      <td>0.0</td>\n",
       "    </tr>\n",
       "    <tr>\n",
       "      <th>3</th>\n",
       "      <td>199004</td>\n",
       "      <td>5302</td>\n",
       "      <td>4963</td>\n",
       "      <td>339</td>\n",
       "      <td>0</td>\n",
       "      <td>0</td>\n",
       "      <td>0</td>\n",
       "      <td>124</td>\n",
       "      <td>96.0</td>\n",
       "      <td>28.0</td>\n",
       "      <td>0</td>\n",
       "      <td>0.0</td>\n",
       "      <td>0.0</td>\n",
       "    </tr>\n",
       "    <tr>\n",
       "      <th>4</th>\n",
       "      <td>199005</td>\n",
       "      <td>6466</td>\n",
       "      <td>6039</td>\n",
       "      <td>427</td>\n",
       "      <td>0</td>\n",
       "      <td>0</td>\n",
       "      <td>0</td>\n",
       "      <td>187</td>\n",
       "      <td>148.0</td>\n",
       "      <td>39.0</td>\n",
       "      <td>0</td>\n",
       "      <td>0.0</td>\n",
       "      <td>0.0</td>\n",
       "    </tr>\n",
       "  </tbody>\n",
       "</table>\n",
       "</div>"
      ],
      "text/plain": [
       "   YYYYMM  Total: New  PetrolOnly: New  DieselOnly: New  BEV: New  \\\n",
       "0  199001        5733             5394              339         0   \n",
       "1  199002        5246             4990              255         0   \n",
       "2  199003        6007             5646              360         1   \n",
       "3  199004        5302             4963              339         0   \n",
       "4  199005        6466             6039              427         0   \n",
       "\n",
       "   Non-plugin hybrid: New  Plugin hybrid: New  Total: Used  PetrolOnly: Used  \\\n",
       "0                       0                   0          165             136.0   \n",
       "1                       0                   0          150             118.0   \n",
       "2                       0                   0          150             128.0   \n",
       "3                       0                   0          124              96.0   \n",
       "4                       0                   0          187             148.0   \n",
       "\n",
       "   DieselOnly: Used  BEV: Used  Non-plugin hybrid: Used  Plugin hybrid: Used  \n",
       "0              29.0          0                      0.0                  0.0  \n",
       "1              32.0          0                      0.0                  0.0  \n",
       "2              22.0          0                      0.0                  0.0  \n",
       "3              28.0          0                      0.0                  0.0  \n",
       "4              39.0          0                      0.0                  0.0  "
      ]
     },
     "metadata": {},
     "output_type": "display_data"
    },
    {
     "data": {
      "text/html": [
       "<div>\n",
       "<style scoped>\n",
       "    .dataframe tbody tr th:only-of-type {\n",
       "        vertical-align: middle;\n",
       "    }\n",
       "\n",
       "    .dataframe tbody tr th {\n",
       "        vertical-align: top;\n",
       "    }\n",
       "\n",
       "    .dataframe thead th {\n",
       "        text-align: right;\n",
       "    }\n",
       "</style>\n",
       "<table border=\"1\" class=\"dataframe\">\n",
       "  <thead>\n",
       "    <tr style=\"text-align: right;\">\n",
       "      <th></th>\n",
       "      <th>Year</th>\n",
       "      <th>PetrolOnly: New</th>\n",
       "      <th>DieselOnly: New</th>\n",
       "      <th>BEV: New</th>\n",
       "      <th>Non-plugin hybrid: New</th>\n",
       "      <th>Plugin hybrid: New</th>\n",
       "      <th>Total: New</th>\n",
       "    </tr>\n",
       "  </thead>\n",
       "  <tbody>\n",
       "    <tr>\n",
       "      <th>0</th>\n",
       "      <td>2016</td>\n",
       "      <td>224855100</td>\n",
       "      <td>0</td>\n",
       "      <td>280300</td>\n",
       "      <td>3487600</td>\n",
       "      <td>254000</td>\n",
       "      <td>224855100</td>\n",
       "    </tr>\n",
       "    <tr>\n",
       "      <th>1</th>\n",
       "      <td>2017</td>\n",
       "      <td>227415700</td>\n",
       "      <td>0</td>\n",
       "      <td>377100</td>\n",
       "      <td>3691400</td>\n",
       "      <td>344600</td>\n",
       "      <td>227415700</td>\n",
       "    </tr>\n",
       "    <tr>\n",
       "      <th>2</th>\n",
       "      <td>2018</td>\n",
       "      <td>229074100</td>\n",
       "      <td>0</td>\n",
       "      <td>572600</td>\n",
       "      <td>3781100</td>\n",
       "      <td>461300</td>\n",
       "      <td>229074100</td>\n",
       "    </tr>\n",
       "    <tr>\n",
       "      <th>3</th>\n",
       "      <td>2019</td>\n",
       "      <td>231358800</td>\n",
       "      <td>0</td>\n",
       "      <td>783600</td>\n",
       "      <td>3976300</td>\n",
       "      <td>536600</td>\n",
       "      <td>231358800</td>\n",
       "    </tr>\n",
       "    <tr>\n",
       "      <th>4</th>\n",
       "      <td>2020</td>\n",
       "      <td>231992200</td>\n",
       "      <td>0</td>\n",
       "      <td>1018900</td>\n",
       "      <td>4219300</td>\n",
       "      <td>594400</td>\n",
       "      <td>231992200</td>\n",
       "    </tr>\n",
       "  </tbody>\n",
       "</table>\n",
       "</div>"
      ],
      "text/plain": [
       "   Year  PetrolOnly: New  DieselOnly: New  BEV: New  Non-plugin hybrid: New  \\\n",
       "0  2016        224855100                0    280300                 3487600   \n",
       "1  2017        227415700                0    377100                 3691400   \n",
       "2  2018        229074100                0    572600                 3781100   \n",
       "3  2019        231358800                0    783600                 3976300   \n",
       "4  2020        231992200                0   1018900                 4219300   \n",
       "\n",
       "   Plugin hybrid: New  Total: New  \n",
       "0              254000   224855100  \n",
       "1              344600   227415700  \n",
       "2              461300   229074100  \n",
       "3              536600   231358800  \n",
       "4              594400   231992200  "
      ]
     },
     "metadata": {},
     "output_type": "display_data"
    }
   ],
   "source": [
    "import pandas as pd\n",
    "# Load Germany dataset\n",
    "germany_df = pd.read_csv(\"data/Germany_Fahrzeugzulassungen.csv\")\n",
    "\n",
    "# Load Norway dataset\n",
    "norway_df = pd.read_csv(\"data/Norway_Statensvegvesen.csv\")\n",
    "\n",
    "# Load US dataset (from your earlier structured table)\n",
    "us_df = pd.read_csv(\"data/US_Afdcenergy.csv\")\n",
    "\n",
    "# Preview all\n",
    "display(germany_df.head())\n",
    "display(norway_df.head())\n",
    "display(us_df.head())\n"
   ]
  },
  {
   "cell_type": "markdown",
   "id": "d6dc8573",
   "metadata": {},
   "source": [
    "## Data Cleaning & Preprocessing "
   ]
  },
  {
   "cell_type": "markdown",
   "id": "2ebdc292",
   "metadata": {},
   "source": [
    "#### Germany"
   ]
  },
  {
   "cell_type": "code",
   "execution_count": 2,
   "id": "fe839707",
   "metadata": {},
   "outputs": [
    {
     "name": "stdout",
     "output_type": "stream",
     "text": [
      "Year range: 2005 to 2024\n"
     ]
    }
   ],
   "source": [
    "# Step 1: Check date range\n",
    "print(\"Year range:\", germany_df[\"Year\"].min(), \"to\", germany_df[\"Year\"].max())"
   ]
  },
  {
   "cell_type": "code",
   "execution_count": 3,
   "id": "7499021b",
   "metadata": {},
   "outputs": [],
   "source": [
    "#Step 2: Drop rows with missing critical values\n",
    "germany_df = germany_df.dropna(subset=[\n",
    "    \"Benzin\", \"Diesel\", \"LPG (einschl. bivalent)\",\n",
    "    \"CNG (einschl. bivalent)\", \"BEV\"\n",
    "])"
   ]
  },
  {
   "cell_type": "code",
   "execution_count": 4,
   "id": "b42745b4",
   "metadata": {},
   "outputs": [],
   "source": [
    "# Step 3: Create clean simplified structure (keep original column names for now)\n",
    "germany_simple = pd.DataFrame()\n",
    "germany_simple[\"Year\"] = germany_df[\"Year\"]\n",
    "germany_simple[\"EV\"] = germany_df[\"BEV\"]\n",
    "germany_simple[\"FossilFuel\"] = (\n",
    "    germany_df[\"Benzin\"] +\n",
    "    germany_df[\"Diesel\"] +\n",
    "    germany_df[\"LPG (einschl. bivalent)\"] +\n",
    "    germany_df[\"CNG (einschl. bivalent)\"]\n",
    ")\n",
    "germany_simple[\"Total\"] = germany_simple[\"EV\"] + germany_simple[\"FossilFuel\"]\n"
   ]
  },
  {
   "cell_type": "code",
   "execution_count": 5,
   "id": "25dc4f25",
   "metadata": {},
   "outputs": [
    {
     "name": "stdout",
     "output_type": "stream",
     "text": [
      "\n",
      "Missing values per column:\n",
      "Year          0\n",
      "EV            0\n",
      "FossilFuel    0\n",
      "Total         0\n",
      "dtype: int64\n"
     ]
    }
   ],
   "source": [
    "# Sanity check for missing values in the new DataFrame\n",
    "print(\"\\nMissing values per column:\")\n",
    "print(germany_simple.isna().sum())\n"
   ]
  },
  {
   "cell_type": "code",
   "execution_count": 6,
   "id": "ccbae1e6",
   "metadata": {},
   "outputs": [
    {
     "data": {
      "text/html": [
       "<div>\n",
       "<style scoped>\n",
       "    .dataframe tbody tr th:only-of-type {\n",
       "        vertical-align: middle;\n",
       "    }\n",
       "\n",
       "    .dataframe tbody tr th {\n",
       "        vertical-align: top;\n",
       "    }\n",
       "\n",
       "    .dataframe thead th {\n",
       "        text-align: right;\n",
       "    }\n",
       "</style>\n",
       "<table border=\"1\" class=\"dataframe\">\n",
       "  <thead>\n",
       "    <tr style=\"text-align: right;\">\n",
       "      <th></th>\n",
       "      <th>Year</th>\n",
       "      <th>EV</th>\n",
       "      <th>FossilFuel</th>\n",
       "      <th>Total</th>\n",
       "    </tr>\n",
       "  </thead>\n",
       "  <tbody>\n",
       "    <tr>\n",
       "      <th>0</th>\n",
       "      <td>2005</td>\n",
       "      <td>47</td>\n",
       "      <td>3338199</td>\n",
       "      <td>3338246</td>\n",
       "    </tr>\n",
       "    <tr>\n",
       "      <th>1</th>\n",
       "      <td>2006</td>\n",
       "      <td>19</td>\n",
       "      <td>3462479</td>\n",
       "      <td>3462498</td>\n",
       "    </tr>\n",
       "    <tr>\n",
       "      <th>2</th>\n",
       "      <td>2007</td>\n",
       "      <td>8</td>\n",
       "      <td>3140469</td>\n",
       "      <td>3140477</td>\n",
       "    </tr>\n",
       "    <tr>\n",
       "      <th>3</th>\n",
       "      <td>2008</td>\n",
       "      <td>36</td>\n",
       "      <td>3083500</td>\n",
       "      <td>3083536</td>\n",
       "    </tr>\n",
       "    <tr>\n",
       "      <th>4</th>\n",
       "      <td>2009</td>\n",
       "      <td>162</td>\n",
       "      <td>3798545</td>\n",
       "      <td>3798707</td>\n",
       "    </tr>\n",
       "  </tbody>\n",
       "</table>\n",
       "</div>"
      ],
      "text/plain": [
       "   Year   EV  FossilFuel    Total\n",
       "0  2005   47     3338199  3338246\n",
       "1  2006   19     3462479  3462498\n",
       "2  2007    8     3140469  3140477\n",
       "3  2008   36     3083500  3083536\n",
       "4  2009  162     3798545  3798707"
      ]
     },
     "execution_count": 6,
     "metadata": {},
     "output_type": "execute_result"
    }
   ],
   "source": [
    "# Preview the result\n",
    "germany_simple.head()"
   ]
  },
  {
   "cell_type": "markdown",
   "id": "f04dc600",
   "metadata": {},
   "source": [
    "#### Norway"
   ]
  },
  {
   "cell_type": "code",
   "execution_count": 7,
   "id": "f44e9cbb",
   "metadata": {},
   "outputs": [],
   "source": [
    "# Step 1: Extract Year from YYYYMM\n",
    "norway_df = norway_df.copy()\n",
    "norway_df[\"Year\"] = norway_df[\"YYYYMM\"] // 100"
   ]
  },
  {
   "cell_type": "code",
   "execution_count": 8,
   "id": "9e9652f5",
   "metadata": {},
   "outputs": [],
   "source": [
    "# Step 2: Group by Year (sum across months)\n",
    "norway_yearly = norway_df.groupby(\"Year\").sum().reset_index()"
   ]
  },
  {
   "cell_type": "code",
   "execution_count": 9,
   "id": "98abf8df",
   "metadata": {},
   "outputs": [
    {
     "name": "stdout",
     "output_type": "stream",
     "text": [
      "Year range: 1990 to 2025\n"
     ]
    }
   ],
   "source": [
    "print(\"Year range:\", norway_df[\"Year\"].min(), \"to\", norway_df[\"Year\"].max())"
   ]
  },
  {
   "cell_type": "code",
   "execution_count": 10,
   "id": "9bd2022f",
   "metadata": {},
   "outputs": [],
   "source": [
    "# Step 3: Create simplified structure\n",
    "norway_simple = pd.DataFrame()\n",
    "norway_simple[\"Year\"] = norway_yearly[\"Year\"]\n",
    "norway_simple[\"EV\"] = norway_yearly[\"BEV: New\"]\n",
    "norway_simple[\"FossilFuel\"] = norway_yearly[\"PetrolOnly: New\"] + norway_yearly[\"DieselOnly: New\"]\n",
    "norway_simple[\"Total\"] = norway_simple[\"EV\"] + norway_simple[\"FossilFuel\"]\n"
   ]
  },
  {
   "cell_type": "code",
   "execution_count": 11,
   "id": "f30d93e5",
   "metadata": {},
   "outputs": [
    {
     "name": "stdout",
     "output_type": "stream",
     "text": [
      "\n",
      "Missing values:\n",
      "Year          0\n",
      "EV            0\n",
      "FossilFuel    0\n",
      "Total         0\n",
      "dtype: int64\n"
     ]
    }
   ],
   "source": [
    "# Step 4: Preview and sanity check\n",
    "print(\"\\nMissing values:\")\n",
    "print(norway_simple.isna().sum())"
   ]
  },
  {
   "cell_type": "code",
   "execution_count": 12,
   "id": "83f65221",
   "metadata": {},
   "outputs": [
    {
     "data": {
      "text/html": [
       "<div>\n",
       "<style scoped>\n",
       "    .dataframe tbody tr th:only-of-type {\n",
       "        vertical-align: middle;\n",
       "    }\n",
       "\n",
       "    .dataframe tbody tr th {\n",
       "        vertical-align: top;\n",
       "    }\n",
       "\n",
       "    .dataframe thead th {\n",
       "        text-align: right;\n",
       "    }\n",
       "</style>\n",
       "<table border=\"1\" class=\"dataframe\">\n",
       "  <thead>\n",
       "    <tr style=\"text-align: right;\">\n",
       "      <th></th>\n",
       "      <th>Year</th>\n",
       "      <th>EV</th>\n",
       "      <th>FossilFuel</th>\n",
       "      <th>Total</th>\n",
       "    </tr>\n",
       "  </thead>\n",
       "  <tbody>\n",
       "    <tr>\n",
       "      <th>0</th>\n",
       "      <td>1990</td>\n",
       "      <td>2</td>\n",
       "      <td>66549</td>\n",
       "      <td>66551</td>\n",
       "    </tr>\n",
       "    <tr>\n",
       "      <th>1</th>\n",
       "      <td>1991</td>\n",
       "      <td>0</td>\n",
       "      <td>57775</td>\n",
       "      <td>57775</td>\n",
       "    </tr>\n",
       "    <tr>\n",
       "      <th>2</th>\n",
       "      <td>1992</td>\n",
       "      <td>42</td>\n",
       "      <td>66381</td>\n",
       "      <td>66423</td>\n",
       "    </tr>\n",
       "    <tr>\n",
       "      <th>3</th>\n",
       "      <td>1993</td>\n",
       "      <td>13</td>\n",
       "      <td>69167</td>\n",
       "      <td>69180</td>\n",
       "    </tr>\n",
       "    <tr>\n",
       "      <th>4</th>\n",
       "      <td>1994</td>\n",
       "      <td>20</td>\n",
       "      <td>93997</td>\n",
       "      <td>94017</td>\n",
       "    </tr>\n",
       "  </tbody>\n",
       "</table>\n",
       "</div>"
      ],
      "text/plain": [
       "   Year  EV  FossilFuel  Total\n",
       "0  1990   2       66549  66551\n",
       "1  1991   0       57775  57775\n",
       "2  1992  42       66381  66423\n",
       "3  1993  13       69167  69180\n",
       "4  1994  20       93997  94017"
      ]
     },
     "execution_count": 12,
     "metadata": {},
     "output_type": "execute_result"
    }
   ],
   "source": [
    "norway_simple.head()"
   ]
  },
  {
   "cell_type": "markdown",
   "id": "19b44176",
   "metadata": {},
   "source": [
    "#### United states of America (USA)"
   ]
  },
  {
   "cell_type": "code",
   "execution_count": 13,
   "id": "450c7c7e",
   "metadata": {},
   "outputs": [
    {
     "name": "stdout",
     "output_type": "stream",
     "text": [
      "Year range: 2016 to 2023\n"
     ]
    }
   ],
   "source": [
    "# Step 1: Check date range\n",
    "print(\"Year range:\", us_df[\"Year\"].min(), \"to\", us_df[\"Year\"].max())"
   ]
  },
  {
   "cell_type": "code",
   "execution_count": 14,
   "id": "06067b3b",
   "metadata": {},
   "outputs": [],
   "source": [
    "# Step 2: Create simplified structure\n",
    "us_simple = pd.DataFrame()\n",
    "us_simple[\"Year\"] = us_df[\"Year\"]\n",
    "us_simple[\"EV\"] = us_df[\"BEV: New\"]\n",
    "us_simple[\"FossilFuel\"] = us_df[\"PetrolOnly: New\"] + us_df[\"DieselOnly: New\"]\n",
    "us_simple[\"Total\"] = us_simple[\"EV\"] + us_simple[\"FossilFuel\"]\n"
   ]
  },
  {
   "cell_type": "code",
   "execution_count": 15,
   "id": "4815b8e3",
   "metadata": {},
   "outputs": [
    {
     "name": "stdout",
     "output_type": "stream",
     "text": [
      "\n",
      "Missing values:\n",
      "Year          0\n",
      "EV            0\n",
      "FossilFuel    0\n",
      "Total         0\n",
      "dtype: int64\n"
     ]
    }
   ],
   "source": [
    "# Step 3: Preview and sanity check\n",
    "print(\"\\nMissing values:\")\n",
    "print(us_simple.isna().sum())"
   ]
  },
  {
   "cell_type": "code",
   "execution_count": 16,
   "id": "43bf1da7",
   "metadata": {},
   "outputs": [
    {
     "data": {
      "text/html": [
       "<div>\n",
       "<style scoped>\n",
       "    .dataframe tbody tr th:only-of-type {\n",
       "        vertical-align: middle;\n",
       "    }\n",
       "\n",
       "    .dataframe tbody tr th {\n",
       "        vertical-align: top;\n",
       "    }\n",
       "\n",
       "    .dataframe thead th {\n",
       "        text-align: right;\n",
       "    }\n",
       "</style>\n",
       "<table border=\"1\" class=\"dataframe\">\n",
       "  <thead>\n",
       "    <tr style=\"text-align: right;\">\n",
       "      <th></th>\n",
       "      <th>Year</th>\n",
       "      <th>EV</th>\n",
       "      <th>FossilFuel</th>\n",
       "      <th>Total</th>\n",
       "    </tr>\n",
       "  </thead>\n",
       "  <tbody>\n",
       "    <tr>\n",
       "      <th>0</th>\n",
       "      <td>2016</td>\n",
       "      <td>280300</td>\n",
       "      <td>224855100</td>\n",
       "      <td>225135400</td>\n",
       "    </tr>\n",
       "    <tr>\n",
       "      <th>1</th>\n",
       "      <td>2017</td>\n",
       "      <td>377100</td>\n",
       "      <td>227415700</td>\n",
       "      <td>227792800</td>\n",
       "    </tr>\n",
       "    <tr>\n",
       "      <th>2</th>\n",
       "      <td>2018</td>\n",
       "      <td>572600</td>\n",
       "      <td>229074100</td>\n",
       "      <td>229646700</td>\n",
       "    </tr>\n",
       "    <tr>\n",
       "      <th>3</th>\n",
       "      <td>2019</td>\n",
       "      <td>783600</td>\n",
       "      <td>231358800</td>\n",
       "      <td>232142400</td>\n",
       "    </tr>\n",
       "    <tr>\n",
       "      <th>4</th>\n",
       "      <td>2020</td>\n",
       "      <td>1018900</td>\n",
       "      <td>231992200</td>\n",
       "      <td>233011100</td>\n",
       "    </tr>\n",
       "  </tbody>\n",
       "</table>\n",
       "</div>"
      ],
      "text/plain": [
       "   Year       EV  FossilFuel      Total\n",
       "0  2016   280300   224855100  225135400\n",
       "1  2017   377100   227415700  227792800\n",
       "2  2018   572600   229074100  229646700\n",
       "3  2019   783600   231358800  232142400\n",
       "4  2020  1018900   231992200  233011100"
      ]
     },
     "execution_count": 16,
     "metadata": {},
     "output_type": "execute_result"
    }
   ],
   "source": [
    "us_simple.head()"
   ]
  },
  {
   "cell_type": "code",
   "execution_count": 17,
   "id": "7fd6aa37",
   "metadata": {},
   "outputs": [],
   "source": [
    "norway_filtered = norway_simple[(norway_simple['Year'] >= 2016) & (norway_simple['Year'] <= 2023)]"
   ]
  },
  {
   "cell_type": "code",
   "execution_count": 18,
   "id": "88ae0294",
   "metadata": {},
   "outputs": [],
   "source": [
    "germany_filtered = germany_simple[(germany_simple['Year'] >= 2016) & (germany_simple['Year'] <= 2023)]"
   ]
  },
  {
   "cell_type": "code",
   "execution_count": 19,
   "id": "ec4e2193",
   "metadata": {},
   "outputs": [],
   "source": [
    "us_filtered = us_simple[(us_simple['Year'] >= 2016) & (us_simple['Year'] <= 2023)]"
   ]
  },
  {
   "cell_type": "code",
   "execution_count": 20,
   "id": "c9bf04fe",
   "metadata": {},
   "outputs": [
    {
     "name": "stderr",
     "output_type": "stream",
     "text": [
      "/var/folders/wj/zqspx8r57nn98fzn3y89drcw0000gn/T/ipykernel_55027/4148838808.py:2: SettingWithCopyWarning: \n",
      "A value is trying to be set on a copy of a slice from a DataFrame.\n",
      "Try using .loc[row_indexer,col_indexer] = value instead\n",
      "\n",
      "See the caveats in the documentation: https://pandas.pydata.org/pandas-docs/stable/user_guide/indexing.html#returning-a-view-versus-a-copy\n",
      "  norway_filtered['country'] = 'Norway'\n",
      "/var/folders/wj/zqspx8r57nn98fzn3y89drcw0000gn/T/ipykernel_55027/4148838808.py:3: SettingWithCopyWarning: \n",
      "A value is trying to be set on a copy of a slice from a DataFrame.\n",
      "Try using .loc[row_indexer,col_indexer] = value instead\n",
      "\n",
      "See the caveats in the documentation: https://pandas.pydata.org/pandas-docs/stable/user_guide/indexing.html#returning-a-view-versus-a-copy\n",
      "  germany_filtered['country'] = 'Germany'\n"
     ]
    }
   ],
   "source": [
    "us_filtered['country'] = 'USA'\n",
    "norway_filtered['country'] = 'Norway'\n",
    "germany_filtered['country'] = 'Germany'"
   ]
  },
  {
   "cell_type": "code",
   "execution_count": 21,
   "id": "27f45221",
   "metadata": {},
   "outputs": [],
   "source": [
    "df = pd.concat([us_filtered, norway_filtered, germany_filtered], ignore_index=True)"
   ]
  },
  {
   "cell_type": "code",
   "execution_count": 22,
   "id": "f5b1e8bd",
   "metadata": {},
   "outputs": [],
   "source": [
    "df['EV_share'] = df['EV'] / df['Total']\n",
    "df['FossilFuel_share'] = df['FossilFuel'] / df['Total']"
   ]
  },
  {
   "cell_type": "code",
   "execution_count": 23,
   "id": "7c86c261",
   "metadata": {},
   "outputs": [
    {
     "data": {
      "text/html": [
       "<div>\n",
       "<style scoped>\n",
       "    .dataframe tbody tr th:only-of-type {\n",
       "        vertical-align: middle;\n",
       "    }\n",
       "\n",
       "    .dataframe tbody tr th {\n",
       "        vertical-align: top;\n",
       "    }\n",
       "\n",
       "    .dataframe thead th {\n",
       "        text-align: right;\n",
       "    }\n",
       "</style>\n",
       "<table border=\"1\" class=\"dataframe\">\n",
       "  <thead>\n",
       "    <tr style=\"text-align: right;\">\n",
       "      <th></th>\n",
       "      <th>Year</th>\n",
       "      <th>EV</th>\n",
       "      <th>FossilFuel</th>\n",
       "      <th>Total</th>\n",
       "      <th>country</th>\n",
       "      <th>EV_share</th>\n",
       "      <th>FossilFuel_share</th>\n",
       "    </tr>\n",
       "  </thead>\n",
       "  <tbody>\n",
       "    <tr>\n",
       "      <th>0</th>\n",
       "      <td>2016</td>\n",
       "      <td>280300</td>\n",
       "      <td>224855100</td>\n",
       "      <td>225135400</td>\n",
       "      <td>USA</td>\n",
       "      <td>0.001245</td>\n",
       "      <td>0.998755</td>\n",
       "    </tr>\n",
       "    <tr>\n",
       "      <th>9</th>\n",
       "      <td>2017</td>\n",
       "      <td>32786</td>\n",
       "      <td>78861</td>\n",
       "      <td>111647</td>\n",
       "      <td>Norway</td>\n",
       "      <td>0.293658</td>\n",
       "      <td>0.706342</td>\n",
       "    </tr>\n",
       "    <tr>\n",
       "      <th>7</th>\n",
       "      <td>2023</td>\n",
       "      <td>3555900</td>\n",
       "      <td>242870900</td>\n",
       "      <td>246426800</td>\n",
       "      <td>USA</td>\n",
       "      <td>0.014430</td>\n",
       "      <td>0.985570</td>\n",
       "    </tr>\n",
       "    <tr>\n",
       "      <th>21</th>\n",
       "      <td>2021</td>\n",
       "      <td>355961</td>\n",
       "      <td>1511068</td>\n",
       "      <td>1867029</td>\n",
       "      <td>Germany</td>\n",
       "      <td>0.190656</td>\n",
       "      <td>0.809344</td>\n",
       "    </tr>\n",
       "    <tr>\n",
       "      <th>19</th>\n",
       "      <td>2019</td>\n",
       "      <td>63281</td>\n",
       "      <td>3304503</td>\n",
       "      <td>3367784</td>\n",
       "      <td>Germany</td>\n",
       "      <td>0.018790</td>\n",
       "      <td>0.981210</td>\n",
       "    </tr>\n",
       "    <tr>\n",
       "      <th>3</th>\n",
       "      <td>2019</td>\n",
       "      <td>783600</td>\n",
       "      <td>231358800</td>\n",
       "      <td>232142400</td>\n",
       "      <td>USA</td>\n",
       "      <td>0.003376</td>\n",
       "      <td>0.996624</td>\n",
       "    </tr>\n",
       "    <tr>\n",
       "      <th>16</th>\n",
       "      <td>2016</td>\n",
       "      <td>11410</td>\n",
       "      <td>3292134</td>\n",
       "      <td>3303544</td>\n",
       "      <td>Germany</td>\n",
       "      <td>0.003454</td>\n",
       "      <td>0.996546</td>\n",
       "    </tr>\n",
       "    <tr>\n",
       "      <th>20</th>\n",
       "      <td>2020</td>\n",
       "      <td>194163</td>\n",
       "      <td>2195321</td>\n",
       "      <td>2389484</td>\n",
       "      <td>Germany</td>\n",
       "      <td>0.081257</td>\n",
       "      <td>0.918743</td>\n",
       "    </tr>\n",
       "    <tr>\n",
       "      <th>23</th>\n",
       "      <td>2023</td>\n",
       "      <td>524219</td>\n",
       "      <td>1479715</td>\n",
       "      <td>2003934</td>\n",
       "      <td>Germany</td>\n",
       "      <td>0.261595</td>\n",
       "      <td>0.738405</td>\n",
       "    </tr>\n",
       "    <tr>\n",
       "      <th>1</th>\n",
       "      <td>2017</td>\n",
       "      <td>377100</td>\n",
       "      <td>227415700</td>\n",
       "      <td>227792800</td>\n",
       "      <td>USA</td>\n",
       "      <td>0.001655</td>\n",
       "      <td>0.998345</td>\n",
       "    </tr>\n",
       "  </tbody>\n",
       "</table>\n",
       "</div>"
      ],
      "text/plain": [
       "    Year       EV  FossilFuel      Total  country  EV_share  FossilFuel_share\n",
       "0   2016   280300   224855100  225135400      USA  0.001245          0.998755\n",
       "9   2017    32786       78861     111647   Norway  0.293658          0.706342\n",
       "7   2023  3555900   242870900  246426800      USA  0.014430          0.985570\n",
       "21  2021   355961     1511068    1867029  Germany  0.190656          0.809344\n",
       "19  2019    63281     3304503    3367784  Germany  0.018790          0.981210\n",
       "3   2019   783600   231358800  232142400      USA  0.003376          0.996624\n",
       "16  2016    11410     3292134    3303544  Germany  0.003454          0.996546\n",
       "20  2020   194163     2195321    2389484  Germany  0.081257          0.918743\n",
       "23  2023   524219     1479715    2003934  Germany  0.261595          0.738405\n",
       "1   2017   377100   227415700  227792800      USA  0.001655          0.998345"
      ]
     },
     "execution_count": 23,
     "metadata": {},
     "output_type": "execute_result"
    }
   ],
   "source": [
    "df.sample(n=10)\n"
   ]
  },
  {
   "cell_type": "code",
   "execution_count": 24,
   "id": "9497be81",
   "metadata": {},
   "outputs": [
    {
     "data": {
      "text/html": [
       "<div>\n",
       "<style scoped>\n",
       "    .dataframe tbody tr th:only-of-type {\n",
       "        vertical-align: middle;\n",
       "    }\n",
       "\n",
       "    .dataframe tbody tr th {\n",
       "        vertical-align: top;\n",
       "    }\n",
       "\n",
       "    .dataframe thead th {\n",
       "        text-align: right;\n",
       "    }\n",
       "</style>\n",
       "<table border=\"1\" class=\"dataframe\">\n",
       "  <thead>\n",
       "    <tr style=\"text-align: right;\">\n",
       "      <th></th>\n",
       "      <th>Year</th>\n",
       "      <th>country</th>\n",
       "      <th>FuelType</th>\n",
       "      <th>VehicleCount</th>\n",
       "    </tr>\n",
       "  </thead>\n",
       "  <tbody>\n",
       "    <tr>\n",
       "      <th>9</th>\n",
       "      <td>2017</td>\n",
       "      <td>Norway</td>\n",
       "      <td>EV</td>\n",
       "      <td>32786</td>\n",
       "    </tr>\n",
       "    <tr>\n",
       "      <th>20</th>\n",
       "      <td>2020</td>\n",
       "      <td>Germany</td>\n",
       "      <td>EV</td>\n",
       "      <td>194163</td>\n",
       "    </tr>\n",
       "    <tr>\n",
       "      <th>31</th>\n",
       "      <td>2023</td>\n",
       "      <td>USA</td>\n",
       "      <td>FossilFuel</td>\n",
       "      <td>242870900</td>\n",
       "    </tr>\n",
       "    <tr>\n",
       "      <th>21</th>\n",
       "      <td>2021</td>\n",
       "      <td>Germany</td>\n",
       "      <td>EV</td>\n",
       "      <td>355961</td>\n",
       "    </tr>\n",
       "    <tr>\n",
       "      <th>33</th>\n",
       "      <td>2017</td>\n",
       "      <td>Norway</td>\n",
       "      <td>FossilFuel</td>\n",
       "      <td>78861</td>\n",
       "    </tr>\n",
       "    <tr>\n",
       "      <th>7</th>\n",
       "      <td>2023</td>\n",
       "      <td>USA</td>\n",
       "      <td>EV</td>\n",
       "      <td>3555900</td>\n",
       "    </tr>\n",
       "    <tr>\n",
       "      <th>5</th>\n",
       "      <td>2021</td>\n",
       "      <td>USA</td>\n",
       "      <td>EV</td>\n",
       "      <td>1454400</td>\n",
       "    </tr>\n",
       "    <tr>\n",
       "      <th>10</th>\n",
       "      <td>2018</td>\n",
       "      <td>Norway</td>\n",
       "      <td>EV</td>\n",
       "      <td>45981</td>\n",
       "    </tr>\n",
       "    <tr>\n",
       "      <th>27</th>\n",
       "      <td>2019</td>\n",
       "      <td>USA</td>\n",
       "      <td>FossilFuel</td>\n",
       "      <td>231358800</td>\n",
       "    </tr>\n",
       "    <tr>\n",
       "      <th>16</th>\n",
       "      <td>2016</td>\n",
       "      <td>Germany</td>\n",
       "      <td>EV</td>\n",
       "      <td>11410</td>\n",
       "    </tr>\n",
       "  </tbody>\n",
       "</table>\n",
       "</div>"
      ],
      "text/plain": [
       "    Year  country    FuelType  VehicleCount\n",
       "9   2017   Norway          EV         32786\n",
       "20  2020  Germany          EV        194163\n",
       "31  2023      USA  FossilFuel     242870900\n",
       "21  2021  Germany          EV        355961\n",
       "33  2017   Norway  FossilFuel         78861\n",
       "7   2023      USA          EV       3555900\n",
       "5   2021      USA          EV       1454400\n",
       "10  2018   Norway          EV         45981\n",
       "27  2019      USA  FossilFuel     231358800\n",
       "16  2016  Germany          EV         11410"
      ]
     },
     "execution_count": 24,
     "metadata": {},
     "output_type": "execute_result"
    }
   ],
   "source": [
    "df_long = df.melt(id_vars=['Year', 'country'], \n",
    "                  value_vars=['EV', 'FossilFuel'], \n",
    "                  var_name='FuelType', \n",
    "                  value_name='VehicleCount')\n",
    "\n",
    "df_long.sample(n=10)\n"
   ]
  },
  {
   "cell_type": "code",
   "execution_count": 25,
   "id": "a09a38fa",
   "metadata": {},
   "outputs": [
    {
     "data": {
      "text/plain": [
       "0"
      ]
     },
     "execution_count": 25,
     "metadata": {},
     "output_type": "execute_result"
    }
   ],
   "source": [
    "# Sanity check\n",
    "df.isnull().sum()\n",
    "df.duplicated().sum()\n"
   ]
  },
  {
   "cell_type": "code",
   "execution_count": 26,
   "id": "a0dd51ba",
   "metadata": {},
   "outputs": [
    {
     "data": {
      "text/plain": [
       "country\n",
       "USA        8\n",
       "Norway     8\n",
       "Germany    8\n",
       "Name: count, dtype: int64"
      ]
     },
     "execution_count": 26,
     "metadata": {},
     "output_type": "execute_result"
    }
   ],
   "source": [
    "df['country'].value_counts()"
   ]
  },
  {
   "cell_type": "code",
   "execution_count": 27,
   "id": "e3d4ec1a",
   "metadata": {},
   "outputs": [
    {
     "data": {
      "text/html": [
       "<div>\n",
       "<style scoped>\n",
       "    .dataframe tbody tr th:only-of-type {\n",
       "        vertical-align: middle;\n",
       "    }\n",
       "\n",
       "    .dataframe tbody tr th {\n",
       "        vertical-align: top;\n",
       "    }\n",
       "\n",
       "    .dataframe thead tr th {\n",
       "        text-align: left;\n",
       "    }\n",
       "\n",
       "    .dataframe thead tr:last-of-type th {\n",
       "        text-align: right;\n",
       "    }\n",
       "</style>\n",
       "<table border=\"1\" class=\"dataframe\">\n",
       "  <thead>\n",
       "    <tr>\n",
       "      <th></th>\n",
       "      <th colspan=\"8\" halign=\"left\">EV</th>\n",
       "      <th colspan=\"8\" halign=\"left\">FossilFuel</th>\n",
       "    </tr>\n",
       "    <tr>\n",
       "      <th></th>\n",
       "      <th>count</th>\n",
       "      <th>mean</th>\n",
       "      <th>std</th>\n",
       "      <th>min</th>\n",
       "      <th>25%</th>\n",
       "      <th>50%</th>\n",
       "      <th>75%</th>\n",
       "      <th>max</th>\n",
       "      <th>count</th>\n",
       "      <th>mean</th>\n",
       "      <th>std</th>\n",
       "      <th>min</th>\n",
       "      <th>25%</th>\n",
       "      <th>50%</th>\n",
       "      <th>75%</th>\n",
       "      <th>max</th>\n",
       "    </tr>\n",
       "    <tr>\n",
       "      <th>country</th>\n",
       "      <th></th>\n",
       "      <th></th>\n",
       "      <th></th>\n",
       "      <th></th>\n",
       "      <th></th>\n",
       "      <th></th>\n",
       "      <th></th>\n",
       "      <th></th>\n",
       "      <th></th>\n",
       "      <th></th>\n",
       "      <th></th>\n",
       "      <th></th>\n",
       "      <th></th>\n",
       "      <th></th>\n",
       "      <th></th>\n",
       "      <th></th>\n",
       "    </tr>\n",
       "  </thead>\n",
       "  <tbody>\n",
       "    <tr>\n",
       "      <th>Germany</th>\n",
       "      <td>8.0</td>\n",
       "      <td>210088.875</td>\n",
       "      <td>2.116612e+05</td>\n",
       "      <td>11410.0</td>\n",
       "      <td>33310.50</td>\n",
       "      <td>128722.0</td>\n",
       "      <td>384610.50</td>\n",
       "      <td>524219.0</td>\n",
       "      <td>8.0</td>\n",
       "      <td>2466999.5</td>\n",
       "      <td>9.240750e+05</td>\n",
       "      <td>1352571.0</td>\n",
       "      <td>1.503230e+06</td>\n",
       "      <td>2732309.0</td>\n",
       "      <td>3.295226e+06</td>\n",
       "      <td>3331387.0</td>\n",
       "    </tr>\n",
       "    <tr>\n",
       "      <th>Norway</th>\n",
       "      <td>8.0</td>\n",
       "      <td>74497.750</td>\n",
       "      <td>4.106288e+04</td>\n",
       "      <td>24012.0</td>\n",
       "      <td>42682.25</td>\n",
       "      <td>68413.0</td>\n",
       "      <td>106839.25</td>\n",
       "      <td>138172.0</td>\n",
       "      <td>8.0</td>\n",
       "      <td>41719.0</td>\n",
       "      <td>3.415087e+04</td>\n",
       "      <td>5379.0</td>\n",
       "      <td>1.218275e+04</td>\n",
       "      <td>35098.0</td>\n",
       "      <td>6.648825e+04</td>\n",
       "      <td>94591.0</td>\n",
       "    </tr>\n",
       "    <tr>\n",
       "      <th>USA</th>\n",
       "      <td>8.0</td>\n",
       "      <td>1310637.500</td>\n",
       "      <td>1.145376e+06</td>\n",
       "      <td>280300.0</td>\n",
       "      <td>523725.00</td>\n",
       "      <td>901250.0</td>\n",
       "      <td>1701375.00</td>\n",
       "      <td>3555900.0</td>\n",
       "      <td>8.0</td>\n",
       "      <td>233704900.0</td>\n",
       "      <td>6.964123e+06</td>\n",
       "      <td>224855100.0</td>\n",
       "      <td>2.286595e+08</td>\n",
       "      <td>231675500.0</td>\n",
       "      <td>2.408678e+08</td>\n",
       "      <td>242870900.0</td>\n",
       "    </tr>\n",
       "  </tbody>\n",
       "</table>\n",
       "</div>"
      ],
      "text/plain": [
       "           EV                                                            \\\n",
       "        count         mean           std       min        25%       50%   \n",
       "country                                                                   \n",
       "Germany   8.0   210088.875  2.116612e+05   11410.0   33310.50  128722.0   \n",
       "Norway    8.0    74497.750  4.106288e+04   24012.0   42682.25   68413.0   \n",
       "USA       8.0  1310637.500  1.145376e+06  280300.0  523725.00  901250.0   \n",
       "\n",
       "                               FossilFuel                             \\\n",
       "                75%        max      count         mean           std   \n",
       "country                                                                \n",
       "Germany   384610.50   524219.0        8.0    2466999.5  9.240750e+05   \n",
       "Norway    106839.25   138172.0        8.0      41719.0  3.415087e+04   \n",
       "USA      1701375.00  3555900.0        8.0  233704900.0  6.964123e+06   \n",
       "\n",
       "                                                                            \n",
       "                 min           25%          50%           75%          max  \n",
       "country                                                                     \n",
       "Germany    1352571.0  1.503230e+06    2732309.0  3.295226e+06    3331387.0  \n",
       "Norway        5379.0  1.218275e+04      35098.0  6.648825e+04      94591.0  \n",
       "USA      224855100.0  2.286595e+08  231675500.0  2.408678e+08  242870900.0  "
      ]
     },
     "execution_count": 27,
     "metadata": {},
     "output_type": "execute_result"
    }
   ],
   "source": [
    "df['Year'].value_counts().sort_index()\n",
    "df.groupby('country')[['EV', 'FossilFuel']].describe()"
   ]
  },
  {
   "cell_type": "markdown",
   "id": "2e0f0389",
   "metadata": {},
   "source": [
    "## Data Analysis"
   ]
  },
  {
   "cell_type": "markdown",
   "id": "81fa260b",
   "metadata": {},
   "source": [
    "### EV Share Over Time by Country (Line Plot)"
   ]
  },
  {
   "cell_type": "code",
   "execution_count": 28,
   "id": "2dafee1d",
   "metadata": {},
   "outputs": [
    {
     "name": "stderr",
     "output_type": "stream",
     "text": [
      "/Users/sirishapadmasekhar/Desktop/Mobility Modelling/myenv/lib/python3.9/site-packages/plotly/express/_core.py:2065: FutureWarning: When grouping with a length-1 list-like, you will need to pass a length-1 tuple to get_group in a future version of pandas. Pass `(name,)` instead of `name` to silence this warning.\n",
      "  sf: grouped.get_group(s if len(s) > 1 else s[0])\n"
     ]
    },
    {
     "data": {
      "application/vnd.plotly.v1+json": {
       "config": {
        "plotlyServerURL": "https://plot.ly"
       },
       "data": [
        {
         "hovertemplate": "country=USA<br>Year=%{x}<br>EV Share (Fraction)=%{y}<extra></extra>",
         "legendgroup": "USA",
         "line": {
          "color": "#636efa",
          "dash": "solid"
         },
         "marker": {
          "symbol": "circle"
         },
         "mode": "markers+lines",
         "name": "USA",
         "orientation": "v",
         "showlegend": true,
         "type": "scatter",
         "x": [
          2016,
          2017,
          2018,
          2019,
          2020,
          2021,
          2022,
          2023
         ],
         "xaxis": "x",
         "y": [
          0.0012450285472653346,
          0.0016554517965449303,
          0.0024933952893727625,
          0.0033755143394743918,
          0.004372753057686952,
          0.006006097775010024,
          0.010017012885168767,
          0.014429842858000834
         ],
         "yaxis": "y"
        },
        {
         "hovertemplate": "country=Norway<br>Year=%{x}<br>EV Share (Fraction)=%{y}<extra></extra>",
         "legendgroup": "Norway",
         "line": {
          "color": "#EF553B",
          "dash": "solid"
         },
         "marker": {
          "symbol": "circle"
         },
         "mode": "markers+lines",
         "name": "Norway",
         "orientation": "v",
         "showlegend": true,
         "type": "scatter",
         "x": [
          2016,
          2017,
          2018,
          2019,
          2020,
          2021,
          2022,
          2023
         ],
         "xaxis": "x",
         "y": [
          0.20245693616518975,
          0.29365768896611644,
          0.42439429599889245,
          0.5615551965938057,
          0.7674309218097936,
          0.8960288296244894,
          0.9377256562695117,
          0.9510799872675185
         ],
         "yaxis": "y"
        },
        {
         "hovertemplate": "country=Germany<br>Year=%{x}<br>EV Share (Fraction)=%{y}<extra></extra>",
         "legendgroup": "Germany",
         "line": {
          "color": "#00cc96",
          "dash": "solid"
         },
         "marker": {
          "symbol": "circle"
         },
         "mode": "markers+lines",
         "name": "Germany",
         "orientation": "v",
         "showlegend": true,
         "type": "scatter",
         "x": [
          2016,
          2017,
          2018,
          2019,
          2020,
          2021,
          2022,
          2023
         ],
         "xaxis": "x",
         "y": [
          0.0034538665142646806,
          0.00746504558546056,
          0.01091016134707304,
          0.01879010055276704,
          0.08125729236939858,
          0.19065638509096539,
          0.2581050171957019,
          0.26159494274761547
         ],
         "yaxis": "y"
        }
       ],
       "layout": {
        "legend": {
         "title": {
          "text": "country"
         },
         "tracegroupgap": 0
        },
        "template": {
         "data": {
          "bar": [
           {
            "error_x": {
             "color": "#2a3f5f"
            },
            "error_y": {
             "color": "#2a3f5f"
            },
            "marker": {
             "line": {
              "color": "#E5ECF6",
              "width": 0.5
             },
             "pattern": {
              "fillmode": "overlay",
              "size": 10,
              "solidity": 0.2
             }
            },
            "type": "bar"
           }
          ],
          "barpolar": [
           {
            "marker": {
             "line": {
              "color": "#E5ECF6",
              "width": 0.5
             },
             "pattern": {
              "fillmode": "overlay",
              "size": 10,
              "solidity": 0.2
             }
            },
            "type": "barpolar"
           }
          ],
          "carpet": [
           {
            "aaxis": {
             "endlinecolor": "#2a3f5f",
             "gridcolor": "white",
             "linecolor": "white",
             "minorgridcolor": "white",
             "startlinecolor": "#2a3f5f"
            },
            "baxis": {
             "endlinecolor": "#2a3f5f",
             "gridcolor": "white",
             "linecolor": "white",
             "minorgridcolor": "white",
             "startlinecolor": "#2a3f5f"
            },
            "type": "carpet"
           }
          ],
          "choropleth": [
           {
            "colorbar": {
             "outlinewidth": 0,
             "ticks": ""
            },
            "type": "choropleth"
           }
          ],
          "contour": [
           {
            "colorbar": {
             "outlinewidth": 0,
             "ticks": ""
            },
            "colorscale": [
             [
              0,
              "#0d0887"
             ],
             [
              0.1111111111111111,
              "#46039f"
             ],
             [
              0.2222222222222222,
              "#7201a8"
             ],
             [
              0.3333333333333333,
              "#9c179e"
             ],
             [
              0.4444444444444444,
              "#bd3786"
             ],
             [
              0.5555555555555556,
              "#d8576b"
             ],
             [
              0.6666666666666666,
              "#ed7953"
             ],
             [
              0.7777777777777778,
              "#fb9f3a"
             ],
             [
              0.8888888888888888,
              "#fdca26"
             ],
             [
              1,
              "#f0f921"
             ]
            ],
            "type": "contour"
           }
          ],
          "contourcarpet": [
           {
            "colorbar": {
             "outlinewidth": 0,
             "ticks": ""
            },
            "type": "contourcarpet"
           }
          ],
          "heatmap": [
           {
            "colorbar": {
             "outlinewidth": 0,
             "ticks": ""
            },
            "colorscale": [
             [
              0,
              "#0d0887"
             ],
             [
              0.1111111111111111,
              "#46039f"
             ],
             [
              0.2222222222222222,
              "#7201a8"
             ],
             [
              0.3333333333333333,
              "#9c179e"
             ],
             [
              0.4444444444444444,
              "#bd3786"
             ],
             [
              0.5555555555555556,
              "#d8576b"
             ],
             [
              0.6666666666666666,
              "#ed7953"
             ],
             [
              0.7777777777777778,
              "#fb9f3a"
             ],
             [
              0.8888888888888888,
              "#fdca26"
             ],
             [
              1,
              "#f0f921"
             ]
            ],
            "type": "heatmap"
           }
          ],
          "heatmapgl": [
           {
            "colorbar": {
             "outlinewidth": 0,
             "ticks": ""
            },
            "colorscale": [
             [
              0,
              "#0d0887"
             ],
             [
              0.1111111111111111,
              "#46039f"
             ],
             [
              0.2222222222222222,
              "#7201a8"
             ],
             [
              0.3333333333333333,
              "#9c179e"
             ],
             [
              0.4444444444444444,
              "#bd3786"
             ],
             [
              0.5555555555555556,
              "#d8576b"
             ],
             [
              0.6666666666666666,
              "#ed7953"
             ],
             [
              0.7777777777777778,
              "#fb9f3a"
             ],
             [
              0.8888888888888888,
              "#fdca26"
             ],
             [
              1,
              "#f0f921"
             ]
            ],
            "type": "heatmapgl"
           }
          ],
          "histogram": [
           {
            "marker": {
             "pattern": {
              "fillmode": "overlay",
              "size": 10,
              "solidity": 0.2
             }
            },
            "type": "histogram"
           }
          ],
          "histogram2d": [
           {
            "colorbar": {
             "outlinewidth": 0,
             "ticks": ""
            },
            "colorscale": [
             [
              0,
              "#0d0887"
             ],
             [
              0.1111111111111111,
              "#46039f"
             ],
             [
              0.2222222222222222,
              "#7201a8"
             ],
             [
              0.3333333333333333,
              "#9c179e"
             ],
             [
              0.4444444444444444,
              "#bd3786"
             ],
             [
              0.5555555555555556,
              "#d8576b"
             ],
             [
              0.6666666666666666,
              "#ed7953"
             ],
             [
              0.7777777777777778,
              "#fb9f3a"
             ],
             [
              0.8888888888888888,
              "#fdca26"
             ],
             [
              1,
              "#f0f921"
             ]
            ],
            "type": "histogram2d"
           }
          ],
          "histogram2dcontour": [
           {
            "colorbar": {
             "outlinewidth": 0,
             "ticks": ""
            },
            "colorscale": [
             [
              0,
              "#0d0887"
             ],
             [
              0.1111111111111111,
              "#46039f"
             ],
             [
              0.2222222222222222,
              "#7201a8"
             ],
             [
              0.3333333333333333,
              "#9c179e"
             ],
             [
              0.4444444444444444,
              "#bd3786"
             ],
             [
              0.5555555555555556,
              "#d8576b"
             ],
             [
              0.6666666666666666,
              "#ed7953"
             ],
             [
              0.7777777777777778,
              "#fb9f3a"
             ],
             [
              0.8888888888888888,
              "#fdca26"
             ],
             [
              1,
              "#f0f921"
             ]
            ],
            "type": "histogram2dcontour"
           }
          ],
          "mesh3d": [
           {
            "colorbar": {
             "outlinewidth": 0,
             "ticks": ""
            },
            "type": "mesh3d"
           }
          ],
          "parcoords": [
           {
            "line": {
             "colorbar": {
              "outlinewidth": 0,
              "ticks": ""
             }
            },
            "type": "parcoords"
           }
          ],
          "pie": [
           {
            "automargin": true,
            "type": "pie"
           }
          ],
          "scatter": [
           {
            "fillpattern": {
             "fillmode": "overlay",
             "size": 10,
             "solidity": 0.2
            },
            "type": "scatter"
           }
          ],
          "scatter3d": [
           {
            "line": {
             "colorbar": {
              "outlinewidth": 0,
              "ticks": ""
             }
            },
            "marker": {
             "colorbar": {
              "outlinewidth": 0,
              "ticks": ""
             }
            },
            "type": "scatter3d"
           }
          ],
          "scattercarpet": [
           {
            "marker": {
             "colorbar": {
              "outlinewidth": 0,
              "ticks": ""
             }
            },
            "type": "scattercarpet"
           }
          ],
          "scattergeo": [
           {
            "marker": {
             "colorbar": {
              "outlinewidth": 0,
              "ticks": ""
             }
            },
            "type": "scattergeo"
           }
          ],
          "scattergl": [
           {
            "marker": {
             "colorbar": {
              "outlinewidth": 0,
              "ticks": ""
             }
            },
            "type": "scattergl"
           }
          ],
          "scattermapbox": [
           {
            "marker": {
             "colorbar": {
              "outlinewidth": 0,
              "ticks": ""
             }
            },
            "type": "scattermapbox"
           }
          ],
          "scatterpolar": [
           {
            "marker": {
             "colorbar": {
              "outlinewidth": 0,
              "ticks": ""
             }
            },
            "type": "scatterpolar"
           }
          ],
          "scatterpolargl": [
           {
            "marker": {
             "colorbar": {
              "outlinewidth": 0,
              "ticks": ""
             }
            },
            "type": "scatterpolargl"
           }
          ],
          "scatterternary": [
           {
            "marker": {
             "colorbar": {
              "outlinewidth": 0,
              "ticks": ""
             }
            },
            "type": "scatterternary"
           }
          ],
          "surface": [
           {
            "colorbar": {
             "outlinewidth": 0,
             "ticks": ""
            },
            "colorscale": [
             [
              0,
              "#0d0887"
             ],
             [
              0.1111111111111111,
              "#46039f"
             ],
             [
              0.2222222222222222,
              "#7201a8"
             ],
             [
              0.3333333333333333,
              "#9c179e"
             ],
             [
              0.4444444444444444,
              "#bd3786"
             ],
             [
              0.5555555555555556,
              "#d8576b"
             ],
             [
              0.6666666666666666,
              "#ed7953"
             ],
             [
              0.7777777777777778,
              "#fb9f3a"
             ],
             [
              0.8888888888888888,
              "#fdca26"
             ],
             [
              1,
              "#f0f921"
             ]
            ],
            "type": "surface"
           }
          ],
          "table": [
           {
            "cells": {
             "fill": {
              "color": "#EBF0F8"
             },
             "line": {
              "color": "white"
             }
            },
            "header": {
             "fill": {
              "color": "#C8D4E3"
             },
             "line": {
              "color": "white"
             }
            },
            "type": "table"
           }
          ]
         },
         "layout": {
          "annotationdefaults": {
           "arrowcolor": "#2a3f5f",
           "arrowhead": 0,
           "arrowwidth": 1
          },
          "autotypenumbers": "strict",
          "coloraxis": {
           "colorbar": {
            "outlinewidth": 0,
            "ticks": ""
           }
          },
          "colorscale": {
           "diverging": [
            [
             0,
             "#8e0152"
            ],
            [
             0.1,
             "#c51b7d"
            ],
            [
             0.2,
             "#de77ae"
            ],
            [
             0.3,
             "#f1b6da"
            ],
            [
             0.4,
             "#fde0ef"
            ],
            [
             0.5,
             "#f7f7f7"
            ],
            [
             0.6,
             "#e6f5d0"
            ],
            [
             0.7,
             "#b8e186"
            ],
            [
             0.8,
             "#7fbc41"
            ],
            [
             0.9,
             "#4d9221"
            ],
            [
             1,
             "#276419"
            ]
           ],
           "sequential": [
            [
             0,
             "#0d0887"
            ],
            [
             0.1111111111111111,
             "#46039f"
            ],
            [
             0.2222222222222222,
             "#7201a8"
            ],
            [
             0.3333333333333333,
             "#9c179e"
            ],
            [
             0.4444444444444444,
             "#bd3786"
            ],
            [
             0.5555555555555556,
             "#d8576b"
            ],
            [
             0.6666666666666666,
             "#ed7953"
            ],
            [
             0.7777777777777778,
             "#fb9f3a"
            ],
            [
             0.8888888888888888,
             "#fdca26"
            ],
            [
             1,
             "#f0f921"
            ]
           ],
           "sequentialminus": [
            [
             0,
             "#0d0887"
            ],
            [
             0.1111111111111111,
             "#46039f"
            ],
            [
             0.2222222222222222,
             "#7201a8"
            ],
            [
             0.3333333333333333,
             "#9c179e"
            ],
            [
             0.4444444444444444,
             "#bd3786"
            ],
            [
             0.5555555555555556,
             "#d8576b"
            ],
            [
             0.6666666666666666,
             "#ed7953"
            ],
            [
             0.7777777777777778,
             "#fb9f3a"
            ],
            [
             0.8888888888888888,
             "#fdca26"
            ],
            [
             1,
             "#f0f921"
            ]
           ]
          },
          "colorway": [
           "#636efa",
           "#EF553B",
           "#00cc96",
           "#ab63fa",
           "#FFA15A",
           "#19d3f3",
           "#FF6692",
           "#B6E880",
           "#FF97FF",
           "#FECB52"
          ],
          "font": {
           "color": "#2a3f5f"
          },
          "geo": {
           "bgcolor": "white",
           "lakecolor": "white",
           "landcolor": "#E5ECF6",
           "showlakes": true,
           "showland": true,
           "subunitcolor": "white"
          },
          "hoverlabel": {
           "align": "left"
          },
          "hovermode": "closest",
          "mapbox": {
           "style": "light"
          },
          "paper_bgcolor": "white",
          "plot_bgcolor": "#E5ECF6",
          "polar": {
           "angularaxis": {
            "gridcolor": "white",
            "linecolor": "white",
            "ticks": ""
           },
           "bgcolor": "#E5ECF6",
           "radialaxis": {
            "gridcolor": "white",
            "linecolor": "white",
            "ticks": ""
           }
          },
          "scene": {
           "xaxis": {
            "backgroundcolor": "#E5ECF6",
            "gridcolor": "white",
            "gridwidth": 2,
            "linecolor": "white",
            "showbackground": true,
            "ticks": "",
            "zerolinecolor": "white"
           },
           "yaxis": {
            "backgroundcolor": "#E5ECF6",
            "gridcolor": "white",
            "gridwidth": 2,
            "linecolor": "white",
            "showbackground": true,
            "ticks": "",
            "zerolinecolor": "white"
           },
           "zaxis": {
            "backgroundcolor": "#E5ECF6",
            "gridcolor": "white",
            "gridwidth": 2,
            "linecolor": "white",
            "showbackground": true,
            "ticks": "",
            "zerolinecolor": "white"
           }
          },
          "shapedefaults": {
           "line": {
            "color": "#2a3f5f"
           }
          },
          "ternary": {
           "aaxis": {
            "gridcolor": "white",
            "linecolor": "white",
            "ticks": ""
           },
           "baxis": {
            "gridcolor": "white",
            "linecolor": "white",
            "ticks": ""
           },
           "bgcolor": "#E5ECF6",
           "caxis": {
            "gridcolor": "white",
            "linecolor": "white",
            "ticks": ""
           }
          },
          "title": {
           "x": 0.05
          },
          "xaxis": {
           "automargin": true,
           "gridcolor": "white",
           "linecolor": "white",
           "ticks": "",
           "title": {
            "standoff": 15
           },
           "zerolinecolor": "white",
           "zerolinewidth": 2
          },
          "yaxis": {
           "automargin": true,
           "gridcolor": "white",
           "linecolor": "white",
           "ticks": "",
           "title": {
            "standoff": 15
           },
           "zerolinecolor": "white",
           "zerolinewidth": 2
          }
         }
        },
        "title": {
         "text": "Graph 1: EV Share Over Time by Country"
        },
        "xaxis": {
         "anchor": "y",
         "domain": [
          0,
          1
         ],
         "title": {
          "text": "Year"
         }
        },
        "yaxis": {
         "anchor": "x",
         "domain": [
          0,
          1
         ],
         "title": {
          "text": "EV Share (Fraction)"
         }
        }
       }
      }
     },
     "metadata": {},
     "output_type": "display_data"
    }
   ],
   "source": [
    "import plotly.express as px\n",
    "\n",
    "df['EV_share'] = df['EV'] / df['Total']\n",
    "\n",
    "fig = px.line(df, x='Year', y='EV_share', color='country',\n",
    "              markers=True,\n",
    "              title='Graph 1: EV Share Over Time by Country',\n",
    "              labels={'EV_share': 'EV Share (Fraction)'})\n",
    "fig.show()"
   ]
  },
  {
   "cell_type": "markdown",
   "id": "11dd76cd",
   "metadata": {},
   "source": [
    "This chart captures the real-world trajectory of electric vehicle (EV) adoption in three countries: Norway, Germany, and the United States, over the years 2016 to 2023.\n",
    "\n",
    "- Norway leads the pack by a wide margin. From around 30% EV share in 2016, it shows a steep and consistent rise, reaching nearly full adoption by 2023. This steep curve suggests Norway has already reached maturity in EV uptake.\n",
    "\n",
    "- Germany follows a mid-curve path, starting low but accelerating sharply around 2020–2021. While still far behind Norway, it shows promising momentum in EV adoption.\n",
    "\n",
    "- The United States shows a slower climb, with adoption starting lower and increasing more gradually. Unlike the sharp climbs seen in Norway and Germany, the U.S. curve remains flatter, suggesting EV uptake is still in its early phase."
   ]
  },
  {
   "cell_type": "markdown",
   "id": "4a1d26ac",
   "metadata": {},
   "source": [
    "### EV Growth Rate Year-over-Year (Line Plot)"
   ]
  },
  {
   "cell_type": "code",
   "execution_count": 29,
   "id": "427b7cae",
   "metadata": {},
   "outputs": [
    {
     "name": "stderr",
     "output_type": "stream",
     "text": [
      "/Users/sirishapadmasekhar/Desktop/Mobility Modelling/myenv/lib/python3.9/site-packages/plotly/express/_core.py:2065: FutureWarning:\n",
      "\n",
      "When grouping with a length-1 list-like, you will need to pass a length-1 tuple to get_group in a future version of pandas. Pass `(name,)` instead of `name` to silence this warning.\n",
      "\n"
     ]
    },
    {
     "data": {
      "application/vnd.plotly.v1+json": {
       "config": {
        "plotlyServerURL": "https://plot.ly"
       },
       "data": [
        {
         "hovertemplate": "country=USA<br>Year=%{x}<br>Growth Rate=%{y}<extra></extra>",
         "legendgroup": "USA",
         "line": {
          "color": "#636efa",
          "dash": "solid"
         },
         "marker": {
          "symbol": "circle"
         },
         "mode": "markers+lines",
         "name": "USA",
         "orientation": "v",
         "showlegend": true,
         "type": "scatter",
         "x": [
          2016,
          2017,
          2018,
          2019,
          2020,
          2021,
          2022,
          2023
         ],
         "xaxis": "x",
         "y": [
          null,
          0.3453442739921513,
          0.5184301246353753,
          0.36849458609849806,
          0.30028075548749356,
          0.42742172931592903,
          0.6792491749174918,
          0.4559636408303649
         ],
         "yaxis": "y"
        },
        {
         "hovertemplate": "country=Norway<br>Year=%{x}<br>Growth Rate=%{y}<extra></extra>",
         "legendgroup": "Norway",
         "line": {
          "color": "#EF553B",
          "dash": "solid"
         },
         "marker": {
          "symbol": "circle"
         },
         "mode": "markers+lines",
         "name": "Norway",
         "orientation": "v",
         "showlegend": true,
         "type": "scatter",
         "x": [
          2016,
          2017,
          2018,
          2019,
          2020,
          2021,
          2022,
          2023
         ],
         "xaxis": "x",
         "y": [
          null,
          0.3654006330168249,
          0.40245836637589205,
          0.3079750331658728,
          0.2750490505802934,
          0.4817823796359084,
          0.21599239630728073,
          -0.24314622354746263
         ],
         "yaxis": "y"
        },
        {
         "hovertemplate": "country=Germany<br>Year=%{x}<br>Growth Rate=%{y}<extra></extra>",
         "legendgroup": "Germany",
         "line": {
          "color": "#00cc96",
          "dash": "solid"
         },
         "marker": {
          "symbol": "circle"
         },
         "mode": "markers+lines",
         "name": "Germany",
         "orientation": "v",
         "showlegend": true,
         "type": "scatter",
         "x": [
          2016,
          2017,
          2018,
          2019,
          2020,
          2021,
          2022,
          2023
         ],
         "xaxis": "x",
         "y": [
          null,
          1.195968448729185,
          0.4392560664112388,
          0.754783428539737,
          2.0682669363632056,
          0.8333101569300021,
          0.32193976306393113,
          0.11403458439855574
         ],
         "yaxis": "y"
        }
       ],
       "layout": {
        "legend": {
         "title": {
          "text": "country"
         },
         "tracegroupgap": 0
        },
        "template": {
         "data": {
          "bar": [
           {
            "error_x": {
             "color": "#2a3f5f"
            },
            "error_y": {
             "color": "#2a3f5f"
            },
            "marker": {
             "line": {
              "color": "#E5ECF6",
              "width": 0.5
             },
             "pattern": {
              "fillmode": "overlay",
              "size": 10,
              "solidity": 0.2
             }
            },
            "type": "bar"
           }
          ],
          "barpolar": [
           {
            "marker": {
             "line": {
              "color": "#E5ECF6",
              "width": 0.5
             },
             "pattern": {
              "fillmode": "overlay",
              "size": 10,
              "solidity": 0.2
             }
            },
            "type": "barpolar"
           }
          ],
          "carpet": [
           {
            "aaxis": {
             "endlinecolor": "#2a3f5f",
             "gridcolor": "white",
             "linecolor": "white",
             "minorgridcolor": "white",
             "startlinecolor": "#2a3f5f"
            },
            "baxis": {
             "endlinecolor": "#2a3f5f",
             "gridcolor": "white",
             "linecolor": "white",
             "minorgridcolor": "white",
             "startlinecolor": "#2a3f5f"
            },
            "type": "carpet"
           }
          ],
          "choropleth": [
           {
            "colorbar": {
             "outlinewidth": 0,
             "ticks": ""
            },
            "type": "choropleth"
           }
          ],
          "contour": [
           {
            "colorbar": {
             "outlinewidth": 0,
             "ticks": ""
            },
            "colorscale": [
             [
              0,
              "#0d0887"
             ],
             [
              0.1111111111111111,
              "#46039f"
             ],
             [
              0.2222222222222222,
              "#7201a8"
             ],
             [
              0.3333333333333333,
              "#9c179e"
             ],
             [
              0.4444444444444444,
              "#bd3786"
             ],
             [
              0.5555555555555556,
              "#d8576b"
             ],
             [
              0.6666666666666666,
              "#ed7953"
             ],
             [
              0.7777777777777778,
              "#fb9f3a"
             ],
             [
              0.8888888888888888,
              "#fdca26"
             ],
             [
              1,
              "#f0f921"
             ]
            ],
            "type": "contour"
           }
          ],
          "contourcarpet": [
           {
            "colorbar": {
             "outlinewidth": 0,
             "ticks": ""
            },
            "type": "contourcarpet"
           }
          ],
          "heatmap": [
           {
            "colorbar": {
             "outlinewidth": 0,
             "ticks": ""
            },
            "colorscale": [
             [
              0,
              "#0d0887"
             ],
             [
              0.1111111111111111,
              "#46039f"
             ],
             [
              0.2222222222222222,
              "#7201a8"
             ],
             [
              0.3333333333333333,
              "#9c179e"
             ],
             [
              0.4444444444444444,
              "#bd3786"
             ],
             [
              0.5555555555555556,
              "#d8576b"
             ],
             [
              0.6666666666666666,
              "#ed7953"
             ],
             [
              0.7777777777777778,
              "#fb9f3a"
             ],
             [
              0.8888888888888888,
              "#fdca26"
             ],
             [
              1,
              "#f0f921"
             ]
            ],
            "type": "heatmap"
           }
          ],
          "heatmapgl": [
           {
            "colorbar": {
             "outlinewidth": 0,
             "ticks": ""
            },
            "colorscale": [
             [
              0,
              "#0d0887"
             ],
             [
              0.1111111111111111,
              "#46039f"
             ],
             [
              0.2222222222222222,
              "#7201a8"
             ],
             [
              0.3333333333333333,
              "#9c179e"
             ],
             [
              0.4444444444444444,
              "#bd3786"
             ],
             [
              0.5555555555555556,
              "#d8576b"
             ],
             [
              0.6666666666666666,
              "#ed7953"
             ],
             [
              0.7777777777777778,
              "#fb9f3a"
             ],
             [
              0.8888888888888888,
              "#fdca26"
             ],
             [
              1,
              "#f0f921"
             ]
            ],
            "type": "heatmapgl"
           }
          ],
          "histogram": [
           {
            "marker": {
             "pattern": {
              "fillmode": "overlay",
              "size": 10,
              "solidity": 0.2
             }
            },
            "type": "histogram"
           }
          ],
          "histogram2d": [
           {
            "colorbar": {
             "outlinewidth": 0,
             "ticks": ""
            },
            "colorscale": [
             [
              0,
              "#0d0887"
             ],
             [
              0.1111111111111111,
              "#46039f"
             ],
             [
              0.2222222222222222,
              "#7201a8"
             ],
             [
              0.3333333333333333,
              "#9c179e"
             ],
             [
              0.4444444444444444,
              "#bd3786"
             ],
             [
              0.5555555555555556,
              "#d8576b"
             ],
             [
              0.6666666666666666,
              "#ed7953"
             ],
             [
              0.7777777777777778,
              "#fb9f3a"
             ],
             [
              0.8888888888888888,
              "#fdca26"
             ],
             [
              1,
              "#f0f921"
             ]
            ],
            "type": "histogram2d"
           }
          ],
          "histogram2dcontour": [
           {
            "colorbar": {
             "outlinewidth": 0,
             "ticks": ""
            },
            "colorscale": [
             [
              0,
              "#0d0887"
             ],
             [
              0.1111111111111111,
              "#46039f"
             ],
             [
              0.2222222222222222,
              "#7201a8"
             ],
             [
              0.3333333333333333,
              "#9c179e"
             ],
             [
              0.4444444444444444,
              "#bd3786"
             ],
             [
              0.5555555555555556,
              "#d8576b"
             ],
             [
              0.6666666666666666,
              "#ed7953"
             ],
             [
              0.7777777777777778,
              "#fb9f3a"
             ],
             [
              0.8888888888888888,
              "#fdca26"
             ],
             [
              1,
              "#f0f921"
             ]
            ],
            "type": "histogram2dcontour"
           }
          ],
          "mesh3d": [
           {
            "colorbar": {
             "outlinewidth": 0,
             "ticks": ""
            },
            "type": "mesh3d"
           }
          ],
          "parcoords": [
           {
            "line": {
             "colorbar": {
              "outlinewidth": 0,
              "ticks": ""
             }
            },
            "type": "parcoords"
           }
          ],
          "pie": [
           {
            "automargin": true,
            "type": "pie"
           }
          ],
          "scatter": [
           {
            "fillpattern": {
             "fillmode": "overlay",
             "size": 10,
             "solidity": 0.2
            },
            "type": "scatter"
           }
          ],
          "scatter3d": [
           {
            "line": {
             "colorbar": {
              "outlinewidth": 0,
              "ticks": ""
             }
            },
            "marker": {
             "colorbar": {
              "outlinewidth": 0,
              "ticks": ""
             }
            },
            "type": "scatter3d"
           }
          ],
          "scattercarpet": [
           {
            "marker": {
             "colorbar": {
              "outlinewidth": 0,
              "ticks": ""
             }
            },
            "type": "scattercarpet"
           }
          ],
          "scattergeo": [
           {
            "marker": {
             "colorbar": {
              "outlinewidth": 0,
              "ticks": ""
             }
            },
            "type": "scattergeo"
           }
          ],
          "scattergl": [
           {
            "marker": {
             "colorbar": {
              "outlinewidth": 0,
              "ticks": ""
             }
            },
            "type": "scattergl"
           }
          ],
          "scattermapbox": [
           {
            "marker": {
             "colorbar": {
              "outlinewidth": 0,
              "ticks": ""
             }
            },
            "type": "scattermapbox"
           }
          ],
          "scatterpolar": [
           {
            "marker": {
             "colorbar": {
              "outlinewidth": 0,
              "ticks": ""
             }
            },
            "type": "scatterpolar"
           }
          ],
          "scatterpolargl": [
           {
            "marker": {
             "colorbar": {
              "outlinewidth": 0,
              "ticks": ""
             }
            },
            "type": "scatterpolargl"
           }
          ],
          "scatterternary": [
           {
            "marker": {
             "colorbar": {
              "outlinewidth": 0,
              "ticks": ""
             }
            },
            "type": "scatterternary"
           }
          ],
          "surface": [
           {
            "colorbar": {
             "outlinewidth": 0,
             "ticks": ""
            },
            "colorscale": [
             [
              0,
              "#0d0887"
             ],
             [
              0.1111111111111111,
              "#46039f"
             ],
             [
              0.2222222222222222,
              "#7201a8"
             ],
             [
              0.3333333333333333,
              "#9c179e"
             ],
             [
              0.4444444444444444,
              "#bd3786"
             ],
             [
              0.5555555555555556,
              "#d8576b"
             ],
             [
              0.6666666666666666,
              "#ed7953"
             ],
             [
              0.7777777777777778,
              "#fb9f3a"
             ],
             [
              0.8888888888888888,
              "#fdca26"
             ],
             [
              1,
              "#f0f921"
             ]
            ],
            "type": "surface"
           }
          ],
          "table": [
           {
            "cells": {
             "fill": {
              "color": "#EBF0F8"
             },
             "line": {
              "color": "white"
             }
            },
            "header": {
             "fill": {
              "color": "#C8D4E3"
             },
             "line": {
              "color": "white"
             }
            },
            "type": "table"
           }
          ]
         },
         "layout": {
          "annotationdefaults": {
           "arrowcolor": "#2a3f5f",
           "arrowhead": 0,
           "arrowwidth": 1
          },
          "autotypenumbers": "strict",
          "coloraxis": {
           "colorbar": {
            "outlinewidth": 0,
            "ticks": ""
           }
          },
          "colorscale": {
           "diverging": [
            [
             0,
             "#8e0152"
            ],
            [
             0.1,
             "#c51b7d"
            ],
            [
             0.2,
             "#de77ae"
            ],
            [
             0.3,
             "#f1b6da"
            ],
            [
             0.4,
             "#fde0ef"
            ],
            [
             0.5,
             "#f7f7f7"
            ],
            [
             0.6,
             "#e6f5d0"
            ],
            [
             0.7,
             "#b8e186"
            ],
            [
             0.8,
             "#7fbc41"
            ],
            [
             0.9,
             "#4d9221"
            ],
            [
             1,
             "#276419"
            ]
           ],
           "sequential": [
            [
             0,
             "#0d0887"
            ],
            [
             0.1111111111111111,
             "#46039f"
            ],
            [
             0.2222222222222222,
             "#7201a8"
            ],
            [
             0.3333333333333333,
             "#9c179e"
            ],
            [
             0.4444444444444444,
             "#bd3786"
            ],
            [
             0.5555555555555556,
             "#d8576b"
            ],
            [
             0.6666666666666666,
             "#ed7953"
            ],
            [
             0.7777777777777778,
             "#fb9f3a"
            ],
            [
             0.8888888888888888,
             "#fdca26"
            ],
            [
             1,
             "#f0f921"
            ]
           ],
           "sequentialminus": [
            [
             0,
             "#0d0887"
            ],
            [
             0.1111111111111111,
             "#46039f"
            ],
            [
             0.2222222222222222,
             "#7201a8"
            ],
            [
             0.3333333333333333,
             "#9c179e"
            ],
            [
             0.4444444444444444,
             "#bd3786"
            ],
            [
             0.5555555555555556,
             "#d8576b"
            ],
            [
             0.6666666666666666,
             "#ed7953"
            ],
            [
             0.7777777777777778,
             "#fb9f3a"
            ],
            [
             0.8888888888888888,
             "#fdca26"
            ],
            [
             1,
             "#f0f921"
            ]
           ]
          },
          "colorway": [
           "#636efa",
           "#EF553B",
           "#00cc96",
           "#ab63fa",
           "#FFA15A",
           "#19d3f3",
           "#FF6692",
           "#B6E880",
           "#FF97FF",
           "#FECB52"
          ],
          "font": {
           "color": "#2a3f5f"
          },
          "geo": {
           "bgcolor": "white",
           "lakecolor": "white",
           "landcolor": "#E5ECF6",
           "showlakes": true,
           "showland": true,
           "subunitcolor": "white"
          },
          "hoverlabel": {
           "align": "left"
          },
          "hovermode": "closest",
          "mapbox": {
           "style": "light"
          },
          "paper_bgcolor": "white",
          "plot_bgcolor": "#E5ECF6",
          "polar": {
           "angularaxis": {
            "gridcolor": "white",
            "linecolor": "white",
            "ticks": ""
           },
           "bgcolor": "#E5ECF6",
           "radialaxis": {
            "gridcolor": "white",
            "linecolor": "white",
            "ticks": ""
           }
          },
          "scene": {
           "xaxis": {
            "backgroundcolor": "#E5ECF6",
            "gridcolor": "white",
            "gridwidth": 2,
            "linecolor": "white",
            "showbackground": true,
            "ticks": "",
            "zerolinecolor": "white"
           },
           "yaxis": {
            "backgroundcolor": "#E5ECF6",
            "gridcolor": "white",
            "gridwidth": 2,
            "linecolor": "white",
            "showbackground": true,
            "ticks": "",
            "zerolinecolor": "white"
           },
           "zaxis": {
            "backgroundcolor": "#E5ECF6",
            "gridcolor": "white",
            "gridwidth": 2,
            "linecolor": "white",
            "showbackground": true,
            "ticks": "",
            "zerolinecolor": "white"
           }
          },
          "shapedefaults": {
           "line": {
            "color": "#2a3f5f"
           }
          },
          "ternary": {
           "aaxis": {
            "gridcolor": "white",
            "linecolor": "white",
            "ticks": ""
           },
           "baxis": {
            "gridcolor": "white",
            "linecolor": "white",
            "ticks": ""
           },
           "bgcolor": "#E5ECF6",
           "caxis": {
            "gridcolor": "white",
            "linecolor": "white",
            "ticks": ""
           }
          },
          "title": {
           "x": 0.05
          },
          "xaxis": {
           "automargin": true,
           "gridcolor": "white",
           "linecolor": "white",
           "ticks": "",
           "title": {
            "standoff": 15
           },
           "zerolinecolor": "white",
           "zerolinewidth": 2
          },
          "yaxis": {
           "automargin": true,
           "gridcolor": "white",
           "linecolor": "white",
           "ticks": "",
           "title": {
            "standoff": 15
           },
           "zerolinecolor": "white",
           "zerolinewidth": 2
          }
         }
        },
        "title": {
         "text": "Year-over-Year EV Growth Rate by Country"
        },
        "xaxis": {
         "anchor": "y",
         "domain": [
          0,
          1
         ],
         "title": {
          "text": "Year"
         }
        },
        "yaxis": {
         "anchor": "x",
         "domain": [
          0,
          1
         ],
         "title": {
          "text": "Growth Rate"
         }
        }
       }
      }
     },
     "metadata": {},
     "output_type": "display_data"
    }
   ],
   "source": [
    "df['EV_growth'] = df.groupby('country')['EV'].pct_change()\n",
    "\n",
    "fig = px.line(df, x='Year', y='EV_growth', color='country',\n",
    "              markers=True,\n",
    "              title='Year-over-Year EV Growth Rate by Country',\n",
    "              labels={'EV_growth': 'Growth Rate'})\n",
    "fig.show()\n"
   ]
  },
  {
   "cell_type": "markdown",
   "id": "9233689e",
   "metadata": {},
   "source": [
    "This chart zooms in on how fast EV adoption is growing each year in Norway, Germany, and the USA between 2016 and 2023.\n",
    "\n",
    "- Germany shows the most volatility. It experienced a dramatic spike in 2020, crossing a 2x growth rate, more than doubling EV adoption in a single year. This likely reflects a tipping point moment, after which growth cooled but remained positive.\n",
    "\n",
    "- Norway starts steady, but its growth rate declines over time. This makes sense, Norway already had high EV adoption early on, so there's less room to grow. The deceleration signals a country nearing full EV saturation.\n",
    "\n",
    "- The U.S. maintains a slow and steady growth throughout the years. While never explosive, it avoids sharp declines and even picks up pace in 2022. However, compared to Germany and Norway, the growth remains modest."
   ]
  },
  {
   "cell_type": "markdown",
   "id": "9026eb15",
   "metadata": {},
   "source": [
    "### Stacked Area Plot of EV vs Fossil Fuel (Normalized)"
   ]
  },
  {
   "cell_type": "code",
   "execution_count": 30,
   "id": "604bb074",
   "metadata": {},
   "outputs": [],
   "source": [
    "# Compute total vehicles per country-year\n",
    "totals = df_long.groupby(['Year', 'country'])['VehicleCount'].sum().reset_index()\n",
    "totals.rename(columns={'VehicleCount': 'TotalVehicles'}, inplace=True)\n"
   ]
  },
  {
   "cell_type": "code",
   "execution_count": 31,
   "id": "7014490e",
   "metadata": {},
   "outputs": [],
   "source": [
    "# Merge totals to df_long\n",
    "df_long = df_long.merge(totals, on=['Year', 'country'])\n"
   ]
  },
  {
   "cell_type": "code",
   "execution_count": 32,
   "id": "b9241c7c",
   "metadata": {},
   "outputs": [],
   "source": [
    "df_long['Share'] = df_long['VehicleCount'] / df_long['TotalVehicles']"
   ]
  },
  {
   "cell_type": "code",
   "execution_count": 33,
   "id": "692b25e1",
   "metadata": {},
   "outputs": [
    {
     "data": {
      "application/vnd.plotly.v1+json": {
       "config": {
        "plotlyServerURL": "https://plot.ly"
       },
       "data": [
        {
         "fillpattern": {
          "shape": ""
         },
         "hovertemplate": "FuelType=EV<br>country=USA<br>Year=%{x}<br>Share=%{y}<extra></extra>",
         "legendgroup": "EV",
         "line": {
          "color": "#636efa"
         },
         "marker": {
          "symbol": "circle"
         },
         "mode": "lines",
         "name": "EV",
         "orientation": "v",
         "showlegend": true,
         "stackgroup": "1",
         "type": "scatter",
         "x": [
          2016,
          2017,
          2018,
          2019,
          2020,
          2021,
          2022,
          2023
         ],
         "xaxis": "x3",
         "y": [
          0.0012450285472653346,
          0.0016554517965449303,
          0.0024933952893727625,
          0.0033755143394743918,
          0.004372753057686952,
          0.006006097775010024,
          0.010017012885168767,
          0.014429842858000834
         ],
         "yaxis": "y3"
        },
        {
         "fillpattern": {
          "shape": ""
         },
         "hovertemplate": "FuelType=EV<br>country=Norway<br>Year=%{x}<br>Share=%{y}<extra></extra>",
         "legendgroup": "EV",
         "line": {
          "color": "#636efa"
         },
         "marker": {
          "symbol": "circle"
         },
         "mode": "lines",
         "name": "EV",
         "orientation": "v",
         "showlegend": false,
         "stackgroup": "1",
         "type": "scatter",
         "x": [
          2016,
          2017,
          2018,
          2019,
          2020,
          2021,
          2022,
          2023
         ],
         "xaxis": "x2",
         "y": [
          0.20245693616518975,
          0.29365768896611644,
          0.42439429599889245,
          0.5615551965938057,
          0.7674309218097936,
          0.8960288296244894,
          0.9377256562695117,
          0.9510799872675185
         ],
         "yaxis": "y2"
        },
        {
         "fillpattern": {
          "shape": ""
         },
         "hovertemplate": "FuelType=EV<br>country=Germany<br>Year=%{x}<br>Share=%{y}<extra></extra>",
         "legendgroup": "EV",
         "line": {
          "color": "#636efa"
         },
         "marker": {
          "symbol": "circle"
         },
         "mode": "lines",
         "name": "EV",
         "orientation": "v",
         "showlegend": false,
         "stackgroup": "1",
         "type": "scatter",
         "x": [
          2016,
          2017,
          2018,
          2019,
          2020,
          2021,
          2022,
          2023
         ],
         "xaxis": "x",
         "y": [
          0.0034538665142646806,
          0.00746504558546056,
          0.01091016134707304,
          0.01879010055276704,
          0.08125729236939858,
          0.19065638509096539,
          0.2581050171957019,
          0.26159494274761547
         ],
         "yaxis": "y"
        },
        {
         "fillpattern": {
          "shape": ""
         },
         "hovertemplate": "FuelType=FossilFuel<br>country=USA<br>Year=%{x}<br>Share=%{y}<extra></extra>",
         "legendgroup": "FossilFuel",
         "line": {
          "color": "#EF553B"
         },
         "marker": {
          "symbol": "circle"
         },
         "mode": "lines",
         "name": "FossilFuel",
         "orientation": "v",
         "showlegend": true,
         "stackgroup": "1",
         "type": "scatter",
         "x": [
          2016,
          2017,
          2018,
          2019,
          2020,
          2021,
          2022,
          2023
         ],
         "xaxis": "x3",
         "y": [
          0.9987549714527346,
          0.9983445482034551,
          0.9975066047106272,
          0.9966244856605256,
          0.9956272469423131,
          0.99399390222499,
          0.9899829871148312,
          0.9855701571419991
         ],
         "yaxis": "y3"
        },
        {
         "fillpattern": {
          "shape": ""
         },
         "hovertemplate": "FuelType=FossilFuel<br>country=Norway<br>Year=%{x}<br>Share=%{y}<extra></extra>",
         "legendgroup": "FossilFuel",
         "line": {
          "color": "#EF553B"
         },
         "marker": {
          "symbol": "circle"
         },
         "mode": "lines",
         "name": "FossilFuel",
         "orientation": "v",
         "showlegend": false,
         "stackgroup": "1",
         "type": "scatter",
         "x": [
          2016,
          2017,
          2018,
          2019,
          2020,
          2021,
          2022,
          2023
         ],
         "xaxis": "x2",
         "y": [
          0.7975430638348102,
          0.7063423110338836,
          0.5756057040011076,
          0.4384448034061943,
          0.23256907819020645,
          0.1039711703755106,
          0.06227434373048837,
          0.04892001273248147
         ],
         "yaxis": "y2"
        },
        {
         "fillpattern": {
          "shape": ""
         },
         "hovertemplate": "FuelType=FossilFuel<br>country=Germany<br>Year=%{x}<br>Share=%{y}<extra></extra>",
         "legendgroup": "FossilFuel",
         "line": {
          "color": "#EF553B"
         },
         "marker": {
          "symbol": "circle"
         },
         "mode": "lines",
         "name": "FossilFuel",
         "orientation": "v",
         "showlegend": false,
         "stackgroup": "1",
         "type": "scatter",
         "x": [
          2016,
          2017,
          2018,
          2019,
          2020,
          2021,
          2022,
          2023
         ],
         "xaxis": "x",
         "y": [
          0.9965461334857353,
          0.9925349544145394,
          0.989089838652927,
          0.9812098994472329,
          0.9187427076306014,
          0.8093436149090346,
          0.7418949828042981,
          0.7384050572523846
         ],
         "yaxis": "y"
        }
       ],
       "layout": {
        "annotations": [
         {
          "font": {},
          "showarrow": false,
          "text": "country=Germany",
          "x": 0.5,
          "xanchor": "center",
          "xref": "paper",
          "y": 0.2866666666666666,
          "yanchor": "bottom",
          "yref": "paper"
         },
         {
          "font": {},
          "showarrow": false,
          "text": "country=Norway",
          "x": 0.5,
          "xanchor": "center",
          "xref": "paper",
          "y": 0.6433333333333333,
          "yanchor": "bottom",
          "yref": "paper"
         },
         {
          "font": {},
          "showarrow": false,
          "text": "country=USA",
          "x": 0.5,
          "xanchor": "center",
          "xref": "paper",
          "y": 0.9999999999999999,
          "yanchor": "bottom",
          "yref": "paper"
         }
        ],
        "legend": {
         "title": {
          "text": "FuelType"
         },
         "tracegroupgap": 0
        },
        "template": {
         "data": {
          "bar": [
           {
            "error_x": {
             "color": "#2a3f5f"
            },
            "error_y": {
             "color": "#2a3f5f"
            },
            "marker": {
             "line": {
              "color": "#E5ECF6",
              "width": 0.5
             },
             "pattern": {
              "fillmode": "overlay",
              "size": 10,
              "solidity": 0.2
             }
            },
            "type": "bar"
           }
          ],
          "barpolar": [
           {
            "marker": {
             "line": {
              "color": "#E5ECF6",
              "width": 0.5
             },
             "pattern": {
              "fillmode": "overlay",
              "size": 10,
              "solidity": 0.2
             }
            },
            "type": "barpolar"
           }
          ],
          "carpet": [
           {
            "aaxis": {
             "endlinecolor": "#2a3f5f",
             "gridcolor": "white",
             "linecolor": "white",
             "minorgridcolor": "white",
             "startlinecolor": "#2a3f5f"
            },
            "baxis": {
             "endlinecolor": "#2a3f5f",
             "gridcolor": "white",
             "linecolor": "white",
             "minorgridcolor": "white",
             "startlinecolor": "#2a3f5f"
            },
            "type": "carpet"
           }
          ],
          "choropleth": [
           {
            "colorbar": {
             "outlinewidth": 0,
             "ticks": ""
            },
            "type": "choropleth"
           }
          ],
          "contour": [
           {
            "colorbar": {
             "outlinewidth": 0,
             "ticks": ""
            },
            "colorscale": [
             [
              0,
              "#0d0887"
             ],
             [
              0.1111111111111111,
              "#46039f"
             ],
             [
              0.2222222222222222,
              "#7201a8"
             ],
             [
              0.3333333333333333,
              "#9c179e"
             ],
             [
              0.4444444444444444,
              "#bd3786"
             ],
             [
              0.5555555555555556,
              "#d8576b"
             ],
             [
              0.6666666666666666,
              "#ed7953"
             ],
             [
              0.7777777777777778,
              "#fb9f3a"
             ],
             [
              0.8888888888888888,
              "#fdca26"
             ],
             [
              1,
              "#f0f921"
             ]
            ],
            "type": "contour"
           }
          ],
          "contourcarpet": [
           {
            "colorbar": {
             "outlinewidth": 0,
             "ticks": ""
            },
            "type": "contourcarpet"
           }
          ],
          "heatmap": [
           {
            "colorbar": {
             "outlinewidth": 0,
             "ticks": ""
            },
            "colorscale": [
             [
              0,
              "#0d0887"
             ],
             [
              0.1111111111111111,
              "#46039f"
             ],
             [
              0.2222222222222222,
              "#7201a8"
             ],
             [
              0.3333333333333333,
              "#9c179e"
             ],
             [
              0.4444444444444444,
              "#bd3786"
             ],
             [
              0.5555555555555556,
              "#d8576b"
             ],
             [
              0.6666666666666666,
              "#ed7953"
             ],
             [
              0.7777777777777778,
              "#fb9f3a"
             ],
             [
              0.8888888888888888,
              "#fdca26"
             ],
             [
              1,
              "#f0f921"
             ]
            ],
            "type": "heatmap"
           }
          ],
          "heatmapgl": [
           {
            "colorbar": {
             "outlinewidth": 0,
             "ticks": ""
            },
            "colorscale": [
             [
              0,
              "#0d0887"
             ],
             [
              0.1111111111111111,
              "#46039f"
             ],
             [
              0.2222222222222222,
              "#7201a8"
             ],
             [
              0.3333333333333333,
              "#9c179e"
             ],
             [
              0.4444444444444444,
              "#bd3786"
             ],
             [
              0.5555555555555556,
              "#d8576b"
             ],
             [
              0.6666666666666666,
              "#ed7953"
             ],
             [
              0.7777777777777778,
              "#fb9f3a"
             ],
             [
              0.8888888888888888,
              "#fdca26"
             ],
             [
              1,
              "#f0f921"
             ]
            ],
            "type": "heatmapgl"
           }
          ],
          "histogram": [
           {
            "marker": {
             "pattern": {
              "fillmode": "overlay",
              "size": 10,
              "solidity": 0.2
             }
            },
            "type": "histogram"
           }
          ],
          "histogram2d": [
           {
            "colorbar": {
             "outlinewidth": 0,
             "ticks": ""
            },
            "colorscale": [
             [
              0,
              "#0d0887"
             ],
             [
              0.1111111111111111,
              "#46039f"
             ],
             [
              0.2222222222222222,
              "#7201a8"
             ],
             [
              0.3333333333333333,
              "#9c179e"
             ],
             [
              0.4444444444444444,
              "#bd3786"
             ],
             [
              0.5555555555555556,
              "#d8576b"
             ],
             [
              0.6666666666666666,
              "#ed7953"
             ],
             [
              0.7777777777777778,
              "#fb9f3a"
             ],
             [
              0.8888888888888888,
              "#fdca26"
             ],
             [
              1,
              "#f0f921"
             ]
            ],
            "type": "histogram2d"
           }
          ],
          "histogram2dcontour": [
           {
            "colorbar": {
             "outlinewidth": 0,
             "ticks": ""
            },
            "colorscale": [
             [
              0,
              "#0d0887"
             ],
             [
              0.1111111111111111,
              "#46039f"
             ],
             [
              0.2222222222222222,
              "#7201a8"
             ],
             [
              0.3333333333333333,
              "#9c179e"
             ],
             [
              0.4444444444444444,
              "#bd3786"
             ],
             [
              0.5555555555555556,
              "#d8576b"
             ],
             [
              0.6666666666666666,
              "#ed7953"
             ],
             [
              0.7777777777777778,
              "#fb9f3a"
             ],
             [
              0.8888888888888888,
              "#fdca26"
             ],
             [
              1,
              "#f0f921"
             ]
            ],
            "type": "histogram2dcontour"
           }
          ],
          "mesh3d": [
           {
            "colorbar": {
             "outlinewidth": 0,
             "ticks": ""
            },
            "type": "mesh3d"
           }
          ],
          "parcoords": [
           {
            "line": {
             "colorbar": {
              "outlinewidth": 0,
              "ticks": ""
             }
            },
            "type": "parcoords"
           }
          ],
          "pie": [
           {
            "automargin": true,
            "type": "pie"
           }
          ],
          "scatter": [
           {
            "fillpattern": {
             "fillmode": "overlay",
             "size": 10,
             "solidity": 0.2
            },
            "type": "scatter"
           }
          ],
          "scatter3d": [
           {
            "line": {
             "colorbar": {
              "outlinewidth": 0,
              "ticks": ""
             }
            },
            "marker": {
             "colorbar": {
              "outlinewidth": 0,
              "ticks": ""
             }
            },
            "type": "scatter3d"
           }
          ],
          "scattercarpet": [
           {
            "marker": {
             "colorbar": {
              "outlinewidth": 0,
              "ticks": ""
             }
            },
            "type": "scattercarpet"
           }
          ],
          "scattergeo": [
           {
            "marker": {
             "colorbar": {
              "outlinewidth": 0,
              "ticks": ""
             }
            },
            "type": "scattergeo"
           }
          ],
          "scattergl": [
           {
            "marker": {
             "colorbar": {
              "outlinewidth": 0,
              "ticks": ""
             }
            },
            "type": "scattergl"
           }
          ],
          "scattermapbox": [
           {
            "marker": {
             "colorbar": {
              "outlinewidth": 0,
              "ticks": ""
             }
            },
            "type": "scattermapbox"
           }
          ],
          "scatterpolar": [
           {
            "marker": {
             "colorbar": {
              "outlinewidth": 0,
              "ticks": ""
             }
            },
            "type": "scatterpolar"
           }
          ],
          "scatterpolargl": [
           {
            "marker": {
             "colorbar": {
              "outlinewidth": 0,
              "ticks": ""
             }
            },
            "type": "scatterpolargl"
           }
          ],
          "scatterternary": [
           {
            "marker": {
             "colorbar": {
              "outlinewidth": 0,
              "ticks": ""
             }
            },
            "type": "scatterternary"
           }
          ],
          "surface": [
           {
            "colorbar": {
             "outlinewidth": 0,
             "ticks": ""
            },
            "colorscale": [
             [
              0,
              "#0d0887"
             ],
             [
              0.1111111111111111,
              "#46039f"
             ],
             [
              0.2222222222222222,
              "#7201a8"
             ],
             [
              0.3333333333333333,
              "#9c179e"
             ],
             [
              0.4444444444444444,
              "#bd3786"
             ],
             [
              0.5555555555555556,
              "#d8576b"
             ],
             [
              0.6666666666666666,
              "#ed7953"
             ],
             [
              0.7777777777777778,
              "#fb9f3a"
             ],
             [
              0.8888888888888888,
              "#fdca26"
             ],
             [
              1,
              "#f0f921"
             ]
            ],
            "type": "surface"
           }
          ],
          "table": [
           {
            "cells": {
             "fill": {
              "color": "#EBF0F8"
             },
             "line": {
              "color": "white"
             }
            },
            "header": {
             "fill": {
              "color": "#C8D4E3"
             },
             "line": {
              "color": "white"
             }
            },
            "type": "table"
           }
          ]
         },
         "layout": {
          "annotationdefaults": {
           "arrowcolor": "#2a3f5f",
           "arrowhead": 0,
           "arrowwidth": 1
          },
          "autotypenumbers": "strict",
          "coloraxis": {
           "colorbar": {
            "outlinewidth": 0,
            "ticks": ""
           }
          },
          "colorscale": {
           "diverging": [
            [
             0,
             "#8e0152"
            ],
            [
             0.1,
             "#c51b7d"
            ],
            [
             0.2,
             "#de77ae"
            ],
            [
             0.3,
             "#f1b6da"
            ],
            [
             0.4,
             "#fde0ef"
            ],
            [
             0.5,
             "#f7f7f7"
            ],
            [
             0.6,
             "#e6f5d0"
            ],
            [
             0.7,
             "#b8e186"
            ],
            [
             0.8,
             "#7fbc41"
            ],
            [
             0.9,
             "#4d9221"
            ],
            [
             1,
             "#276419"
            ]
           ],
           "sequential": [
            [
             0,
             "#0d0887"
            ],
            [
             0.1111111111111111,
             "#46039f"
            ],
            [
             0.2222222222222222,
             "#7201a8"
            ],
            [
             0.3333333333333333,
             "#9c179e"
            ],
            [
             0.4444444444444444,
             "#bd3786"
            ],
            [
             0.5555555555555556,
             "#d8576b"
            ],
            [
             0.6666666666666666,
             "#ed7953"
            ],
            [
             0.7777777777777778,
             "#fb9f3a"
            ],
            [
             0.8888888888888888,
             "#fdca26"
            ],
            [
             1,
             "#f0f921"
            ]
           ],
           "sequentialminus": [
            [
             0,
             "#0d0887"
            ],
            [
             0.1111111111111111,
             "#46039f"
            ],
            [
             0.2222222222222222,
             "#7201a8"
            ],
            [
             0.3333333333333333,
             "#9c179e"
            ],
            [
             0.4444444444444444,
             "#bd3786"
            ],
            [
             0.5555555555555556,
             "#d8576b"
            ],
            [
             0.6666666666666666,
             "#ed7953"
            ],
            [
             0.7777777777777778,
             "#fb9f3a"
            ],
            [
             0.8888888888888888,
             "#fdca26"
            ],
            [
             1,
             "#f0f921"
            ]
           ]
          },
          "colorway": [
           "#636efa",
           "#EF553B",
           "#00cc96",
           "#ab63fa",
           "#FFA15A",
           "#19d3f3",
           "#FF6692",
           "#B6E880",
           "#FF97FF",
           "#FECB52"
          ],
          "font": {
           "color": "#2a3f5f"
          },
          "geo": {
           "bgcolor": "white",
           "lakecolor": "white",
           "landcolor": "#E5ECF6",
           "showlakes": true,
           "showland": true,
           "subunitcolor": "white"
          },
          "hoverlabel": {
           "align": "left"
          },
          "hovermode": "closest",
          "mapbox": {
           "style": "light"
          },
          "paper_bgcolor": "white",
          "plot_bgcolor": "#E5ECF6",
          "polar": {
           "angularaxis": {
            "gridcolor": "white",
            "linecolor": "white",
            "ticks": ""
           },
           "bgcolor": "#E5ECF6",
           "radialaxis": {
            "gridcolor": "white",
            "linecolor": "white",
            "ticks": ""
           }
          },
          "scene": {
           "xaxis": {
            "backgroundcolor": "#E5ECF6",
            "gridcolor": "white",
            "gridwidth": 2,
            "linecolor": "white",
            "showbackground": true,
            "ticks": "",
            "zerolinecolor": "white"
           },
           "yaxis": {
            "backgroundcolor": "#E5ECF6",
            "gridcolor": "white",
            "gridwidth": 2,
            "linecolor": "white",
            "showbackground": true,
            "ticks": "",
            "zerolinecolor": "white"
           },
           "zaxis": {
            "backgroundcolor": "#E5ECF6",
            "gridcolor": "white",
            "gridwidth": 2,
            "linecolor": "white",
            "showbackground": true,
            "ticks": "",
            "zerolinecolor": "white"
           }
          },
          "shapedefaults": {
           "line": {
            "color": "#2a3f5f"
           }
          },
          "ternary": {
           "aaxis": {
            "gridcolor": "white",
            "linecolor": "white",
            "ticks": ""
           },
           "baxis": {
            "gridcolor": "white",
            "linecolor": "white",
            "ticks": ""
           },
           "bgcolor": "#E5ECF6",
           "caxis": {
            "gridcolor": "white",
            "linecolor": "white",
            "ticks": ""
           }
          },
          "title": {
           "x": 0.05
          },
          "xaxis": {
           "automargin": true,
           "gridcolor": "white",
           "linecolor": "white",
           "ticks": "",
           "title": {
            "standoff": 15
           },
           "zerolinecolor": "white",
           "zerolinewidth": 2
          },
          "yaxis": {
           "automargin": true,
           "gridcolor": "white",
           "linecolor": "white",
           "ticks": "",
           "title": {
            "standoff": 15
           },
           "zerolinecolor": "white",
           "zerolinewidth": 2
          }
         }
        },
        "title": {
         "text": "EV vs Fossil Fuel Share (Normalized Per Country & Year)"
        },
        "xaxis": {
         "anchor": "y",
         "domain": [
          0,
          1
         ],
         "title": {
          "text": "Year"
         }
        },
        "xaxis2": {
         "anchor": "y2",
         "domain": [
          0,
          1
         ],
         "matches": "x",
         "showticklabels": false
        },
        "xaxis3": {
         "anchor": "y3",
         "domain": [
          0,
          1
         ],
         "matches": "x",
         "showticklabels": false
        },
        "yaxis": {
         "anchor": "x",
         "domain": [
          0,
          0.2866666666666666
         ],
         "matches": "y",
         "range": [
          0,
          1
         ],
         "tickformat": ".0%",
         "title": {
          "text": "Share"
         }
        },
        "yaxis2": {
         "anchor": "x2",
         "domain": [
          0.35666666666666663,
          0.6433333333333333
         ],
         "matches": "y",
         "range": [
          0,
          1
         ],
         "tickformat": ".0%",
         "title": {
          "text": "Share"
         }
        },
        "yaxis3": {
         "anchor": "x3",
         "domain": [
          0.7133333333333333,
          0.9999999999999999
         ],
         "matches": "y",
         "range": [
          0,
          1
         ],
         "tickformat": ".0%",
         "title": {
          "text": "Share"
         }
        }
       }
      }
     },
     "metadata": {},
     "output_type": "display_data"
    }
   ],
   "source": [
    "import plotly.express as px\n",
    "\n",
    "fig = px.area(\n",
    "    df_long,\n",
    "    x='Year',\n",
    "    y='Share',\n",
    "    color='FuelType',\n",
    "    facet_col='country',\n",
    "    facet_col_wrap=1,\n",
    "    title='EV vs Fossil Fuel Share (Normalized Per Country & Year)',\n",
    "    labels={'Vehicle Share'}\n",
    ")\n",
    "\n",
    "fig.update_yaxes(tickformat=\".0%\", range=[0, 1], matches='y')\n",
    "fig.show()\n",
    "\n"
   ]
  },
  {
   "cell_type": "markdown",
   "id": "b0278b85",
   "metadata": {},
   "source": [
    "This stacked area chart reveals how the vehicle mix is shifting in the U.S., Norway, and Germany from 2016 to 2023.\n",
    "\n",
    "- Norway leads decisively:\n",
    "The EV share grows steadily each year, overtaking fossil fuel vehicles around 2021. By 2023, Norway is approaching full EV dominance, a rare global benchmark for transition.\n",
    "\n",
    "- Germany follows with a clear inflection point:\n",
    "Until 2019, fossil fuels held near-total dominance. But from 2020 onwards, EVs start carving out a noticeable share, especially after 2021, indicating a strong momentum shift.\n",
    "\n",
    "- USA shows minimal disruption:\n",
    "The EV share remains almost flat over the years, with fossil fuels continuing to dominate. This highlights a more cautious or lagging transition path compared to the European nations."
   ]
  },
  {
   "cell_type": "markdown",
   "id": "e2961200",
   "metadata": {},
   "source": [
    "### EV Share by Country (2023 Bar Chart)"
   ]
  },
  {
   "cell_type": "code",
   "execution_count": 34,
   "id": "fdc27116",
   "metadata": {},
   "outputs": [
    {
     "data": {
      "application/vnd.plotly.v1+json": {
       "config": {
        "plotlyServerURL": "https://plot.ly"
       },
       "data": [
        {
         "alignmentgroup": "True",
         "hovertemplate": "country=%{x}<br>EV Share (Fraction)=%{y}<extra></extra>",
         "legendgroup": "",
         "marker": {
          "color": "#636efa",
          "pattern": {
           "shape": ""
          }
         },
         "name": "",
         "offsetgroup": "",
         "orientation": "v",
         "showlegend": false,
         "textposition": "auto",
         "type": "bar",
         "x": [
          "USA",
          "Norway",
          "Germany"
         ],
         "xaxis": "x",
         "y": [
          0.014429842858000834,
          0.9510799872675185,
          0.26159494274761547
         ],
         "yaxis": "y"
        }
       ],
       "layout": {
        "barmode": "relative",
        "legend": {
         "tracegroupgap": 0
        },
        "template": {
         "data": {
          "bar": [
           {
            "error_x": {
             "color": "#2a3f5f"
            },
            "error_y": {
             "color": "#2a3f5f"
            },
            "marker": {
             "line": {
              "color": "#E5ECF6",
              "width": 0.5
             },
             "pattern": {
              "fillmode": "overlay",
              "size": 10,
              "solidity": 0.2
             }
            },
            "type": "bar"
           }
          ],
          "barpolar": [
           {
            "marker": {
             "line": {
              "color": "#E5ECF6",
              "width": 0.5
             },
             "pattern": {
              "fillmode": "overlay",
              "size": 10,
              "solidity": 0.2
             }
            },
            "type": "barpolar"
           }
          ],
          "carpet": [
           {
            "aaxis": {
             "endlinecolor": "#2a3f5f",
             "gridcolor": "white",
             "linecolor": "white",
             "minorgridcolor": "white",
             "startlinecolor": "#2a3f5f"
            },
            "baxis": {
             "endlinecolor": "#2a3f5f",
             "gridcolor": "white",
             "linecolor": "white",
             "minorgridcolor": "white",
             "startlinecolor": "#2a3f5f"
            },
            "type": "carpet"
           }
          ],
          "choropleth": [
           {
            "colorbar": {
             "outlinewidth": 0,
             "ticks": ""
            },
            "type": "choropleth"
           }
          ],
          "contour": [
           {
            "colorbar": {
             "outlinewidth": 0,
             "ticks": ""
            },
            "colorscale": [
             [
              0,
              "#0d0887"
             ],
             [
              0.1111111111111111,
              "#46039f"
             ],
             [
              0.2222222222222222,
              "#7201a8"
             ],
             [
              0.3333333333333333,
              "#9c179e"
             ],
             [
              0.4444444444444444,
              "#bd3786"
             ],
             [
              0.5555555555555556,
              "#d8576b"
             ],
             [
              0.6666666666666666,
              "#ed7953"
             ],
             [
              0.7777777777777778,
              "#fb9f3a"
             ],
             [
              0.8888888888888888,
              "#fdca26"
             ],
             [
              1,
              "#f0f921"
             ]
            ],
            "type": "contour"
           }
          ],
          "contourcarpet": [
           {
            "colorbar": {
             "outlinewidth": 0,
             "ticks": ""
            },
            "type": "contourcarpet"
           }
          ],
          "heatmap": [
           {
            "colorbar": {
             "outlinewidth": 0,
             "ticks": ""
            },
            "colorscale": [
             [
              0,
              "#0d0887"
             ],
             [
              0.1111111111111111,
              "#46039f"
             ],
             [
              0.2222222222222222,
              "#7201a8"
             ],
             [
              0.3333333333333333,
              "#9c179e"
             ],
             [
              0.4444444444444444,
              "#bd3786"
             ],
             [
              0.5555555555555556,
              "#d8576b"
             ],
             [
              0.6666666666666666,
              "#ed7953"
             ],
             [
              0.7777777777777778,
              "#fb9f3a"
             ],
             [
              0.8888888888888888,
              "#fdca26"
             ],
             [
              1,
              "#f0f921"
             ]
            ],
            "type": "heatmap"
           }
          ],
          "heatmapgl": [
           {
            "colorbar": {
             "outlinewidth": 0,
             "ticks": ""
            },
            "colorscale": [
             [
              0,
              "#0d0887"
             ],
             [
              0.1111111111111111,
              "#46039f"
             ],
             [
              0.2222222222222222,
              "#7201a8"
             ],
             [
              0.3333333333333333,
              "#9c179e"
             ],
             [
              0.4444444444444444,
              "#bd3786"
             ],
             [
              0.5555555555555556,
              "#d8576b"
             ],
             [
              0.6666666666666666,
              "#ed7953"
             ],
             [
              0.7777777777777778,
              "#fb9f3a"
             ],
             [
              0.8888888888888888,
              "#fdca26"
             ],
             [
              1,
              "#f0f921"
             ]
            ],
            "type": "heatmapgl"
           }
          ],
          "histogram": [
           {
            "marker": {
             "pattern": {
              "fillmode": "overlay",
              "size": 10,
              "solidity": 0.2
             }
            },
            "type": "histogram"
           }
          ],
          "histogram2d": [
           {
            "colorbar": {
             "outlinewidth": 0,
             "ticks": ""
            },
            "colorscale": [
             [
              0,
              "#0d0887"
             ],
             [
              0.1111111111111111,
              "#46039f"
             ],
             [
              0.2222222222222222,
              "#7201a8"
             ],
             [
              0.3333333333333333,
              "#9c179e"
             ],
             [
              0.4444444444444444,
              "#bd3786"
             ],
             [
              0.5555555555555556,
              "#d8576b"
             ],
             [
              0.6666666666666666,
              "#ed7953"
             ],
             [
              0.7777777777777778,
              "#fb9f3a"
             ],
             [
              0.8888888888888888,
              "#fdca26"
             ],
             [
              1,
              "#f0f921"
             ]
            ],
            "type": "histogram2d"
           }
          ],
          "histogram2dcontour": [
           {
            "colorbar": {
             "outlinewidth": 0,
             "ticks": ""
            },
            "colorscale": [
             [
              0,
              "#0d0887"
             ],
             [
              0.1111111111111111,
              "#46039f"
             ],
             [
              0.2222222222222222,
              "#7201a8"
             ],
             [
              0.3333333333333333,
              "#9c179e"
             ],
             [
              0.4444444444444444,
              "#bd3786"
             ],
             [
              0.5555555555555556,
              "#d8576b"
             ],
             [
              0.6666666666666666,
              "#ed7953"
             ],
             [
              0.7777777777777778,
              "#fb9f3a"
             ],
             [
              0.8888888888888888,
              "#fdca26"
             ],
             [
              1,
              "#f0f921"
             ]
            ],
            "type": "histogram2dcontour"
           }
          ],
          "mesh3d": [
           {
            "colorbar": {
             "outlinewidth": 0,
             "ticks": ""
            },
            "type": "mesh3d"
           }
          ],
          "parcoords": [
           {
            "line": {
             "colorbar": {
              "outlinewidth": 0,
              "ticks": ""
             }
            },
            "type": "parcoords"
           }
          ],
          "pie": [
           {
            "automargin": true,
            "type": "pie"
           }
          ],
          "scatter": [
           {
            "fillpattern": {
             "fillmode": "overlay",
             "size": 10,
             "solidity": 0.2
            },
            "type": "scatter"
           }
          ],
          "scatter3d": [
           {
            "line": {
             "colorbar": {
              "outlinewidth": 0,
              "ticks": ""
             }
            },
            "marker": {
             "colorbar": {
              "outlinewidth": 0,
              "ticks": ""
             }
            },
            "type": "scatter3d"
           }
          ],
          "scattercarpet": [
           {
            "marker": {
             "colorbar": {
              "outlinewidth": 0,
              "ticks": ""
             }
            },
            "type": "scattercarpet"
           }
          ],
          "scattergeo": [
           {
            "marker": {
             "colorbar": {
              "outlinewidth": 0,
              "ticks": ""
             }
            },
            "type": "scattergeo"
           }
          ],
          "scattergl": [
           {
            "marker": {
             "colorbar": {
              "outlinewidth": 0,
              "ticks": ""
             }
            },
            "type": "scattergl"
           }
          ],
          "scattermapbox": [
           {
            "marker": {
             "colorbar": {
              "outlinewidth": 0,
              "ticks": ""
             }
            },
            "type": "scattermapbox"
           }
          ],
          "scatterpolar": [
           {
            "marker": {
             "colorbar": {
              "outlinewidth": 0,
              "ticks": ""
             }
            },
            "type": "scatterpolar"
           }
          ],
          "scatterpolargl": [
           {
            "marker": {
             "colorbar": {
              "outlinewidth": 0,
              "ticks": ""
             }
            },
            "type": "scatterpolargl"
           }
          ],
          "scatterternary": [
           {
            "marker": {
             "colorbar": {
              "outlinewidth": 0,
              "ticks": ""
             }
            },
            "type": "scatterternary"
           }
          ],
          "surface": [
           {
            "colorbar": {
             "outlinewidth": 0,
             "ticks": ""
            },
            "colorscale": [
             [
              0,
              "#0d0887"
             ],
             [
              0.1111111111111111,
              "#46039f"
             ],
             [
              0.2222222222222222,
              "#7201a8"
             ],
             [
              0.3333333333333333,
              "#9c179e"
             ],
             [
              0.4444444444444444,
              "#bd3786"
             ],
             [
              0.5555555555555556,
              "#d8576b"
             ],
             [
              0.6666666666666666,
              "#ed7953"
             ],
             [
              0.7777777777777778,
              "#fb9f3a"
             ],
             [
              0.8888888888888888,
              "#fdca26"
             ],
             [
              1,
              "#f0f921"
             ]
            ],
            "type": "surface"
           }
          ],
          "table": [
           {
            "cells": {
             "fill": {
              "color": "#EBF0F8"
             },
             "line": {
              "color": "white"
             }
            },
            "header": {
             "fill": {
              "color": "#C8D4E3"
             },
             "line": {
              "color": "white"
             }
            },
            "type": "table"
           }
          ]
         },
         "layout": {
          "annotationdefaults": {
           "arrowcolor": "#2a3f5f",
           "arrowhead": 0,
           "arrowwidth": 1
          },
          "autotypenumbers": "strict",
          "coloraxis": {
           "colorbar": {
            "outlinewidth": 0,
            "ticks": ""
           }
          },
          "colorscale": {
           "diverging": [
            [
             0,
             "#8e0152"
            ],
            [
             0.1,
             "#c51b7d"
            ],
            [
             0.2,
             "#de77ae"
            ],
            [
             0.3,
             "#f1b6da"
            ],
            [
             0.4,
             "#fde0ef"
            ],
            [
             0.5,
             "#f7f7f7"
            ],
            [
             0.6,
             "#e6f5d0"
            ],
            [
             0.7,
             "#b8e186"
            ],
            [
             0.8,
             "#7fbc41"
            ],
            [
             0.9,
             "#4d9221"
            ],
            [
             1,
             "#276419"
            ]
           ],
           "sequential": [
            [
             0,
             "#0d0887"
            ],
            [
             0.1111111111111111,
             "#46039f"
            ],
            [
             0.2222222222222222,
             "#7201a8"
            ],
            [
             0.3333333333333333,
             "#9c179e"
            ],
            [
             0.4444444444444444,
             "#bd3786"
            ],
            [
             0.5555555555555556,
             "#d8576b"
            ],
            [
             0.6666666666666666,
             "#ed7953"
            ],
            [
             0.7777777777777778,
             "#fb9f3a"
            ],
            [
             0.8888888888888888,
             "#fdca26"
            ],
            [
             1,
             "#f0f921"
            ]
           ],
           "sequentialminus": [
            [
             0,
             "#0d0887"
            ],
            [
             0.1111111111111111,
             "#46039f"
            ],
            [
             0.2222222222222222,
             "#7201a8"
            ],
            [
             0.3333333333333333,
             "#9c179e"
            ],
            [
             0.4444444444444444,
             "#bd3786"
            ],
            [
             0.5555555555555556,
             "#d8576b"
            ],
            [
             0.6666666666666666,
             "#ed7953"
            ],
            [
             0.7777777777777778,
             "#fb9f3a"
            ],
            [
             0.8888888888888888,
             "#fdca26"
            ],
            [
             1,
             "#f0f921"
            ]
           ]
          },
          "colorway": [
           "#636efa",
           "#EF553B",
           "#00cc96",
           "#ab63fa",
           "#FFA15A",
           "#19d3f3",
           "#FF6692",
           "#B6E880",
           "#FF97FF",
           "#FECB52"
          ],
          "font": {
           "color": "#2a3f5f"
          },
          "geo": {
           "bgcolor": "white",
           "lakecolor": "white",
           "landcolor": "#E5ECF6",
           "showlakes": true,
           "showland": true,
           "subunitcolor": "white"
          },
          "hoverlabel": {
           "align": "left"
          },
          "hovermode": "closest",
          "mapbox": {
           "style": "light"
          },
          "paper_bgcolor": "white",
          "plot_bgcolor": "#E5ECF6",
          "polar": {
           "angularaxis": {
            "gridcolor": "white",
            "linecolor": "white",
            "ticks": ""
           },
           "bgcolor": "#E5ECF6",
           "radialaxis": {
            "gridcolor": "white",
            "linecolor": "white",
            "ticks": ""
           }
          },
          "scene": {
           "xaxis": {
            "backgroundcolor": "#E5ECF6",
            "gridcolor": "white",
            "gridwidth": 2,
            "linecolor": "white",
            "showbackground": true,
            "ticks": "",
            "zerolinecolor": "white"
           },
           "yaxis": {
            "backgroundcolor": "#E5ECF6",
            "gridcolor": "white",
            "gridwidth": 2,
            "linecolor": "white",
            "showbackground": true,
            "ticks": "",
            "zerolinecolor": "white"
           },
           "zaxis": {
            "backgroundcolor": "#E5ECF6",
            "gridcolor": "white",
            "gridwidth": 2,
            "linecolor": "white",
            "showbackground": true,
            "ticks": "",
            "zerolinecolor": "white"
           }
          },
          "shapedefaults": {
           "line": {
            "color": "#2a3f5f"
           }
          },
          "ternary": {
           "aaxis": {
            "gridcolor": "white",
            "linecolor": "white",
            "ticks": ""
           },
           "baxis": {
            "gridcolor": "white",
            "linecolor": "white",
            "ticks": ""
           },
           "bgcolor": "#E5ECF6",
           "caxis": {
            "gridcolor": "white",
            "linecolor": "white",
            "ticks": ""
           }
          },
          "title": {
           "x": 0.05
          },
          "xaxis": {
           "automargin": true,
           "gridcolor": "white",
           "linecolor": "white",
           "ticks": "",
           "title": {
            "standoff": 15
           },
           "zerolinecolor": "white",
           "zerolinewidth": 2
          },
          "yaxis": {
           "automargin": true,
           "gridcolor": "white",
           "linecolor": "white",
           "ticks": "",
           "title": {
            "standoff": 15
           },
           "zerolinecolor": "white",
           "zerolinewidth": 2
          }
         }
        },
        "title": {
         "text": "EV Share in 2023 by Country"
        },
        "xaxis": {
         "anchor": "y",
         "domain": [
          0,
          1
         ],
         "title": {
          "text": "country"
         }
        },
        "yaxis": {
         "anchor": "x",
         "domain": [
          0,
          1
         ],
         "title": {
          "text": "EV Share (Fraction)"
         }
        }
       }
      }
     },
     "metadata": {},
     "output_type": "display_data"
    }
   ],
   "source": [
    "df_latest = df[df['Year'] == 2023].copy()\n",
    "df_latest['EV_share'] = df_latest['EV'] / df_latest['Total']\n",
    "\n",
    "fig = px.bar(df_latest, x='country', y='EV_share',\n",
    "             title=\"EV Share in 2023 by Country\",\n",
    "             labels={'EV_share': 'EV Share (Fraction)'})\n",
    "fig.show()\n"
   ]
  },
  {
   "cell_type": "markdown",
   "id": "35d22b1c",
   "metadata": {},
   "source": [
    "This simple bar chart highlights how far along each country is in adopting electric vehicles as of 2023:\n",
    "\n",
    "- Norway stands out as the clear leader with nearly 95% EV share, an astonishing benchmark showing near-complete electrification of new vehicle sales.\n",
    "\n",
    "- Germany shows a moderate adoption level, with EVs accounting for around 25–30% of the vehicle share. This indicates strong momentum, but room for further acceleration.\n",
    "\n",
    "- USA significantly lags behind, with EVs making up only about 2% of the share, suggesting a much slower transition pace, possibly due to policy, infrastructure, or market inertia."
   ]
  },
  {
   "cell_type": "markdown",
   "id": "e9aed14d",
   "metadata": {},
   "source": [
    "### Dual Y-Axis Plot for EV and FossilFuel Trends"
   ]
  },
  {
   "cell_type": "code",
   "execution_count": 35,
   "id": "1f3dd08d",
   "metadata": {},
   "outputs": [
    {
     "data": {
      "application/vnd.plotly.v1+json": {
       "config": {
        "plotlyServerURL": "https://plot.ly"
       },
       "data": [
        {
         "mode": "lines+markers",
         "name": "USA EV",
         "type": "scatter",
         "x": [
          2016,
          2017,
          2018,
          2019,
          2020,
          2021,
          2022,
          2023
         ],
         "y": [
          280300,
          377100,
          572600,
          783600,
          1018900,
          1454400,
          2442300,
          3555900
         ]
        },
        {
         "mode": "lines+markers",
         "name": "USA FossilFuel",
         "type": "scatter",
         "x": [
          2016,
          2017,
          2018,
          2019,
          2020,
          2021,
          2022,
          2023
         ],
         "y": [
          224855100,
          227415700,
          229074100,
          231358800,
          231992200,
          240699500,
          241372900,
          242870900
         ]
        },
        {
         "mode": "lines+markers",
         "name": "Norway EV",
         "type": "scatter",
         "x": [
          2016,
          2017,
          2018,
          2019,
          2020,
          2021,
          2022,
          2023
         ],
         "y": [
          24012,
          32786,
          45981,
          60142,
          76684,
          113629,
          138172,
          104576
         ]
        },
        {
         "mode": "lines+markers",
         "name": "Norway FossilFuel",
         "type": "scatter",
         "x": [
          2016,
          2017,
          2018,
          2019,
          2020,
          2021,
          2022,
          2023
         ],
         "y": [
          94591,
          78861,
          62364,
          46957,
          23239,
          13185,
          9176,
          5379
         ]
        },
        {
         "mode": "lines+markers",
         "name": "Germany EV",
         "type": "scatter",
         "x": [
          2016,
          2017,
          2018,
          2019,
          2020,
          2021,
          2022,
          2023
         ],
         "y": [
          11410,
          25056,
          36062,
          63281,
          194163,
          355961,
          470559,
          524219
         ]
        },
        {
         "mode": "lines+markers",
         "name": "Germany FossilFuel",
         "type": "scatter",
         "x": [
          2016,
          2017,
          2018,
          2019,
          2020,
          2021,
          2022,
          2023
         ],
         "y": [
          3292134,
          3331387,
          3269297,
          3304503,
          2195321,
          1511068,
          1352571,
          1479715
         ]
        }
       ],
       "layout": {
        "template": {
         "data": {
          "bar": [
           {
            "error_x": {
             "color": "#2a3f5f"
            },
            "error_y": {
             "color": "#2a3f5f"
            },
            "marker": {
             "line": {
              "color": "#E5ECF6",
              "width": 0.5
             },
             "pattern": {
              "fillmode": "overlay",
              "size": 10,
              "solidity": 0.2
             }
            },
            "type": "bar"
           }
          ],
          "barpolar": [
           {
            "marker": {
             "line": {
              "color": "#E5ECF6",
              "width": 0.5
             },
             "pattern": {
              "fillmode": "overlay",
              "size": 10,
              "solidity": 0.2
             }
            },
            "type": "barpolar"
           }
          ],
          "carpet": [
           {
            "aaxis": {
             "endlinecolor": "#2a3f5f",
             "gridcolor": "white",
             "linecolor": "white",
             "minorgridcolor": "white",
             "startlinecolor": "#2a3f5f"
            },
            "baxis": {
             "endlinecolor": "#2a3f5f",
             "gridcolor": "white",
             "linecolor": "white",
             "minorgridcolor": "white",
             "startlinecolor": "#2a3f5f"
            },
            "type": "carpet"
           }
          ],
          "choropleth": [
           {
            "colorbar": {
             "outlinewidth": 0,
             "ticks": ""
            },
            "type": "choropleth"
           }
          ],
          "contour": [
           {
            "colorbar": {
             "outlinewidth": 0,
             "ticks": ""
            },
            "colorscale": [
             [
              0,
              "#0d0887"
             ],
             [
              0.1111111111111111,
              "#46039f"
             ],
             [
              0.2222222222222222,
              "#7201a8"
             ],
             [
              0.3333333333333333,
              "#9c179e"
             ],
             [
              0.4444444444444444,
              "#bd3786"
             ],
             [
              0.5555555555555556,
              "#d8576b"
             ],
             [
              0.6666666666666666,
              "#ed7953"
             ],
             [
              0.7777777777777778,
              "#fb9f3a"
             ],
             [
              0.8888888888888888,
              "#fdca26"
             ],
             [
              1,
              "#f0f921"
             ]
            ],
            "type": "contour"
           }
          ],
          "contourcarpet": [
           {
            "colorbar": {
             "outlinewidth": 0,
             "ticks": ""
            },
            "type": "contourcarpet"
           }
          ],
          "heatmap": [
           {
            "colorbar": {
             "outlinewidth": 0,
             "ticks": ""
            },
            "colorscale": [
             [
              0,
              "#0d0887"
             ],
             [
              0.1111111111111111,
              "#46039f"
             ],
             [
              0.2222222222222222,
              "#7201a8"
             ],
             [
              0.3333333333333333,
              "#9c179e"
             ],
             [
              0.4444444444444444,
              "#bd3786"
             ],
             [
              0.5555555555555556,
              "#d8576b"
             ],
             [
              0.6666666666666666,
              "#ed7953"
             ],
             [
              0.7777777777777778,
              "#fb9f3a"
             ],
             [
              0.8888888888888888,
              "#fdca26"
             ],
             [
              1,
              "#f0f921"
             ]
            ],
            "type": "heatmap"
           }
          ],
          "heatmapgl": [
           {
            "colorbar": {
             "outlinewidth": 0,
             "ticks": ""
            },
            "colorscale": [
             [
              0,
              "#0d0887"
             ],
             [
              0.1111111111111111,
              "#46039f"
             ],
             [
              0.2222222222222222,
              "#7201a8"
             ],
             [
              0.3333333333333333,
              "#9c179e"
             ],
             [
              0.4444444444444444,
              "#bd3786"
             ],
             [
              0.5555555555555556,
              "#d8576b"
             ],
             [
              0.6666666666666666,
              "#ed7953"
             ],
             [
              0.7777777777777778,
              "#fb9f3a"
             ],
             [
              0.8888888888888888,
              "#fdca26"
             ],
             [
              1,
              "#f0f921"
             ]
            ],
            "type": "heatmapgl"
           }
          ],
          "histogram": [
           {
            "marker": {
             "pattern": {
              "fillmode": "overlay",
              "size": 10,
              "solidity": 0.2
             }
            },
            "type": "histogram"
           }
          ],
          "histogram2d": [
           {
            "colorbar": {
             "outlinewidth": 0,
             "ticks": ""
            },
            "colorscale": [
             [
              0,
              "#0d0887"
             ],
             [
              0.1111111111111111,
              "#46039f"
             ],
             [
              0.2222222222222222,
              "#7201a8"
             ],
             [
              0.3333333333333333,
              "#9c179e"
             ],
             [
              0.4444444444444444,
              "#bd3786"
             ],
             [
              0.5555555555555556,
              "#d8576b"
             ],
             [
              0.6666666666666666,
              "#ed7953"
             ],
             [
              0.7777777777777778,
              "#fb9f3a"
             ],
             [
              0.8888888888888888,
              "#fdca26"
             ],
             [
              1,
              "#f0f921"
             ]
            ],
            "type": "histogram2d"
           }
          ],
          "histogram2dcontour": [
           {
            "colorbar": {
             "outlinewidth": 0,
             "ticks": ""
            },
            "colorscale": [
             [
              0,
              "#0d0887"
             ],
             [
              0.1111111111111111,
              "#46039f"
             ],
             [
              0.2222222222222222,
              "#7201a8"
             ],
             [
              0.3333333333333333,
              "#9c179e"
             ],
             [
              0.4444444444444444,
              "#bd3786"
             ],
             [
              0.5555555555555556,
              "#d8576b"
             ],
             [
              0.6666666666666666,
              "#ed7953"
             ],
             [
              0.7777777777777778,
              "#fb9f3a"
             ],
             [
              0.8888888888888888,
              "#fdca26"
             ],
             [
              1,
              "#f0f921"
             ]
            ],
            "type": "histogram2dcontour"
           }
          ],
          "mesh3d": [
           {
            "colorbar": {
             "outlinewidth": 0,
             "ticks": ""
            },
            "type": "mesh3d"
           }
          ],
          "parcoords": [
           {
            "line": {
             "colorbar": {
              "outlinewidth": 0,
              "ticks": ""
             }
            },
            "type": "parcoords"
           }
          ],
          "pie": [
           {
            "automargin": true,
            "type": "pie"
           }
          ],
          "scatter": [
           {
            "fillpattern": {
             "fillmode": "overlay",
             "size": 10,
             "solidity": 0.2
            },
            "type": "scatter"
           }
          ],
          "scatter3d": [
           {
            "line": {
             "colorbar": {
              "outlinewidth": 0,
              "ticks": ""
             }
            },
            "marker": {
             "colorbar": {
              "outlinewidth": 0,
              "ticks": ""
             }
            },
            "type": "scatter3d"
           }
          ],
          "scattercarpet": [
           {
            "marker": {
             "colorbar": {
              "outlinewidth": 0,
              "ticks": ""
             }
            },
            "type": "scattercarpet"
           }
          ],
          "scattergeo": [
           {
            "marker": {
             "colorbar": {
              "outlinewidth": 0,
              "ticks": ""
             }
            },
            "type": "scattergeo"
           }
          ],
          "scattergl": [
           {
            "marker": {
             "colorbar": {
              "outlinewidth": 0,
              "ticks": ""
             }
            },
            "type": "scattergl"
           }
          ],
          "scattermapbox": [
           {
            "marker": {
             "colorbar": {
              "outlinewidth": 0,
              "ticks": ""
             }
            },
            "type": "scattermapbox"
           }
          ],
          "scatterpolar": [
           {
            "marker": {
             "colorbar": {
              "outlinewidth": 0,
              "ticks": ""
             }
            },
            "type": "scatterpolar"
           }
          ],
          "scatterpolargl": [
           {
            "marker": {
             "colorbar": {
              "outlinewidth": 0,
              "ticks": ""
             }
            },
            "type": "scatterpolargl"
           }
          ],
          "scatterternary": [
           {
            "marker": {
             "colorbar": {
              "outlinewidth": 0,
              "ticks": ""
             }
            },
            "type": "scatterternary"
           }
          ],
          "surface": [
           {
            "colorbar": {
             "outlinewidth": 0,
             "ticks": ""
            },
            "colorscale": [
             [
              0,
              "#0d0887"
             ],
             [
              0.1111111111111111,
              "#46039f"
             ],
             [
              0.2222222222222222,
              "#7201a8"
             ],
             [
              0.3333333333333333,
              "#9c179e"
             ],
             [
              0.4444444444444444,
              "#bd3786"
             ],
             [
              0.5555555555555556,
              "#d8576b"
             ],
             [
              0.6666666666666666,
              "#ed7953"
             ],
             [
              0.7777777777777778,
              "#fb9f3a"
             ],
             [
              0.8888888888888888,
              "#fdca26"
             ],
             [
              1,
              "#f0f921"
             ]
            ],
            "type": "surface"
           }
          ],
          "table": [
           {
            "cells": {
             "fill": {
              "color": "#EBF0F8"
             },
             "line": {
              "color": "white"
             }
            },
            "header": {
             "fill": {
              "color": "#C8D4E3"
             },
             "line": {
              "color": "white"
             }
            },
            "type": "table"
           }
          ]
         },
         "layout": {
          "annotationdefaults": {
           "arrowcolor": "#2a3f5f",
           "arrowhead": 0,
           "arrowwidth": 1
          },
          "autotypenumbers": "strict",
          "coloraxis": {
           "colorbar": {
            "outlinewidth": 0,
            "ticks": ""
           }
          },
          "colorscale": {
           "diverging": [
            [
             0,
             "#8e0152"
            ],
            [
             0.1,
             "#c51b7d"
            ],
            [
             0.2,
             "#de77ae"
            ],
            [
             0.3,
             "#f1b6da"
            ],
            [
             0.4,
             "#fde0ef"
            ],
            [
             0.5,
             "#f7f7f7"
            ],
            [
             0.6,
             "#e6f5d0"
            ],
            [
             0.7,
             "#b8e186"
            ],
            [
             0.8,
             "#7fbc41"
            ],
            [
             0.9,
             "#4d9221"
            ],
            [
             1,
             "#276419"
            ]
           ],
           "sequential": [
            [
             0,
             "#0d0887"
            ],
            [
             0.1111111111111111,
             "#46039f"
            ],
            [
             0.2222222222222222,
             "#7201a8"
            ],
            [
             0.3333333333333333,
             "#9c179e"
            ],
            [
             0.4444444444444444,
             "#bd3786"
            ],
            [
             0.5555555555555556,
             "#d8576b"
            ],
            [
             0.6666666666666666,
             "#ed7953"
            ],
            [
             0.7777777777777778,
             "#fb9f3a"
            ],
            [
             0.8888888888888888,
             "#fdca26"
            ],
            [
             1,
             "#f0f921"
            ]
           ],
           "sequentialminus": [
            [
             0,
             "#0d0887"
            ],
            [
             0.1111111111111111,
             "#46039f"
            ],
            [
             0.2222222222222222,
             "#7201a8"
            ],
            [
             0.3333333333333333,
             "#9c179e"
            ],
            [
             0.4444444444444444,
             "#bd3786"
            ],
            [
             0.5555555555555556,
             "#d8576b"
            ],
            [
             0.6666666666666666,
             "#ed7953"
            ],
            [
             0.7777777777777778,
             "#fb9f3a"
            ],
            [
             0.8888888888888888,
             "#fdca26"
            ],
            [
             1,
             "#f0f921"
            ]
           ]
          },
          "colorway": [
           "#636efa",
           "#EF553B",
           "#00cc96",
           "#ab63fa",
           "#FFA15A",
           "#19d3f3",
           "#FF6692",
           "#B6E880",
           "#FF97FF",
           "#FECB52"
          ],
          "font": {
           "color": "#2a3f5f"
          },
          "geo": {
           "bgcolor": "white",
           "lakecolor": "white",
           "landcolor": "#E5ECF6",
           "showlakes": true,
           "showland": true,
           "subunitcolor": "white"
          },
          "hoverlabel": {
           "align": "left"
          },
          "hovermode": "closest",
          "mapbox": {
           "style": "light"
          },
          "paper_bgcolor": "white",
          "plot_bgcolor": "#E5ECF6",
          "polar": {
           "angularaxis": {
            "gridcolor": "white",
            "linecolor": "white",
            "ticks": ""
           },
           "bgcolor": "#E5ECF6",
           "radialaxis": {
            "gridcolor": "white",
            "linecolor": "white",
            "ticks": ""
           }
          },
          "scene": {
           "xaxis": {
            "backgroundcolor": "#E5ECF6",
            "gridcolor": "white",
            "gridwidth": 2,
            "linecolor": "white",
            "showbackground": true,
            "ticks": "",
            "zerolinecolor": "white"
           },
           "yaxis": {
            "backgroundcolor": "#E5ECF6",
            "gridcolor": "white",
            "gridwidth": 2,
            "linecolor": "white",
            "showbackground": true,
            "ticks": "",
            "zerolinecolor": "white"
           },
           "zaxis": {
            "backgroundcolor": "#E5ECF6",
            "gridcolor": "white",
            "gridwidth": 2,
            "linecolor": "white",
            "showbackground": true,
            "ticks": "",
            "zerolinecolor": "white"
           }
          },
          "shapedefaults": {
           "line": {
            "color": "#2a3f5f"
           }
          },
          "ternary": {
           "aaxis": {
            "gridcolor": "white",
            "linecolor": "white",
            "ticks": ""
           },
           "baxis": {
            "gridcolor": "white",
            "linecolor": "white",
            "ticks": ""
           },
           "bgcolor": "#E5ECF6",
           "caxis": {
            "gridcolor": "white",
            "linecolor": "white",
            "ticks": ""
           }
          },
          "title": {
           "x": 0.05
          },
          "xaxis": {
           "automargin": true,
           "gridcolor": "white",
           "linecolor": "white",
           "ticks": "",
           "title": {
            "standoff": 15
           },
           "zerolinecolor": "white",
           "zerolinewidth": 2
          },
          "yaxis": {
           "automargin": true,
           "gridcolor": "white",
           "linecolor": "white",
           "ticks": "",
           "title": {
            "standoff": 15
           },
           "zerolinecolor": "white",
           "zerolinewidth": 2
          }
         }
        },
        "title": {
         "text": "EV and Fossil Fuel Trends by Country"
        },
        "xaxis": {
         "title": {
          "text": "Year"
         }
        },
        "yaxis": {
         "title": {
          "text": "Number of Vehicles"
         }
        }
       }
      }
     },
     "metadata": {},
     "output_type": "display_data"
    }
   ],
   "source": [
    "import plotly.graph_objects as go\n",
    "\n",
    "fig = go.Figure()\n",
    "\n",
    "countries = df['country'].unique()\n",
    "for c in countries:\n",
    "    country_df = df[df['country'] == c]\n",
    "    fig.add_trace(go.Scatter(x=country_df['Year'], y=country_df['EV'],\n",
    "                             mode='lines+markers',\n",
    "                             name=f'{c} EV'))\n",
    "    fig.add_trace(go.Scatter(x=country_df['Year'], y=country_df['FossilFuel'],\n",
    "                             mode='lines+markers',\n",
    "                             name=f'{c} FossilFuel'))\n",
    "\n",
    "fig.update_layout(title='EV and Fossil Fuel Trends by Country',\n",
    "                  xaxis_title='Year',\n",
    "                  yaxis_title='Number of Vehicles')\n",
    "fig.show()\n"
   ]
  },
  {
   "cell_type": "markdown",
   "id": "20eb18ae",
   "metadata": {},
   "source": [
    "This graph provides crucial context: it's not just about EV share, but about the actual number of vehicles on the road.\n",
    "\n",
    "- USA:\n",
    "The fossil fuel vehicle count hovers around 230–245 million, staying relatively stable.\n",
    "EV adoption is growing, but from a very small base. Even in 2023, EVs account for a tiny sliver of the total fleet, the scale is massively dominated by fossil fuels.\n",
    "\n",
    "- Norway:\n",
    "Total vehicle numbers are much smaller, making it easier to shift the fleet.\n",
    "EV count rises gradually and nearly crosses fossil fuel vehicles by 2023. This shows that Norway’s fleet transformation is real and tangible, not just a percentage illusion.\n",
    "\n",
    "- Germany:\n",
    "A steady increase in EV count is visible, while fossil fuel vehicles decline slightly.\n",
    "The gap remains large, but the curve shows momentum building.\n",
    "\n"
   ]
  },
  {
   "cell_type": "markdown",
   "id": "e48525e2",
   "metadata": {},
   "source": [
    "### FossilFuel Decline Plot"
   ]
  },
  {
   "cell_type": "code",
   "execution_count": 36,
   "id": "a9b8f397",
   "metadata": {},
   "outputs": [
    {
     "name": "stderr",
     "output_type": "stream",
     "text": [
      "/Users/sirishapadmasekhar/Desktop/Mobility Modelling/myenv/lib/python3.9/site-packages/plotly/express/_core.py:2065: FutureWarning:\n",
      "\n",
      "When grouping with a length-1 list-like, you will need to pass a length-1 tuple to get_group in a future version of pandas. Pass `(name,)` instead of `name` to silence this warning.\n",
      "\n"
     ]
    },
    {
     "data": {
      "application/vnd.plotly.v1+json": {
       "config": {
        "plotlyServerURL": "https://plot.ly"
       },
       "data": [
        {
         "hovertemplate": "country=USA<br>Year=%{x}<br>Fossil Share=%{y}<extra></extra>",
         "legendgroup": "USA",
         "line": {
          "color": "#636efa",
          "dash": "solid"
         },
         "marker": {
          "symbol": "circle"
         },
         "mode": "lines",
         "name": "USA",
         "orientation": "v",
         "showlegend": true,
         "type": "scatter",
         "x": [
          2016,
          2017,
          2018,
          2019,
          2020,
          2021,
          2022,
          2023
         ],
         "xaxis": "x",
         "y": [
          0.9987549714527346,
          0.9983445482034551,
          0.9975066047106272,
          0.9966244856605256,
          0.9956272469423131,
          0.99399390222499,
          0.9899829871148312,
          0.9855701571419991
         ],
         "yaxis": "y"
        },
        {
         "hovertemplate": "country=Norway<br>Year=%{x}<br>Fossil Share=%{y}<extra></extra>",
         "legendgroup": "Norway",
         "line": {
          "color": "#EF553B",
          "dash": "solid"
         },
         "marker": {
          "symbol": "circle"
         },
         "mode": "lines",
         "name": "Norway",
         "orientation": "v",
         "showlegend": true,
         "type": "scatter",
         "x": [
          2016,
          2017,
          2018,
          2019,
          2020,
          2021,
          2022,
          2023
         ],
         "xaxis": "x",
         "y": [
          0.7975430638348102,
          0.7063423110338836,
          0.5756057040011076,
          0.4384448034061943,
          0.23256907819020645,
          0.1039711703755106,
          0.06227434373048837,
          0.04892001273248147
         ],
         "yaxis": "y"
        },
        {
         "hovertemplate": "country=Germany<br>Year=%{x}<br>Fossil Share=%{y}<extra></extra>",
         "legendgroup": "Germany",
         "line": {
          "color": "#00cc96",
          "dash": "solid"
         },
         "marker": {
          "symbol": "circle"
         },
         "mode": "lines",
         "name": "Germany",
         "orientation": "v",
         "showlegend": true,
         "type": "scatter",
         "x": [
          2016,
          2017,
          2018,
          2019,
          2020,
          2021,
          2022,
          2023
         ],
         "xaxis": "x",
         "y": [
          0.9965461334857353,
          0.9925349544145394,
          0.989089838652927,
          0.9812098994472329,
          0.9187427076306014,
          0.8093436149090346,
          0.7418949828042981,
          0.7384050572523846
         ],
         "yaxis": "y"
        }
       ],
       "layout": {
        "legend": {
         "title": {
          "text": "country"
         },
         "tracegroupgap": 0
        },
        "template": {
         "data": {
          "bar": [
           {
            "error_x": {
             "color": "#2a3f5f"
            },
            "error_y": {
             "color": "#2a3f5f"
            },
            "marker": {
             "line": {
              "color": "#E5ECF6",
              "width": 0.5
             },
             "pattern": {
              "fillmode": "overlay",
              "size": 10,
              "solidity": 0.2
             }
            },
            "type": "bar"
           }
          ],
          "barpolar": [
           {
            "marker": {
             "line": {
              "color": "#E5ECF6",
              "width": 0.5
             },
             "pattern": {
              "fillmode": "overlay",
              "size": 10,
              "solidity": 0.2
             }
            },
            "type": "barpolar"
           }
          ],
          "carpet": [
           {
            "aaxis": {
             "endlinecolor": "#2a3f5f",
             "gridcolor": "white",
             "linecolor": "white",
             "minorgridcolor": "white",
             "startlinecolor": "#2a3f5f"
            },
            "baxis": {
             "endlinecolor": "#2a3f5f",
             "gridcolor": "white",
             "linecolor": "white",
             "minorgridcolor": "white",
             "startlinecolor": "#2a3f5f"
            },
            "type": "carpet"
           }
          ],
          "choropleth": [
           {
            "colorbar": {
             "outlinewidth": 0,
             "ticks": ""
            },
            "type": "choropleth"
           }
          ],
          "contour": [
           {
            "colorbar": {
             "outlinewidth": 0,
             "ticks": ""
            },
            "colorscale": [
             [
              0,
              "#0d0887"
             ],
             [
              0.1111111111111111,
              "#46039f"
             ],
             [
              0.2222222222222222,
              "#7201a8"
             ],
             [
              0.3333333333333333,
              "#9c179e"
             ],
             [
              0.4444444444444444,
              "#bd3786"
             ],
             [
              0.5555555555555556,
              "#d8576b"
             ],
             [
              0.6666666666666666,
              "#ed7953"
             ],
             [
              0.7777777777777778,
              "#fb9f3a"
             ],
             [
              0.8888888888888888,
              "#fdca26"
             ],
             [
              1,
              "#f0f921"
             ]
            ],
            "type": "contour"
           }
          ],
          "contourcarpet": [
           {
            "colorbar": {
             "outlinewidth": 0,
             "ticks": ""
            },
            "type": "contourcarpet"
           }
          ],
          "heatmap": [
           {
            "colorbar": {
             "outlinewidth": 0,
             "ticks": ""
            },
            "colorscale": [
             [
              0,
              "#0d0887"
             ],
             [
              0.1111111111111111,
              "#46039f"
             ],
             [
              0.2222222222222222,
              "#7201a8"
             ],
             [
              0.3333333333333333,
              "#9c179e"
             ],
             [
              0.4444444444444444,
              "#bd3786"
             ],
             [
              0.5555555555555556,
              "#d8576b"
             ],
             [
              0.6666666666666666,
              "#ed7953"
             ],
             [
              0.7777777777777778,
              "#fb9f3a"
             ],
             [
              0.8888888888888888,
              "#fdca26"
             ],
             [
              1,
              "#f0f921"
             ]
            ],
            "type": "heatmap"
           }
          ],
          "heatmapgl": [
           {
            "colorbar": {
             "outlinewidth": 0,
             "ticks": ""
            },
            "colorscale": [
             [
              0,
              "#0d0887"
             ],
             [
              0.1111111111111111,
              "#46039f"
             ],
             [
              0.2222222222222222,
              "#7201a8"
             ],
             [
              0.3333333333333333,
              "#9c179e"
             ],
             [
              0.4444444444444444,
              "#bd3786"
             ],
             [
              0.5555555555555556,
              "#d8576b"
             ],
             [
              0.6666666666666666,
              "#ed7953"
             ],
             [
              0.7777777777777778,
              "#fb9f3a"
             ],
             [
              0.8888888888888888,
              "#fdca26"
             ],
             [
              1,
              "#f0f921"
             ]
            ],
            "type": "heatmapgl"
           }
          ],
          "histogram": [
           {
            "marker": {
             "pattern": {
              "fillmode": "overlay",
              "size": 10,
              "solidity": 0.2
             }
            },
            "type": "histogram"
           }
          ],
          "histogram2d": [
           {
            "colorbar": {
             "outlinewidth": 0,
             "ticks": ""
            },
            "colorscale": [
             [
              0,
              "#0d0887"
             ],
             [
              0.1111111111111111,
              "#46039f"
             ],
             [
              0.2222222222222222,
              "#7201a8"
             ],
             [
              0.3333333333333333,
              "#9c179e"
             ],
             [
              0.4444444444444444,
              "#bd3786"
             ],
             [
              0.5555555555555556,
              "#d8576b"
             ],
             [
              0.6666666666666666,
              "#ed7953"
             ],
             [
              0.7777777777777778,
              "#fb9f3a"
             ],
             [
              0.8888888888888888,
              "#fdca26"
             ],
             [
              1,
              "#f0f921"
             ]
            ],
            "type": "histogram2d"
           }
          ],
          "histogram2dcontour": [
           {
            "colorbar": {
             "outlinewidth": 0,
             "ticks": ""
            },
            "colorscale": [
             [
              0,
              "#0d0887"
             ],
             [
              0.1111111111111111,
              "#46039f"
             ],
             [
              0.2222222222222222,
              "#7201a8"
             ],
             [
              0.3333333333333333,
              "#9c179e"
             ],
             [
              0.4444444444444444,
              "#bd3786"
             ],
             [
              0.5555555555555556,
              "#d8576b"
             ],
             [
              0.6666666666666666,
              "#ed7953"
             ],
             [
              0.7777777777777778,
              "#fb9f3a"
             ],
             [
              0.8888888888888888,
              "#fdca26"
             ],
             [
              1,
              "#f0f921"
             ]
            ],
            "type": "histogram2dcontour"
           }
          ],
          "mesh3d": [
           {
            "colorbar": {
             "outlinewidth": 0,
             "ticks": ""
            },
            "type": "mesh3d"
           }
          ],
          "parcoords": [
           {
            "line": {
             "colorbar": {
              "outlinewidth": 0,
              "ticks": ""
             }
            },
            "type": "parcoords"
           }
          ],
          "pie": [
           {
            "automargin": true,
            "type": "pie"
           }
          ],
          "scatter": [
           {
            "fillpattern": {
             "fillmode": "overlay",
             "size": 10,
             "solidity": 0.2
            },
            "type": "scatter"
           }
          ],
          "scatter3d": [
           {
            "line": {
             "colorbar": {
              "outlinewidth": 0,
              "ticks": ""
             }
            },
            "marker": {
             "colorbar": {
              "outlinewidth": 0,
              "ticks": ""
             }
            },
            "type": "scatter3d"
           }
          ],
          "scattercarpet": [
           {
            "marker": {
             "colorbar": {
              "outlinewidth": 0,
              "ticks": ""
             }
            },
            "type": "scattercarpet"
           }
          ],
          "scattergeo": [
           {
            "marker": {
             "colorbar": {
              "outlinewidth": 0,
              "ticks": ""
             }
            },
            "type": "scattergeo"
           }
          ],
          "scattergl": [
           {
            "marker": {
             "colorbar": {
              "outlinewidth": 0,
              "ticks": ""
             }
            },
            "type": "scattergl"
           }
          ],
          "scattermapbox": [
           {
            "marker": {
             "colorbar": {
              "outlinewidth": 0,
              "ticks": ""
             }
            },
            "type": "scattermapbox"
           }
          ],
          "scatterpolar": [
           {
            "marker": {
             "colorbar": {
              "outlinewidth": 0,
              "ticks": ""
             }
            },
            "type": "scatterpolar"
           }
          ],
          "scatterpolargl": [
           {
            "marker": {
             "colorbar": {
              "outlinewidth": 0,
              "ticks": ""
             }
            },
            "type": "scatterpolargl"
           }
          ],
          "scatterternary": [
           {
            "marker": {
             "colorbar": {
              "outlinewidth": 0,
              "ticks": ""
             }
            },
            "type": "scatterternary"
           }
          ],
          "surface": [
           {
            "colorbar": {
             "outlinewidth": 0,
             "ticks": ""
            },
            "colorscale": [
             [
              0,
              "#0d0887"
             ],
             [
              0.1111111111111111,
              "#46039f"
             ],
             [
              0.2222222222222222,
              "#7201a8"
             ],
             [
              0.3333333333333333,
              "#9c179e"
             ],
             [
              0.4444444444444444,
              "#bd3786"
             ],
             [
              0.5555555555555556,
              "#d8576b"
             ],
             [
              0.6666666666666666,
              "#ed7953"
             ],
             [
              0.7777777777777778,
              "#fb9f3a"
             ],
             [
              0.8888888888888888,
              "#fdca26"
             ],
             [
              1,
              "#f0f921"
             ]
            ],
            "type": "surface"
           }
          ],
          "table": [
           {
            "cells": {
             "fill": {
              "color": "#EBF0F8"
             },
             "line": {
              "color": "white"
             }
            },
            "header": {
             "fill": {
              "color": "#C8D4E3"
             },
             "line": {
              "color": "white"
             }
            },
            "type": "table"
           }
          ]
         },
         "layout": {
          "annotationdefaults": {
           "arrowcolor": "#2a3f5f",
           "arrowhead": 0,
           "arrowwidth": 1
          },
          "autotypenumbers": "strict",
          "coloraxis": {
           "colorbar": {
            "outlinewidth": 0,
            "ticks": ""
           }
          },
          "colorscale": {
           "diverging": [
            [
             0,
             "#8e0152"
            ],
            [
             0.1,
             "#c51b7d"
            ],
            [
             0.2,
             "#de77ae"
            ],
            [
             0.3,
             "#f1b6da"
            ],
            [
             0.4,
             "#fde0ef"
            ],
            [
             0.5,
             "#f7f7f7"
            ],
            [
             0.6,
             "#e6f5d0"
            ],
            [
             0.7,
             "#b8e186"
            ],
            [
             0.8,
             "#7fbc41"
            ],
            [
             0.9,
             "#4d9221"
            ],
            [
             1,
             "#276419"
            ]
           ],
           "sequential": [
            [
             0,
             "#0d0887"
            ],
            [
             0.1111111111111111,
             "#46039f"
            ],
            [
             0.2222222222222222,
             "#7201a8"
            ],
            [
             0.3333333333333333,
             "#9c179e"
            ],
            [
             0.4444444444444444,
             "#bd3786"
            ],
            [
             0.5555555555555556,
             "#d8576b"
            ],
            [
             0.6666666666666666,
             "#ed7953"
            ],
            [
             0.7777777777777778,
             "#fb9f3a"
            ],
            [
             0.8888888888888888,
             "#fdca26"
            ],
            [
             1,
             "#f0f921"
            ]
           ],
           "sequentialminus": [
            [
             0,
             "#0d0887"
            ],
            [
             0.1111111111111111,
             "#46039f"
            ],
            [
             0.2222222222222222,
             "#7201a8"
            ],
            [
             0.3333333333333333,
             "#9c179e"
            ],
            [
             0.4444444444444444,
             "#bd3786"
            ],
            [
             0.5555555555555556,
             "#d8576b"
            ],
            [
             0.6666666666666666,
             "#ed7953"
            ],
            [
             0.7777777777777778,
             "#fb9f3a"
            ],
            [
             0.8888888888888888,
             "#fdca26"
            ],
            [
             1,
             "#f0f921"
            ]
           ]
          },
          "colorway": [
           "#636efa",
           "#EF553B",
           "#00cc96",
           "#ab63fa",
           "#FFA15A",
           "#19d3f3",
           "#FF6692",
           "#B6E880",
           "#FF97FF",
           "#FECB52"
          ],
          "font": {
           "color": "#2a3f5f"
          },
          "geo": {
           "bgcolor": "white",
           "lakecolor": "white",
           "landcolor": "#E5ECF6",
           "showlakes": true,
           "showland": true,
           "subunitcolor": "white"
          },
          "hoverlabel": {
           "align": "left"
          },
          "hovermode": "closest",
          "mapbox": {
           "style": "light"
          },
          "paper_bgcolor": "white",
          "plot_bgcolor": "#E5ECF6",
          "polar": {
           "angularaxis": {
            "gridcolor": "white",
            "linecolor": "white",
            "ticks": ""
           },
           "bgcolor": "#E5ECF6",
           "radialaxis": {
            "gridcolor": "white",
            "linecolor": "white",
            "ticks": ""
           }
          },
          "scene": {
           "xaxis": {
            "backgroundcolor": "#E5ECF6",
            "gridcolor": "white",
            "gridwidth": 2,
            "linecolor": "white",
            "showbackground": true,
            "ticks": "",
            "zerolinecolor": "white"
           },
           "yaxis": {
            "backgroundcolor": "#E5ECF6",
            "gridcolor": "white",
            "gridwidth": 2,
            "linecolor": "white",
            "showbackground": true,
            "ticks": "",
            "zerolinecolor": "white"
           },
           "zaxis": {
            "backgroundcolor": "#E5ECF6",
            "gridcolor": "white",
            "gridwidth": 2,
            "linecolor": "white",
            "showbackground": true,
            "ticks": "",
            "zerolinecolor": "white"
           }
          },
          "shapedefaults": {
           "line": {
            "color": "#2a3f5f"
           }
          },
          "ternary": {
           "aaxis": {
            "gridcolor": "white",
            "linecolor": "white",
            "ticks": ""
           },
           "baxis": {
            "gridcolor": "white",
            "linecolor": "white",
            "ticks": ""
           },
           "bgcolor": "#E5ECF6",
           "caxis": {
            "gridcolor": "white",
            "linecolor": "white",
            "ticks": ""
           }
          },
          "title": {
           "x": 0.05
          },
          "xaxis": {
           "automargin": true,
           "gridcolor": "white",
           "linecolor": "white",
           "ticks": "",
           "title": {
            "standoff": 15
           },
           "zerolinecolor": "white",
           "zerolinewidth": 2
          },
          "yaxis": {
           "automargin": true,
           "gridcolor": "white",
           "linecolor": "white",
           "ticks": "",
           "title": {
            "standoff": 15
           },
           "zerolinecolor": "white",
           "zerolinewidth": 2
          }
         }
        },
        "title": {
         "text": "Fossil Fuel Share Decline Over Time"
        },
        "xaxis": {
         "anchor": "y",
         "domain": [
          0,
          1
         ],
         "title": {
          "text": "Year"
         }
        },
        "yaxis": {
         "anchor": "x",
         "domain": [
          0,
          1
         ],
         "tickformat": ".0%",
         "title": {
          "text": "Fossil Share"
         }
        }
       }
      }
     },
     "metadata": {},
     "output_type": "display_data"
    }
   ],
   "source": [
    "fig = px.line(df, x='Year', y='FossilFuel_share', color='country',\n",
    "              title='Fossil Fuel Share Decline Over Time',\n",
    "              labels={'FossilFuel_share': 'Fossil Share'}) \n",
    "fig.update_yaxes(tickformat=\".0%\")\n",
    "fig.show()\n"
   ]
  },
  {
   "cell_type": "markdown",
   "id": "018c83ac",
   "metadata": {},
   "source": [
    "This graph visualizes how far along each country is in reducing fossil fuel dependency:\n",
    "\n",
    "- Norway is clearly nearing the endgame.\n",
    "\n",
    "- Germany is in transition phase.\n",
    "\n",
    "- The U.S. is still at the starting line, at least when measured by fleet composition.\n",
    "\n"
   ]
  },
  {
   "cell_type": "markdown",
   "id": "a37ab945",
   "metadata": {},
   "source": [
    "### Predict EV adoption into the future using an S-curve ( logistic growth mode )"
   ]
  },
  {
   "cell_type": "code",
   "execution_count": 37,
   "id": "15d0423b",
   "metadata": {},
   "outputs": [],
   "source": [
    "import numpy as np\n",
    "import pandas as pd\n",
    "from scipy.optimize import curve_fit\n",
    "\n",
    "# --- Logistic Functions ---\n",
    "def logistic(x, L, k, x0):\n",
    "    return L / (1 + np.exp(-k * (x - x0)))\n",
    "\n",
    "def logistic_fixed_L(x, k, x0):\n",
    "    L_fixed = 0.90\n",
    "    return L_fixed / (1 + np.exp(-k * (x - x0)))\n",
    "\n",
    "# --- Forecast Range ---\n",
    "future_years = np.arange(2016, 2031)\n",
    "\n",
    "# --- Storage ---\n",
    "all_preds_list = []\n",
    "fitted_params = {}"
   ]
  },
  {
   "cell_type": "code",
   "execution_count": 38,
   "id": "1a4665b6",
   "metadata": {},
   "outputs": [
    {
     "name": "stdout",
     "output_type": "stream",
     "text": [
      "USA → L=0.90, k=0.383, x0=2033.8\n",
      "Norway → L=1.00, k=0.679, x0=2018.4\n",
      "Germany → L=0.90 (fixed), k=0.499, x0=2024.3\n",
      "| country   |    10% |    25% |    45% |    89% |\n",
      "|:----------|-------:|-------:|-------:|-------:|\n",
      "| USA       | 2028.3 | 2031.3 | 2033.8 | 2045.4 |\n",
      "| Norway    | 2015.1 | 2016.7 | 2018.1 | 2021.4 |\n",
      "| Germany   | 2020.2 | 2022.4 | 2024.3 | 2033.3 |\n"
     ]
    }
   ],
   "source": [
    "# --- Fit per Country ---\n",
    "for country in df['country'].unique():\n",
    "    df_country = df[df['country'] == country].copy()\n",
    "    df_country['EV_share'] = df_country['EV'] / df_country['Total']\n",
    "\n",
    "    x_data = df_country['Year'].values\n",
    "    y_data = df_country['EV_share'].values\n",
    "\n",
    "    try:\n",
    "        if country == 'Germany':\n",
    "            # Use fixed L = 0.90\n",
    "            p0 = [0.4, 2024]\n",
    "            popt, _ = curve_fit(logistic_fixed_L, x_data, y_data, p0=p0)\n",
    "            k, x0 = popt\n",
    "            L = 0.90\n",
    "            fitted_params[country] = {'L': L, 'k': k, 'x0': x0}\n",
    "            y_pred = logistic_fixed_L(future_years, k, x0)\n",
    "            print(f\"{country} → L={L:.2f} (fixed), k={k:.3f}, x0={x0:.1f}\")\n",
    "        else:\n",
    "            if country == 'USA':\n",
    "                p0 = [0.6, 0.2, 2028]\n",
    "                bounds = ([0.2, 0.01, 2015], [0.95, 1.0, 2040])\n",
    "            else:  # Norway\n",
    "                p0 = [0.95, 0.5, 2021]\n",
    "                bounds = ([0.5, 0.01, 2010], [1.0, 5.0, 2040])\n",
    "\n",
    "            popt, _ = curve_fit(logistic, x_data, y_data, p0=p0, bounds=bounds)\n",
    "            L, k, x0 = popt\n",
    "            fitted_params[country] = {'L': L, 'k': k, 'x0': x0}\n",
    "            y_pred = logistic(future_years, L, k, x0)\n",
    "            print(f\"{country} → L={L:.2f}, k={k:.3f}, x0={x0:.1f}\")\n",
    "\n",
    "        # Predicted data\n",
    "        df_pred = pd.DataFrame({\n",
    "            'Year': future_years,\n",
    "            'EV_share': y_pred,\n",
    "            'country': country,\n",
    "            'Type': 'Predicted'\n",
    "        })\n",
    "\n",
    "        # Actual data\n",
    "        df_actual = df_country[['Year', 'EV_share']].copy()\n",
    "        df_actual['country'] = country\n",
    "        df_actual['Type'] = 'Actual'\n",
    "\n",
    "        # Append\n",
    "        all_preds_list.append(df_actual)\n",
    "        all_preds_list.append(df_pred)\n",
    "\n",
    "    except RuntimeError:\n",
    "        print(f\"Could not fit model for {country}\")\n",
    "\n",
    "# --- Combine all predictions ---\n",
    "all_preds = pd.concat(all_preds_list, ignore_index=True)\n",
    "\n",
    "# --- Milestone Calculation ---\n",
    "thresholds = [0.10, 0.25, 0.45, 0.89]\n",
    "\n",
    "def year_at_threshold(L, k, x0, threshold):\n",
    "    if threshold > L:\n",
    "        return np.nan\n",
    "    return x0 - (1 / k) * np.log((L / threshold) - 1)\n",
    "\n",
    "milestone_rows = []\n",
    "for country, params in fitted_params.items():\n",
    "    row = {'country': country}\n",
    "    for t in thresholds:\n",
    "        label = f\"{int(t * 100)}%\"\n",
    "        year = year_at_threshold(params['L'], params['k'], params['x0'], t)\n",
    "        row[label] = round(year, 1) if not np.isnan(year) else 'N/A'\n",
    "    milestone_rows.append(row)\n",
    "\n",
    "milestone_df = pd.DataFrame(milestone_rows)\n",
    "print(milestone_df.to_markdown(index=False))"
   ]
  },
  {
   "cell_type": "markdown",
   "id": "f1985b44",
   "metadata": {},
   "source": [
    "### Residue Plot "
   ]
  },
  {
   "cell_type": "markdown",
   "id": "d2f34875",
   "metadata": {},
   "source": [
    "Residuals help you see where reality diverges from theory. If a country consistently overperforms, it might point to unexpected drivers, public enthusiasm, tech innovation, or unmodeled incentives.\n",
    "\n",
    "If it underperforms, something might be missing in policy or infrastructure or the model's assumptions don’t reflect real-world behavior."
   ]
  },
  {
   "cell_type": "code",
   "execution_count": 39,
   "id": "0b79d307",
   "metadata": {},
   "outputs": [
    {
     "data": {
      "application/vnd.plotly.v1+json": {
       "config": {
        "plotlyServerURL": "https://plot.ly"
       },
       "data": [
        {
         "hovertemplate": "country=USA<br>Year=%{x}<br>Residual (Actual - Predicted)=%{y}<extra></extra>",
         "legendgroup": "USA",
         "line": {
          "color": "#636efa",
          "dash": "solid"
         },
         "marker": {
          "symbol": "circle"
         },
         "mode": "markers+lines",
         "name": "USA",
         "orientation": "v",
         "showlegend": true,
         "type": "scatter",
         "x": [
          2016,
          2017,
          2018,
          2019,
          2020,
          2021,
          2022,
          2023
         ],
         "xaxis": "x",
         "y": [
          0.00025030683529460415,
          0.0001971424039584706,
          0.0003559577858331651,
          0.00024378374146671314,
          -0.00021343415040015173,
          -0.0007049805064675008,
          0.00020731234261863254,
          0.00011375251183845872
         ],
         "yaxis": "y"
        },
        {
         "hovertemplate": "country=Norway<br>Year=%{x}<br>Residual (Actual - Predicted)=%{y}<extra></extra>",
         "legendgroup": "Norway",
         "line": {
          "color": "#EF553B",
          "dash": "dot"
         },
         "marker": {
          "symbol": "circle"
         },
         "mode": "markers+lines",
         "name": "Norway",
         "orientation": "v",
         "showlegend": true,
         "type": "scatter",
         "x": [
          2016,
          2017,
          2018,
          2019,
          2020,
          2021,
          2022,
          2023
         ],
         "xaxis": "x",
         "y": [
          0.034347770923530085,
          0.008787918682816864,
          -0.015454086649263843,
          -0.045959605580868645,
          0.014271756940728464,
          0.03858886294608377,
          0.015509700684378736,
          -0.007887728081745649
         ],
         "yaxis": "y"
        },
        {
         "hovertemplate": "country=Germany<br>Year=%{x}<br>Residual (Actual - Predicted)=%{y}<extra></extra>",
         "legendgroup": "Germany",
         "line": {
          "color": "#00cc96",
          "dash": "dash"
         },
         "marker": {
          "symbol": "circle"
         },
         "mode": "markers+lines",
         "name": "Germany",
         "orientation": "v",
         "showlegend": true,
         "type": "scatter",
         "x": [
          2016,
          2017,
          2018,
          2019,
          2020,
          2021,
          2022,
          2023
         ],
         "xaxis": "x",
         "y": [
          -0.010317124928665785,
          -0.01499530076456781,
          -0.025497190205835803,
          -0.0396480725347545,
          -0.011117012341858662,
          0.047979748872668315,
          0.04496306110559875,
          -0.04282474839376671
         ],
         "yaxis": "y"
        }
       ],
       "layout": {
        "legend": {
         "title": {
          "text": "Country"
         },
         "tracegroupgap": 0
        },
        "shapes": [
         {
          "line": {
           "color": "black",
           "dash": "dash"
          },
          "type": "line",
          "x0": 0,
          "x1": 1,
          "xref": "x domain",
          "y0": 0,
          "y1": 0,
          "yref": "y"
         }
        ],
        "template": {
         "data": {
          "bar": [
           {
            "error_x": {
             "color": "#2a3f5f"
            },
            "error_y": {
             "color": "#2a3f5f"
            },
            "marker": {
             "line": {
              "color": "#E5ECF6",
              "width": 0.5
             },
             "pattern": {
              "fillmode": "overlay",
              "size": 10,
              "solidity": 0.2
             }
            },
            "type": "bar"
           }
          ],
          "barpolar": [
           {
            "marker": {
             "line": {
              "color": "#E5ECF6",
              "width": 0.5
             },
             "pattern": {
              "fillmode": "overlay",
              "size": 10,
              "solidity": 0.2
             }
            },
            "type": "barpolar"
           }
          ],
          "carpet": [
           {
            "aaxis": {
             "endlinecolor": "#2a3f5f",
             "gridcolor": "white",
             "linecolor": "white",
             "minorgridcolor": "white",
             "startlinecolor": "#2a3f5f"
            },
            "baxis": {
             "endlinecolor": "#2a3f5f",
             "gridcolor": "white",
             "linecolor": "white",
             "minorgridcolor": "white",
             "startlinecolor": "#2a3f5f"
            },
            "type": "carpet"
           }
          ],
          "choropleth": [
           {
            "colorbar": {
             "outlinewidth": 0,
             "ticks": ""
            },
            "type": "choropleth"
           }
          ],
          "contour": [
           {
            "colorbar": {
             "outlinewidth": 0,
             "ticks": ""
            },
            "colorscale": [
             [
              0,
              "#0d0887"
             ],
             [
              0.1111111111111111,
              "#46039f"
             ],
             [
              0.2222222222222222,
              "#7201a8"
             ],
             [
              0.3333333333333333,
              "#9c179e"
             ],
             [
              0.4444444444444444,
              "#bd3786"
             ],
             [
              0.5555555555555556,
              "#d8576b"
             ],
             [
              0.6666666666666666,
              "#ed7953"
             ],
             [
              0.7777777777777778,
              "#fb9f3a"
             ],
             [
              0.8888888888888888,
              "#fdca26"
             ],
             [
              1,
              "#f0f921"
             ]
            ],
            "type": "contour"
           }
          ],
          "contourcarpet": [
           {
            "colorbar": {
             "outlinewidth": 0,
             "ticks": ""
            },
            "type": "contourcarpet"
           }
          ],
          "heatmap": [
           {
            "colorbar": {
             "outlinewidth": 0,
             "ticks": ""
            },
            "colorscale": [
             [
              0,
              "#0d0887"
             ],
             [
              0.1111111111111111,
              "#46039f"
             ],
             [
              0.2222222222222222,
              "#7201a8"
             ],
             [
              0.3333333333333333,
              "#9c179e"
             ],
             [
              0.4444444444444444,
              "#bd3786"
             ],
             [
              0.5555555555555556,
              "#d8576b"
             ],
             [
              0.6666666666666666,
              "#ed7953"
             ],
             [
              0.7777777777777778,
              "#fb9f3a"
             ],
             [
              0.8888888888888888,
              "#fdca26"
             ],
             [
              1,
              "#f0f921"
             ]
            ],
            "type": "heatmap"
           }
          ],
          "heatmapgl": [
           {
            "colorbar": {
             "outlinewidth": 0,
             "ticks": ""
            },
            "colorscale": [
             [
              0,
              "#0d0887"
             ],
             [
              0.1111111111111111,
              "#46039f"
             ],
             [
              0.2222222222222222,
              "#7201a8"
             ],
             [
              0.3333333333333333,
              "#9c179e"
             ],
             [
              0.4444444444444444,
              "#bd3786"
             ],
             [
              0.5555555555555556,
              "#d8576b"
             ],
             [
              0.6666666666666666,
              "#ed7953"
             ],
             [
              0.7777777777777778,
              "#fb9f3a"
             ],
             [
              0.8888888888888888,
              "#fdca26"
             ],
             [
              1,
              "#f0f921"
             ]
            ],
            "type": "heatmapgl"
           }
          ],
          "histogram": [
           {
            "marker": {
             "pattern": {
              "fillmode": "overlay",
              "size": 10,
              "solidity": 0.2
             }
            },
            "type": "histogram"
           }
          ],
          "histogram2d": [
           {
            "colorbar": {
             "outlinewidth": 0,
             "ticks": ""
            },
            "colorscale": [
             [
              0,
              "#0d0887"
             ],
             [
              0.1111111111111111,
              "#46039f"
             ],
             [
              0.2222222222222222,
              "#7201a8"
             ],
             [
              0.3333333333333333,
              "#9c179e"
             ],
             [
              0.4444444444444444,
              "#bd3786"
             ],
             [
              0.5555555555555556,
              "#d8576b"
             ],
             [
              0.6666666666666666,
              "#ed7953"
             ],
             [
              0.7777777777777778,
              "#fb9f3a"
             ],
             [
              0.8888888888888888,
              "#fdca26"
             ],
             [
              1,
              "#f0f921"
             ]
            ],
            "type": "histogram2d"
           }
          ],
          "histogram2dcontour": [
           {
            "colorbar": {
             "outlinewidth": 0,
             "ticks": ""
            },
            "colorscale": [
             [
              0,
              "#0d0887"
             ],
             [
              0.1111111111111111,
              "#46039f"
             ],
             [
              0.2222222222222222,
              "#7201a8"
             ],
             [
              0.3333333333333333,
              "#9c179e"
             ],
             [
              0.4444444444444444,
              "#bd3786"
             ],
             [
              0.5555555555555556,
              "#d8576b"
             ],
             [
              0.6666666666666666,
              "#ed7953"
             ],
             [
              0.7777777777777778,
              "#fb9f3a"
             ],
             [
              0.8888888888888888,
              "#fdca26"
             ],
             [
              1,
              "#f0f921"
             ]
            ],
            "type": "histogram2dcontour"
           }
          ],
          "mesh3d": [
           {
            "colorbar": {
             "outlinewidth": 0,
             "ticks": ""
            },
            "type": "mesh3d"
           }
          ],
          "parcoords": [
           {
            "line": {
             "colorbar": {
              "outlinewidth": 0,
              "ticks": ""
             }
            },
            "type": "parcoords"
           }
          ],
          "pie": [
           {
            "automargin": true,
            "type": "pie"
           }
          ],
          "scatter": [
           {
            "fillpattern": {
             "fillmode": "overlay",
             "size": 10,
             "solidity": 0.2
            },
            "type": "scatter"
           }
          ],
          "scatter3d": [
           {
            "line": {
             "colorbar": {
              "outlinewidth": 0,
              "ticks": ""
             }
            },
            "marker": {
             "colorbar": {
              "outlinewidth": 0,
              "ticks": ""
             }
            },
            "type": "scatter3d"
           }
          ],
          "scattercarpet": [
           {
            "marker": {
             "colorbar": {
              "outlinewidth": 0,
              "ticks": ""
             }
            },
            "type": "scattercarpet"
           }
          ],
          "scattergeo": [
           {
            "marker": {
             "colorbar": {
              "outlinewidth": 0,
              "ticks": ""
             }
            },
            "type": "scattergeo"
           }
          ],
          "scattergl": [
           {
            "marker": {
             "colorbar": {
              "outlinewidth": 0,
              "ticks": ""
             }
            },
            "type": "scattergl"
           }
          ],
          "scattermapbox": [
           {
            "marker": {
             "colorbar": {
              "outlinewidth": 0,
              "ticks": ""
             }
            },
            "type": "scattermapbox"
           }
          ],
          "scatterpolar": [
           {
            "marker": {
             "colorbar": {
              "outlinewidth": 0,
              "ticks": ""
             }
            },
            "type": "scatterpolar"
           }
          ],
          "scatterpolargl": [
           {
            "marker": {
             "colorbar": {
              "outlinewidth": 0,
              "ticks": ""
             }
            },
            "type": "scatterpolargl"
           }
          ],
          "scatterternary": [
           {
            "marker": {
             "colorbar": {
              "outlinewidth": 0,
              "ticks": ""
             }
            },
            "type": "scatterternary"
           }
          ],
          "surface": [
           {
            "colorbar": {
             "outlinewidth": 0,
             "ticks": ""
            },
            "colorscale": [
             [
              0,
              "#0d0887"
             ],
             [
              0.1111111111111111,
              "#46039f"
             ],
             [
              0.2222222222222222,
              "#7201a8"
             ],
             [
              0.3333333333333333,
              "#9c179e"
             ],
             [
              0.4444444444444444,
              "#bd3786"
             ],
             [
              0.5555555555555556,
              "#d8576b"
             ],
             [
              0.6666666666666666,
              "#ed7953"
             ],
             [
              0.7777777777777778,
              "#fb9f3a"
             ],
             [
              0.8888888888888888,
              "#fdca26"
             ],
             [
              1,
              "#f0f921"
             ]
            ],
            "type": "surface"
           }
          ],
          "table": [
           {
            "cells": {
             "fill": {
              "color": "#EBF0F8"
             },
             "line": {
              "color": "white"
             }
            },
            "header": {
             "fill": {
              "color": "#C8D4E3"
             },
             "line": {
              "color": "white"
             }
            },
            "type": "table"
           }
          ]
         },
         "layout": {
          "annotationdefaults": {
           "arrowcolor": "#2a3f5f",
           "arrowhead": 0,
           "arrowwidth": 1
          },
          "autotypenumbers": "strict",
          "coloraxis": {
           "colorbar": {
            "outlinewidth": 0,
            "ticks": ""
           }
          },
          "colorscale": {
           "diverging": [
            [
             0,
             "#8e0152"
            ],
            [
             0.1,
             "#c51b7d"
            ],
            [
             0.2,
             "#de77ae"
            ],
            [
             0.3,
             "#f1b6da"
            ],
            [
             0.4,
             "#fde0ef"
            ],
            [
             0.5,
             "#f7f7f7"
            ],
            [
             0.6,
             "#e6f5d0"
            ],
            [
             0.7,
             "#b8e186"
            ],
            [
             0.8,
             "#7fbc41"
            ],
            [
             0.9,
             "#4d9221"
            ],
            [
             1,
             "#276419"
            ]
           ],
           "sequential": [
            [
             0,
             "#0d0887"
            ],
            [
             0.1111111111111111,
             "#46039f"
            ],
            [
             0.2222222222222222,
             "#7201a8"
            ],
            [
             0.3333333333333333,
             "#9c179e"
            ],
            [
             0.4444444444444444,
             "#bd3786"
            ],
            [
             0.5555555555555556,
             "#d8576b"
            ],
            [
             0.6666666666666666,
             "#ed7953"
            ],
            [
             0.7777777777777778,
             "#fb9f3a"
            ],
            [
             0.8888888888888888,
             "#fdca26"
            ],
            [
             1,
             "#f0f921"
            ]
           ],
           "sequentialminus": [
            [
             0,
             "#0d0887"
            ],
            [
             0.1111111111111111,
             "#46039f"
            ],
            [
             0.2222222222222222,
             "#7201a8"
            ],
            [
             0.3333333333333333,
             "#9c179e"
            ],
            [
             0.4444444444444444,
             "#bd3786"
            ],
            [
             0.5555555555555556,
             "#d8576b"
            ],
            [
             0.6666666666666666,
             "#ed7953"
            ],
            [
             0.7777777777777778,
             "#fb9f3a"
            ],
            [
             0.8888888888888888,
             "#fdca26"
            ],
            [
             1,
             "#f0f921"
            ]
           ]
          },
          "colorway": [
           "#636efa",
           "#EF553B",
           "#00cc96",
           "#ab63fa",
           "#FFA15A",
           "#19d3f3",
           "#FF6692",
           "#B6E880",
           "#FF97FF",
           "#FECB52"
          ],
          "font": {
           "color": "#2a3f5f"
          },
          "geo": {
           "bgcolor": "white",
           "lakecolor": "white",
           "landcolor": "#E5ECF6",
           "showlakes": true,
           "showland": true,
           "subunitcolor": "white"
          },
          "hoverlabel": {
           "align": "left"
          },
          "hovermode": "closest",
          "mapbox": {
           "style": "light"
          },
          "paper_bgcolor": "white",
          "plot_bgcolor": "#E5ECF6",
          "polar": {
           "angularaxis": {
            "gridcolor": "white",
            "linecolor": "white",
            "ticks": ""
           },
           "bgcolor": "#E5ECF6",
           "radialaxis": {
            "gridcolor": "white",
            "linecolor": "white",
            "ticks": ""
           }
          },
          "scene": {
           "xaxis": {
            "backgroundcolor": "#E5ECF6",
            "gridcolor": "white",
            "gridwidth": 2,
            "linecolor": "white",
            "showbackground": true,
            "ticks": "",
            "zerolinecolor": "white"
           },
           "yaxis": {
            "backgroundcolor": "#E5ECF6",
            "gridcolor": "white",
            "gridwidth": 2,
            "linecolor": "white",
            "showbackground": true,
            "ticks": "",
            "zerolinecolor": "white"
           },
           "zaxis": {
            "backgroundcolor": "#E5ECF6",
            "gridcolor": "white",
            "gridwidth": 2,
            "linecolor": "white",
            "showbackground": true,
            "ticks": "",
            "zerolinecolor": "white"
           }
          },
          "shapedefaults": {
           "line": {
            "color": "#2a3f5f"
           }
          },
          "ternary": {
           "aaxis": {
            "gridcolor": "white",
            "linecolor": "white",
            "ticks": ""
           },
           "baxis": {
            "gridcolor": "white",
            "linecolor": "white",
            "ticks": ""
           },
           "bgcolor": "#E5ECF6",
           "caxis": {
            "gridcolor": "white",
            "linecolor": "white",
            "ticks": ""
           }
          },
          "title": {
           "x": 0.05
          },
          "xaxis": {
           "automargin": true,
           "gridcolor": "white",
           "linecolor": "white",
           "ticks": "",
           "title": {
            "standoff": 15
           },
           "zerolinecolor": "white",
           "zerolinewidth": 2
          },
          "yaxis": {
           "automargin": true,
           "gridcolor": "white",
           "linecolor": "white",
           "ticks": "",
           "title": {
            "standoff": 15
           },
           "zerolinecolor": "white",
           "zerolinewidth": 2
          }
         }
        },
        "title": {
         "font": {
          "size": 20
         },
         "text": "Residuals of Logistic Fit (Actual - Predicted EV Share)"
        },
        "xaxis": {
         "anchor": "y",
         "domain": [
          0,
          1
         ],
         "title": {
          "text": "Year"
         }
        },
        "yaxis": {
         "anchor": "x",
         "domain": [
          0,
          1
         ],
         "tickformat": ".1%",
         "title": {
          "text": "Residual (Actual - Predicted)"
         }
        }
       }
      }
     },
     "metadata": {},
     "output_type": "display_data"
    }
   ],
   "source": [
    "# Filter only overlapping years for actual vs predicted\n",
    "actual_df = all_preds[all_preds['Type'] == 'Actual']\n",
    "pred_df = all_preds[all_preds['Type'] == 'Predicted']\n",
    "\n",
    "# Merge actual and predicted to compute residuals\n",
    "merged_df = pd.merge(\n",
    "    actual_df, \n",
    "    pred_df, \n",
    "    on=['Year', 'country'], \n",
    "    suffixes=('_actual', '_pred')\n",
    ")\n",
    "\n",
    "# Compute residuals\n",
    "merged_df['residual'] = merged_df['EV_share_actual'] - merged_df['EV_share_pred']\n",
    "\n",
    "# Plot residuals\n",
    "fig = px.line(\n",
    "    merged_df,\n",
    "    x='Year',\n",
    "    y='residual',\n",
    "    color='country',\n",
    "    markers=True,\n",
    "    line_dash='country',\n",
    "    title=\"Residuals of Logistic Fit (Actual - Predicted EV Share)\",\n",
    "    labels={'residual': 'Residual (Actual - Predicted)'}\n",
    ")\n",
    "\n",
    "# Add horizontal zero line\n",
    "fig.add_hline(y=0, line_dash=\"dash\", line_color=\"black\")\n",
    "\n",
    "# Style\n",
    "fig.update_layout(\n",
    "    yaxis_tickformat='.1%',\n",
    "    title_font_size=20,\n",
    "    legend_title_text='Country',\n",
    "    yaxis_title='Residual (Actual - Predicted)',\n",
    "    xaxis_title='Year'\n",
    ")\n",
    "\n",
    "fig.show()\n"
   ]
  },
  {
   "cell_type": "markdown",
   "id": "74d5bfae",
   "metadata": {},
   "source": [
    "Each line shows the gap between actual EV share and the predicted value from the logistic model for each year. Here's what we learn:\n",
    "\n",
    "- USA:\n",
    "The line stays very close to 0, with tiny fluctuations. This means the logistic model fits the U.S. trend almost perfectly, likely because the growth has been slow and predictable.\n",
    "But it also suggests no surprise upticks, the EV transition is proceeding as expected (or more accurately, not proceeding rapidly at all).\n",
    "\n",
    "- Norway:\n",
    "Starts above the predicted curve, drops below it around 2019, and then rises above again after 2020. This wave-like pattern shows real-world variability. Post-2020, actual EV growth is faster than predicted, signaling that the country outperformed expectations during that phase.\n",
    "\n",
    "\n",
    "- Germany:\n",
    "Below the curve from 2016–2020, lagging behind predictions. But in 2021 and 2022, Germany’s EV share exceeds model expectations (positive residuals). This suggests a catch-up period,  the model underestimates how fast EV adoption picked up in those years.However, 2023 again dips below predicted, possibly indicating a slowdown or plateau.\n",
    "\n"
   ]
  },
  {
   "cell_type": "markdown",
   "id": "169daf5a",
   "metadata": {},
   "source": [
    "### S-curve Forecast (Actual vs Predicted)"
   ]
  },
  {
   "cell_type": "code",
   "execution_count": 40,
   "id": "4a61ee71",
   "metadata": {},
   "outputs": [
    {
     "data": {
      "application/vnd.plotly.v1+json": {
       "config": {
        "plotlyServerURL": "https://plot.ly"
       },
       "data": [
        {
         "hovertemplate": "Country=USA<br>Data Type=Actual<br>Year=%{x}<br>EV Share (%)=%{y}<extra></extra>",
         "legendgroup": "USA, Actual",
         "line": {
          "color": "#636efa",
          "dash": "solid"
         },
         "marker": {
          "symbol": "circle"
         },
         "mode": "lines+markers",
         "name": "USA, Actual",
         "orientation": "v",
         "showlegend": true,
         "type": "scatter",
         "x": [
          2016,
          2017,
          2018,
          2019,
          2020,
          2021,
          2022,
          2023
         ],
         "xaxis": "x",
         "y": [
          0.0012450285472653346,
          0.0016554517965449303,
          0.0024933952893727625,
          0.0033755143394743918,
          0.004372753057686952,
          0.006006097775010024,
          0.010017012885168767,
          0.014429842858000834
         ],
         "yaxis": "y"
        },
        {
         "hovertemplate": "Country=USA<br>Data Type=Predicted<br>Year=%{x}<br>EV Share (%)=%{y}<extra></extra>",
         "legendgroup": "USA, Predicted",
         "line": {
          "color": "#636efa",
          "dash": "dot"
         },
         "marker": {
          "symbol": "circle"
         },
         "mode": "lines+markers",
         "name": "USA, Predicted",
         "orientation": "v",
         "showlegend": true,
         "type": "scatter",
         "x": [
          2016,
          2017,
          2018,
          2019,
          2020,
          2021,
          2022,
          2023,
          2024,
          2025,
          2026,
          2027,
          2028,
          2029,
          2030
         ],
         "xaxis": "x",
         "y": [
          0.0009947217119707305,
          0.0014583093925864597,
          0.0021374375035395974,
          0.0031317305980076786,
          0.004586187208087103,
          0.006711078281477525,
          0.009809700542550134,
          0.014316090346162375,
          0.020844173508546775,
          0.03024741237049358,
          0.04368195335501891,
          0.06265382565656885,
          0.08900935895095148,
          0.12479968981692587,
          0.17193140512144275
         ],
         "yaxis": "y"
        },
        {
         "hovertemplate": "Country=Norway<br>Data Type=Actual<br>Year=%{x}<br>EV Share (%)=%{y}<extra></extra>",
         "legendgroup": "Norway, Actual",
         "line": {
          "color": "#EF553B",
          "dash": "solid"
         },
         "marker": {
          "symbol": "circle"
         },
         "mode": "lines+markers",
         "name": "Norway, Actual",
         "orientation": "v",
         "showlegend": true,
         "type": "scatter",
         "x": [
          2016,
          2017,
          2018,
          2019,
          2020,
          2021,
          2022,
          2023
         ],
         "xaxis": "x",
         "y": [
          0.20245693616518975,
          0.29365768896611644,
          0.42439429599889245,
          0.5615551965938057,
          0.7674309218097936,
          0.8960288296244894,
          0.9377256562695117,
          0.9510799872675185
         ],
         "yaxis": "y"
        },
        {
         "hovertemplate": "Country=Norway<br>Data Type=Predicted<br>Year=%{x}<br>EV Share (%)=%{y}<extra></extra>",
         "legendgroup": "Norway, Predicted",
         "line": {
          "color": "#EF553B",
          "dash": "dot"
         },
         "marker": {
          "symbol": "circle"
         },
         "mode": "lines+markers",
         "name": "Norway, Predicted",
         "orientation": "v",
         "showlegend": true,
         "type": "scatter",
         "x": [
          2016,
          2017,
          2018,
          2019,
          2020,
          2021,
          2022,
          2023,
          2024,
          2025,
          2026,
          2027,
          2028,
          2029,
          2030
         ],
         "xaxis": "x",
         "y": [
          0.16810916524165967,
          0.2848697702832996,
          0.4398483826481563,
          0.6075148021746744,
          0.7531591648690651,
          0.8574399666784056,
          0.9222159555851329,
          0.9589677153492642,
          0.978754866212333,
          0.9891083611404206,
          0.9944448742154065,
          0.9971741570449405,
          0.998564454588803,
          0.9992712340977757,
          0.9996301651431572
         ],
         "yaxis": "y"
        },
        {
         "hovertemplate": "Country=Germany<br>Data Type=Actual<br>Year=%{x}<br>EV Share (%)=%{y}<extra></extra>",
         "legendgroup": "Germany, Actual",
         "line": {
          "color": "#00cc96",
          "dash": "solid"
         },
         "marker": {
          "symbol": "circle"
         },
         "mode": "lines+markers",
         "name": "Germany, Actual",
         "orientation": "v",
         "showlegend": true,
         "type": "scatter",
         "x": [
          2016,
          2017,
          2018,
          2019,
          2020,
          2021,
          2022,
          2023
         ],
         "xaxis": "x",
         "y": [
          0.0034538665142646806,
          0.00746504558546056,
          0.01091016134707304,
          0.01879010055276704,
          0.08125729236939858,
          0.19065638509096539,
          0.2581050171957019,
          0.26159494274761547
         ],
         "yaxis": "y"
        },
        {
         "hovertemplate": "Country=Germany<br>Data Type=Predicted<br>Year=%{x}<br>EV Share (%)=%{y}<extra></extra>",
         "legendgroup": "Germany, Predicted",
         "line": {
          "color": "#00cc96",
          "dash": "dot"
         },
         "marker": {
          "symbol": "circle"
         },
         "mode": "lines+markers",
         "name": "Germany, Predicted",
         "orientation": "v",
         "showlegend": true,
         "type": "scatter",
         "x": [
          2016,
          2017,
          2018,
          2019,
          2020,
          2021,
          2022,
          2023,
          2024,
          2025,
          2026,
          2027,
          2028,
          2029,
          2030
         ],
         "xaxis": "x",
         "y": [
          0.013770991442930466,
          0.02246034635002837,
          0.03640735155290884,
          0.05843817308752154,
          0.09237430471125724,
          0.14267663621829707,
          0.21314195609010314,
          0.3044196911413822,
          0.41137533449186375,
          0.5229157422585015,
          0.6259561129767311,
          0.7110159591682153,
          0.7749486818540413,
          0.8196959131747412,
          0.8494751420759209
         ],
         "yaxis": "y"
        }
       ],
       "layout": {
        "legend": {
         "title": {
          "text": "Country & Data Type"
         },
         "tracegroupgap": 0
        },
        "template": {
         "data": {
          "bar": [
           {
            "error_x": {
             "color": "#2a3f5f"
            },
            "error_y": {
             "color": "#2a3f5f"
            },
            "marker": {
             "line": {
              "color": "white",
              "width": 0.5
             },
             "pattern": {
              "fillmode": "overlay",
              "size": 10,
              "solidity": 0.2
             }
            },
            "type": "bar"
           }
          ],
          "barpolar": [
           {
            "marker": {
             "line": {
              "color": "white",
              "width": 0.5
             },
             "pattern": {
              "fillmode": "overlay",
              "size": 10,
              "solidity": 0.2
             }
            },
            "type": "barpolar"
           }
          ],
          "carpet": [
           {
            "aaxis": {
             "endlinecolor": "#2a3f5f",
             "gridcolor": "#C8D4E3",
             "linecolor": "#C8D4E3",
             "minorgridcolor": "#C8D4E3",
             "startlinecolor": "#2a3f5f"
            },
            "baxis": {
             "endlinecolor": "#2a3f5f",
             "gridcolor": "#C8D4E3",
             "linecolor": "#C8D4E3",
             "minorgridcolor": "#C8D4E3",
             "startlinecolor": "#2a3f5f"
            },
            "type": "carpet"
           }
          ],
          "choropleth": [
           {
            "colorbar": {
             "outlinewidth": 0,
             "ticks": ""
            },
            "type": "choropleth"
           }
          ],
          "contour": [
           {
            "colorbar": {
             "outlinewidth": 0,
             "ticks": ""
            },
            "colorscale": [
             [
              0,
              "#0d0887"
             ],
             [
              0.1111111111111111,
              "#46039f"
             ],
             [
              0.2222222222222222,
              "#7201a8"
             ],
             [
              0.3333333333333333,
              "#9c179e"
             ],
             [
              0.4444444444444444,
              "#bd3786"
             ],
             [
              0.5555555555555556,
              "#d8576b"
             ],
             [
              0.6666666666666666,
              "#ed7953"
             ],
             [
              0.7777777777777778,
              "#fb9f3a"
             ],
             [
              0.8888888888888888,
              "#fdca26"
             ],
             [
              1,
              "#f0f921"
             ]
            ],
            "type": "contour"
           }
          ],
          "contourcarpet": [
           {
            "colorbar": {
             "outlinewidth": 0,
             "ticks": ""
            },
            "type": "contourcarpet"
           }
          ],
          "heatmap": [
           {
            "colorbar": {
             "outlinewidth": 0,
             "ticks": ""
            },
            "colorscale": [
             [
              0,
              "#0d0887"
             ],
             [
              0.1111111111111111,
              "#46039f"
             ],
             [
              0.2222222222222222,
              "#7201a8"
             ],
             [
              0.3333333333333333,
              "#9c179e"
             ],
             [
              0.4444444444444444,
              "#bd3786"
             ],
             [
              0.5555555555555556,
              "#d8576b"
             ],
             [
              0.6666666666666666,
              "#ed7953"
             ],
             [
              0.7777777777777778,
              "#fb9f3a"
             ],
             [
              0.8888888888888888,
              "#fdca26"
             ],
             [
              1,
              "#f0f921"
             ]
            ],
            "type": "heatmap"
           }
          ],
          "heatmapgl": [
           {
            "colorbar": {
             "outlinewidth": 0,
             "ticks": ""
            },
            "colorscale": [
             [
              0,
              "#0d0887"
             ],
             [
              0.1111111111111111,
              "#46039f"
             ],
             [
              0.2222222222222222,
              "#7201a8"
             ],
             [
              0.3333333333333333,
              "#9c179e"
             ],
             [
              0.4444444444444444,
              "#bd3786"
             ],
             [
              0.5555555555555556,
              "#d8576b"
             ],
             [
              0.6666666666666666,
              "#ed7953"
             ],
             [
              0.7777777777777778,
              "#fb9f3a"
             ],
             [
              0.8888888888888888,
              "#fdca26"
             ],
             [
              1,
              "#f0f921"
             ]
            ],
            "type": "heatmapgl"
           }
          ],
          "histogram": [
           {
            "marker": {
             "pattern": {
              "fillmode": "overlay",
              "size": 10,
              "solidity": 0.2
             }
            },
            "type": "histogram"
           }
          ],
          "histogram2d": [
           {
            "colorbar": {
             "outlinewidth": 0,
             "ticks": ""
            },
            "colorscale": [
             [
              0,
              "#0d0887"
             ],
             [
              0.1111111111111111,
              "#46039f"
             ],
             [
              0.2222222222222222,
              "#7201a8"
             ],
             [
              0.3333333333333333,
              "#9c179e"
             ],
             [
              0.4444444444444444,
              "#bd3786"
             ],
             [
              0.5555555555555556,
              "#d8576b"
             ],
             [
              0.6666666666666666,
              "#ed7953"
             ],
             [
              0.7777777777777778,
              "#fb9f3a"
             ],
             [
              0.8888888888888888,
              "#fdca26"
             ],
             [
              1,
              "#f0f921"
             ]
            ],
            "type": "histogram2d"
           }
          ],
          "histogram2dcontour": [
           {
            "colorbar": {
             "outlinewidth": 0,
             "ticks": ""
            },
            "colorscale": [
             [
              0,
              "#0d0887"
             ],
             [
              0.1111111111111111,
              "#46039f"
             ],
             [
              0.2222222222222222,
              "#7201a8"
             ],
             [
              0.3333333333333333,
              "#9c179e"
             ],
             [
              0.4444444444444444,
              "#bd3786"
             ],
             [
              0.5555555555555556,
              "#d8576b"
             ],
             [
              0.6666666666666666,
              "#ed7953"
             ],
             [
              0.7777777777777778,
              "#fb9f3a"
             ],
             [
              0.8888888888888888,
              "#fdca26"
             ],
             [
              1,
              "#f0f921"
             ]
            ],
            "type": "histogram2dcontour"
           }
          ],
          "mesh3d": [
           {
            "colorbar": {
             "outlinewidth": 0,
             "ticks": ""
            },
            "type": "mesh3d"
           }
          ],
          "parcoords": [
           {
            "line": {
             "colorbar": {
              "outlinewidth": 0,
              "ticks": ""
             }
            },
            "type": "parcoords"
           }
          ],
          "pie": [
           {
            "automargin": true,
            "type": "pie"
           }
          ],
          "scatter": [
           {
            "fillpattern": {
             "fillmode": "overlay",
             "size": 10,
             "solidity": 0.2
            },
            "type": "scatter"
           }
          ],
          "scatter3d": [
           {
            "line": {
             "colorbar": {
              "outlinewidth": 0,
              "ticks": ""
             }
            },
            "marker": {
             "colorbar": {
              "outlinewidth": 0,
              "ticks": ""
             }
            },
            "type": "scatter3d"
           }
          ],
          "scattercarpet": [
           {
            "marker": {
             "colorbar": {
              "outlinewidth": 0,
              "ticks": ""
             }
            },
            "type": "scattercarpet"
           }
          ],
          "scattergeo": [
           {
            "marker": {
             "colorbar": {
              "outlinewidth": 0,
              "ticks": ""
             }
            },
            "type": "scattergeo"
           }
          ],
          "scattergl": [
           {
            "marker": {
             "colorbar": {
              "outlinewidth": 0,
              "ticks": ""
             }
            },
            "type": "scattergl"
           }
          ],
          "scattermapbox": [
           {
            "marker": {
             "colorbar": {
              "outlinewidth": 0,
              "ticks": ""
             }
            },
            "type": "scattermapbox"
           }
          ],
          "scatterpolar": [
           {
            "marker": {
             "colorbar": {
              "outlinewidth": 0,
              "ticks": ""
             }
            },
            "type": "scatterpolar"
           }
          ],
          "scatterpolargl": [
           {
            "marker": {
             "colorbar": {
              "outlinewidth": 0,
              "ticks": ""
             }
            },
            "type": "scatterpolargl"
           }
          ],
          "scatterternary": [
           {
            "marker": {
             "colorbar": {
              "outlinewidth": 0,
              "ticks": ""
             }
            },
            "type": "scatterternary"
           }
          ],
          "surface": [
           {
            "colorbar": {
             "outlinewidth": 0,
             "ticks": ""
            },
            "colorscale": [
             [
              0,
              "#0d0887"
             ],
             [
              0.1111111111111111,
              "#46039f"
             ],
             [
              0.2222222222222222,
              "#7201a8"
             ],
             [
              0.3333333333333333,
              "#9c179e"
             ],
             [
              0.4444444444444444,
              "#bd3786"
             ],
             [
              0.5555555555555556,
              "#d8576b"
             ],
             [
              0.6666666666666666,
              "#ed7953"
             ],
             [
              0.7777777777777778,
              "#fb9f3a"
             ],
             [
              0.8888888888888888,
              "#fdca26"
             ],
             [
              1,
              "#f0f921"
             ]
            ],
            "type": "surface"
           }
          ],
          "table": [
           {
            "cells": {
             "fill": {
              "color": "#EBF0F8"
             },
             "line": {
              "color": "white"
             }
            },
            "header": {
             "fill": {
              "color": "#C8D4E3"
             },
             "line": {
              "color": "white"
             }
            },
            "type": "table"
           }
          ]
         },
         "layout": {
          "annotationdefaults": {
           "arrowcolor": "#2a3f5f",
           "arrowhead": 0,
           "arrowwidth": 1
          },
          "autotypenumbers": "strict",
          "coloraxis": {
           "colorbar": {
            "outlinewidth": 0,
            "ticks": ""
           }
          },
          "colorscale": {
           "diverging": [
            [
             0,
             "#8e0152"
            ],
            [
             0.1,
             "#c51b7d"
            ],
            [
             0.2,
             "#de77ae"
            ],
            [
             0.3,
             "#f1b6da"
            ],
            [
             0.4,
             "#fde0ef"
            ],
            [
             0.5,
             "#f7f7f7"
            ],
            [
             0.6,
             "#e6f5d0"
            ],
            [
             0.7,
             "#b8e186"
            ],
            [
             0.8,
             "#7fbc41"
            ],
            [
             0.9,
             "#4d9221"
            ],
            [
             1,
             "#276419"
            ]
           ],
           "sequential": [
            [
             0,
             "#0d0887"
            ],
            [
             0.1111111111111111,
             "#46039f"
            ],
            [
             0.2222222222222222,
             "#7201a8"
            ],
            [
             0.3333333333333333,
             "#9c179e"
            ],
            [
             0.4444444444444444,
             "#bd3786"
            ],
            [
             0.5555555555555556,
             "#d8576b"
            ],
            [
             0.6666666666666666,
             "#ed7953"
            ],
            [
             0.7777777777777778,
             "#fb9f3a"
            ],
            [
             0.8888888888888888,
             "#fdca26"
            ],
            [
             1,
             "#f0f921"
            ]
           ],
           "sequentialminus": [
            [
             0,
             "#0d0887"
            ],
            [
             0.1111111111111111,
             "#46039f"
            ],
            [
             0.2222222222222222,
             "#7201a8"
            ],
            [
             0.3333333333333333,
             "#9c179e"
            ],
            [
             0.4444444444444444,
             "#bd3786"
            ],
            [
             0.5555555555555556,
             "#d8576b"
            ],
            [
             0.6666666666666666,
             "#ed7953"
            ],
            [
             0.7777777777777778,
             "#fb9f3a"
            ],
            [
             0.8888888888888888,
             "#fdca26"
            ],
            [
             1,
             "#f0f921"
            ]
           ]
          },
          "colorway": [
           "#636efa",
           "#EF553B",
           "#00cc96",
           "#ab63fa",
           "#FFA15A",
           "#19d3f3",
           "#FF6692",
           "#B6E880",
           "#FF97FF",
           "#FECB52"
          ],
          "font": {
           "color": "#2a3f5f"
          },
          "geo": {
           "bgcolor": "white",
           "lakecolor": "white",
           "landcolor": "white",
           "showlakes": true,
           "showland": true,
           "subunitcolor": "#C8D4E3"
          },
          "hoverlabel": {
           "align": "left"
          },
          "hovermode": "closest",
          "mapbox": {
           "style": "light"
          },
          "paper_bgcolor": "white",
          "plot_bgcolor": "white",
          "polar": {
           "angularaxis": {
            "gridcolor": "#EBF0F8",
            "linecolor": "#EBF0F8",
            "ticks": ""
           },
           "bgcolor": "white",
           "radialaxis": {
            "gridcolor": "#EBF0F8",
            "linecolor": "#EBF0F8",
            "ticks": ""
           }
          },
          "scene": {
           "xaxis": {
            "backgroundcolor": "white",
            "gridcolor": "#DFE8F3",
            "gridwidth": 2,
            "linecolor": "#EBF0F8",
            "showbackground": true,
            "ticks": "",
            "zerolinecolor": "#EBF0F8"
           },
           "yaxis": {
            "backgroundcolor": "white",
            "gridcolor": "#DFE8F3",
            "gridwidth": 2,
            "linecolor": "#EBF0F8",
            "showbackground": true,
            "ticks": "",
            "zerolinecolor": "#EBF0F8"
           },
           "zaxis": {
            "backgroundcolor": "white",
            "gridcolor": "#DFE8F3",
            "gridwidth": 2,
            "linecolor": "#EBF0F8",
            "showbackground": true,
            "ticks": "",
            "zerolinecolor": "#EBF0F8"
           }
          },
          "shapedefaults": {
           "line": {
            "color": "#2a3f5f"
           }
          },
          "ternary": {
           "aaxis": {
            "gridcolor": "#DFE8F3",
            "linecolor": "#A2B1C6",
            "ticks": ""
           },
           "baxis": {
            "gridcolor": "#DFE8F3",
            "linecolor": "#A2B1C6",
            "ticks": ""
           },
           "bgcolor": "white",
           "caxis": {
            "gridcolor": "#DFE8F3",
            "linecolor": "#A2B1C6",
            "ticks": ""
           }
          },
          "title": {
           "x": 0.05
          },
          "xaxis": {
           "automargin": true,
           "gridcolor": "#EBF0F8",
           "linecolor": "#EBF0F8",
           "ticks": "",
           "title": {
            "standoff": 15
           },
           "zerolinecolor": "#EBF0F8",
           "zerolinewidth": 2
          },
          "yaxis": {
           "automargin": true,
           "gridcolor": "#EBF0F8",
           "linecolor": "#EBF0F8",
           "ticks": "",
           "title": {
            "standoff": 15
           },
           "zerolinecolor": "#EBF0F8",
           "zerolinewidth": 2
          }
         }
        },
        "title": {
         "text": "EV Share S-Curve Forecast (Actual vs Predicted)"
        },
        "xaxis": {
         "anchor": "y",
         "domain": [
          0,
          1
         ],
         "title": {
          "text": "Year"
         }
        },
        "yaxis": {
         "anchor": "x",
         "domain": [
          0,
          1
         ],
         "tickformat": ".0%",
         "title": {
          "text": "EV Share"
         }
        }
       }
      }
     },
     "metadata": {},
     "output_type": "display_data"
    }
   ],
   "source": [
    "\n",
    "fig = px.line(\n",
    "    all_preds,\n",
    "    x=\"Year\",\n",
    "    y=\"EV_share\",\n",
    "    color=\"country\",\n",
    "    line_dash=\"Type\",  # Actual vs Predicted\n",
    "    title=\"EV Share S-Curve Forecast (Actual vs Predicted)\",\n",
    "    labels={\n",
    "        \"EV_share\": \"EV Share (%)\",\n",
    "        \"Year\": \"Year\",\n",
    "        \"country\": \"Country\",\n",
    "        \"Type\": \"Data Type\"\n",
    "    }\n",
    ")\n",
    "\n",
    "fig.update_traces(mode=\"lines+markers\")\n",
    "fig.update_layout(\n",
    "    yaxis_tickformat=\".0%\",\n",
    "    yaxis_title=\"EV Share\",\n",
    "    legend_title=\"Country & Data Type\",\n",
    "    template=\"plotly_white\"\n",
    ")\n",
    "\n",
    "fig.show()\n"
   ]
  },
  {
   "cell_type": "markdown",
   "id": "bc0b8fcd",
   "metadata": {},
   "source": [
    "This graph shows how electric vehicle (EV) adoption has unfolded and is expected to unfold in USA, Norway, and Germany through the lens of the logistic S-curve, a classic way to model technology adoption.\n",
    "\n",
    "\n",
    "- Norway:\n",
    "Actual EV share is already above 95% by 2023. Model predicts it will hit near 100% before 2025, then plateau, a classic saturation curve. The steep rise from 2017–2021 reflects hyper-adoption, likely fueled by strong infrastructure, consumer confidence, and policy support.\n",
    "\n",
    "**Norway is a textbook case of S-curve completion.**\n",
    "\n",
    "\n",
    "- Germany:\n",
    "Germany’s actuals follow the predicted S-curve fairly closely, with strong growth post-2020.\n",
    "The curve forecasts a steady climb to over 80% EV share by 2030. Inflection point appears around 2021–2022, when the EV market truly took off.\n",
    "\n",
    "**Germany is now in its acceleration phase, catching up rapidly**\n",
    "\n",
    "\n",
    "- USA:\n",
    "The USA’s actual EV share remains very low, hovering under 3–4% by 2023. The S-curve predicts a very slow ramp-up, reaching only ~17% by 2030. The shape is much flatter than others, showing delayed adoption.\n",
    "\n",
    "**The U.S. is still in the early adoption phase and risks falling behind unless growth accelerates**\n",
    "\n"
   ]
  },
  {
   "cell_type": "markdown",
   "id": "e2b5c623",
   "metadata": {},
   "source": [
    "## Policy Impact"
   ]
  },
  {
   "cell_type": "code",
   "execution_count": 41,
   "id": "7cd8817d",
   "metadata": {},
   "outputs": [],
   "source": [
    "df_policy = pd.read_csv(\"data/policy_events.csv\")"
   ]
  },
  {
   "cell_type": "code",
   "execution_count": 42,
   "id": "57be15a2",
   "metadata": {},
   "outputs": [],
   "source": [
    "# Standardize all column names to lowercase\n",
    "all_preds.columns = [col.strip().lower() for col in all_preds.columns]\n",
    "df_policy.columns = [col.strip().lower() for col in df_policy.columns]\n"
   ]
  },
  {
   "cell_type": "code",
   "execution_count": 43,
   "id": "f1915ae1",
   "metadata": {},
   "outputs": [
    {
     "name": "stdout",
     "output_type": "stream",
     "text": [
      "['year', 'ev_share', 'country', 'type']\n",
      "['country', 'year', 'policy_title', 'policy_description', 'status', 'source']\n"
     ]
    }
   ],
   "source": [
    "print(all_preds.columns.tolist())\n",
    "print(df_policy.columns.tolist())\n"
   ]
  },
  {
   "cell_type": "code",
   "execution_count": 44,
   "id": "faf904be",
   "metadata": {},
   "outputs": [
    {
     "data": {
      "application/vnd.plotly.v1+json": {
       "config": {
        "plotlyServerURL": "https://plot.ly"
       },
       "data": [
        {
         "hovertemplate": "Country=USA<br>Data Type=Actual<br>Year=%{x}<br>EV Share (%)=%{y}<extra></extra>",
         "legendgroup": "USA, Actual",
         "line": {
          "color": "#636efa",
          "dash": "solid"
         },
         "marker": {
          "symbol": "circle"
         },
         "mode": "lines+markers",
         "name": "USA, Actual",
         "orientation": "v",
         "showlegend": true,
         "type": "scatter",
         "x": [
          2016,
          2017,
          2018,
          2019,
          2020,
          2021,
          2022,
          2023
         ],
         "xaxis": "x",
         "y": [
          0.0012450285472653346,
          0.0016554517965449303,
          0.0024933952893727625,
          0.0033755143394743918,
          0.004372753057686952,
          0.006006097775010024,
          0.010017012885168767,
          0.014429842858000834
         ],
         "yaxis": "y"
        },
        {
         "hovertemplate": "Country=USA<br>Data Type=Predicted<br>Year=%{x}<br>EV Share (%)=%{y}<extra></extra>",
         "legendgroup": "USA, Predicted",
         "line": {
          "color": "#636efa",
          "dash": "dot"
         },
         "marker": {
          "symbol": "circle"
         },
         "mode": "lines+markers",
         "name": "USA, Predicted",
         "orientation": "v",
         "showlegend": true,
         "type": "scatter",
         "x": [
          2016,
          2017,
          2018,
          2019,
          2020,
          2021,
          2022,
          2023,
          2024,
          2025,
          2026,
          2027,
          2028,
          2029,
          2030
         ],
         "xaxis": "x",
         "y": [
          0.0009947217119707305,
          0.0014583093925864597,
          0.0021374375035395974,
          0.0031317305980076786,
          0.004586187208087103,
          0.006711078281477525,
          0.009809700542550134,
          0.014316090346162375,
          0.020844173508546775,
          0.03024741237049358,
          0.04368195335501891,
          0.06265382565656885,
          0.08900935895095148,
          0.12479968981692587,
          0.17193140512144275
         ],
         "yaxis": "y"
        },
        {
         "hovertemplate": "Country=Norway<br>Data Type=Actual<br>Year=%{x}<br>EV Share (%)=%{y}<extra></extra>",
         "legendgroup": "Norway, Actual",
         "line": {
          "color": "#EF553B",
          "dash": "solid"
         },
         "marker": {
          "symbol": "circle"
         },
         "mode": "lines+markers",
         "name": "Norway, Actual",
         "orientation": "v",
         "showlegend": true,
         "type": "scatter",
         "x": [
          2016,
          2017,
          2018,
          2019,
          2020,
          2021,
          2022,
          2023
         ],
         "xaxis": "x",
         "y": [
          0.20245693616518975,
          0.29365768896611644,
          0.42439429599889245,
          0.5615551965938057,
          0.7674309218097936,
          0.8960288296244894,
          0.9377256562695117,
          0.9510799872675185
         ],
         "yaxis": "y"
        },
        {
         "hovertemplate": "Country=Norway<br>Data Type=Predicted<br>Year=%{x}<br>EV Share (%)=%{y}<extra></extra>",
         "legendgroup": "Norway, Predicted",
         "line": {
          "color": "#EF553B",
          "dash": "dot"
         },
         "marker": {
          "symbol": "circle"
         },
         "mode": "lines+markers",
         "name": "Norway, Predicted",
         "orientation": "v",
         "showlegend": true,
         "type": "scatter",
         "x": [
          2016,
          2017,
          2018,
          2019,
          2020,
          2021,
          2022,
          2023,
          2024,
          2025,
          2026,
          2027,
          2028,
          2029,
          2030
         ],
         "xaxis": "x",
         "y": [
          0.16810916524165967,
          0.2848697702832996,
          0.4398483826481563,
          0.6075148021746744,
          0.7531591648690651,
          0.8574399666784056,
          0.9222159555851329,
          0.9589677153492642,
          0.978754866212333,
          0.9891083611404206,
          0.9944448742154065,
          0.9971741570449405,
          0.998564454588803,
          0.9992712340977757,
          0.9996301651431572
         ],
         "yaxis": "y"
        },
        {
         "hovertemplate": "Country=Germany<br>Data Type=Actual<br>Year=%{x}<br>EV Share (%)=%{y}<extra></extra>",
         "legendgroup": "Germany, Actual",
         "line": {
          "color": "#00cc96",
          "dash": "solid"
         },
         "marker": {
          "symbol": "circle"
         },
         "mode": "lines+markers",
         "name": "Germany, Actual",
         "orientation": "v",
         "showlegend": true,
         "type": "scatter",
         "x": [
          2016,
          2017,
          2018,
          2019,
          2020,
          2021,
          2022,
          2023
         ],
         "xaxis": "x",
         "y": [
          0.0034538665142646806,
          0.00746504558546056,
          0.01091016134707304,
          0.01879010055276704,
          0.08125729236939858,
          0.19065638509096539,
          0.2581050171957019,
          0.26159494274761547
         ],
         "yaxis": "y"
        },
        {
         "hovertemplate": "Country=Germany<br>Data Type=Predicted<br>Year=%{x}<br>EV Share (%)=%{y}<extra></extra>",
         "legendgroup": "Germany, Predicted",
         "line": {
          "color": "#00cc96",
          "dash": "dot"
         },
         "marker": {
          "symbol": "circle"
         },
         "mode": "lines+markers",
         "name": "Germany, Predicted",
         "orientation": "v",
         "showlegend": true,
         "type": "scatter",
         "x": [
          2016,
          2017,
          2018,
          2019,
          2020,
          2021,
          2022,
          2023,
          2024,
          2025,
          2026,
          2027,
          2028,
          2029,
          2030
         ],
         "xaxis": "x",
         "y": [
          0.013770991442930466,
          0.02246034635002837,
          0.03640735155290884,
          0.05843817308752154,
          0.09237430471125724,
          0.14267663621829707,
          0.21314195609010314,
          0.3044196911413822,
          0.41137533449186375,
          0.5229157422585015,
          0.6259561129767311,
          0.7110159591682153,
          0.7749486818540413,
          0.8196959131747412,
          0.8494751420759209
         ],
         "yaxis": "y"
        },
        {
         "hovertemplate": "<b>Full VAT Exemption</b><br>25% VAT exemption on EVs up to NOK 500000<br>Status: Implemented<br>Source: elbil.no",
         "marker": {
          "color": "black",
          "size": 8,
          "symbol": "star"
         },
         "mode": "markers",
         "showlegend": false,
         "type": "scatter",
         "x": [
          2016
         ],
         "y": [
          0.20245693616518975
         ]
        },
        {
         "hovertemplate": "<b>No Road Tolls</b><br>EVs exempt from toll roads nationally<br>Status: Implemented<br>Source: elbil.no",
         "marker": {
          "color": "black",
          "size": 8,
          "symbol": "star"
         },
         "mode": "markers",
         "showlegend": false,
         "type": "scatter",
         "x": [
          2016
         ],
         "y": [
          0.20245693616518975
         ]
        },
        {
         "hovertemplate": "<b>Bus Lane Access</b><br>EVs allowed in bus lanes in major cities<br>Status: Implemented<br>Source: elbil.no",
         "marker": {
          "color": "black",
          "size": 8,
          "symbol": "star"
         },
         "mode": "markers",
         "showlegend": false,
         "type": "scatter",
         "x": [
          2016
         ],
         "y": [
          0.20245693616518975
         ]
        },
        {
         "hovertemplate": "<b>Higher Vehicle Weight Fee</b><br>Introduced weight-based fees on EVs post‑500kg<br>Status: Implemented<br>Source: toll.no",
         "marker": {
          "color": "black",
          "size": 8,
          "symbol": "star"
         },
         "mode": "markers",
         "showlegend": false,
         "type": "scatter",
         "x": [
          2016
         ],
         "y": [
          0.20245693616518975
         ]
        },
        {
         "hovertemplate": "<b>Zero‑Emission Vehicle Target</b><br>All new passenger cars to be ZEV by 2025<br>Status: Implemented<br>Source: wikipedia EVs in Norway",
         "marker": {
          "color": "black",
          "size": 8,
          "symbol": "star"
         },
         "mode": "markers",
         "showlegend": false,
         "type": "scatter",
         "x": [
          2017
         ],
         "y": [
          0.29365768896611644
         ]
        },
        {
         "hovertemplate": "<b>NTP Transport Plan EVs by 2025</b><br>Plan mandates all new cars/buses be ZEV by 2025<br>Status: Implemented<br>Source: wikipedia EVs in Norway",
         "marker": {
          "color": "black",
          "size": 8,
          "symbol": "star"
         },
         "mode": "markers",
         "showlegend": false,
         "type": "scatter",
         "x": [
          2018
         ],
         "y": [
          0.42439429599889245
         ]
        },
        {
         "hovertemplate": "<b>Public EV Charger Funding</b><br>State funding for fast-charging installation<br>Status: Implemented<br>Source: elbil.no",
         "marker": {
          "color": "black",
          "size": 8,
          "symbol": "star"
         },
         "mode": "markers",
         "showlegend": false,
         "type": "scatter",
         "x": [
          2019
         ],
         "y": [
          0.5615551965938057
         ]
        },
        {
         "hovertemplate": "<b>Company Car Tax Reduction</b><br>Reduced company car tax rates for EVs<br>Status: Implemented<br>Source: elbil.no",
         "marker": {
          "color": "black",
          "size": 8,
          "symbol": "star"
         },
         "mode": "markers",
         "showlegend": false,
         "type": "scatter",
         "x": [
          2020
         ],
         "y": [
          0.7674309218097936
         ]
        },
        {
         "hovertemplate": "<b>Extended VAT Exemption</b><br>Maintained exemption on EVs ≤ NOK 500K through 2026<br>Status: Implemented<br>Source: vatupdate 2024",
         "marker": {
          "color": "black",
          "size": 8,
          "symbol": "star"
         },
         "mode": "markers",
         "showlegend": false,
         "type": "scatter",
         "x": [
          2021
         ],
         "y": [
          0.8960288296244894
         ]
        },
        {
         "hovertemplate": "<b>Public Fleet ZEV Mandate</b><br>All new public cars & buses to be ZEV from 2022–2025<br>Status: Implemented<br>Source: wikipedia EVs in Norway",
         "marker": {
          "color": "black",
          "size": 8,
          "symbol": "star"
         },
         "mode": "markers",
         "showlegend": false,
         "type": "scatter",
         "x": [
          2021
         ],
         "y": [
          0.8960288296244894
         ]
        },
        {
         "hovertemplate": "<b>Fuel Tax Increase</b><br>Higher petrol & diesel taxes to encourage EVs<br>Status: Implemented<br>Source: thenorwayguide.com",
         "marker": {
          "color": "black",
          "size": 8,
          "symbol": "star"
         },
         "mode": "markers",
         "showlegend": false,
         "type": "scatter",
         "x": [
          2022
         ],
         "y": [
          0.9377256562695117
         ]
        },
        {
         "hovertemplate": "<b>EU AFIR Alignment</b><br>Complying with EU charger infrastructure law<br>Status: Implemented<br>Source: elbil.no",
         "marker": {
          "color": "black",
          "size": 8,
          "symbol": "star"
         },
         "mode": "markers",
         "showlegend": false,
         "type": "scatter",
         "x": [
          2022
         ],
         "y": [
          0.9377256562695117
         ]
        },
        {
         "hovertemplate": "<b>VAT Partial Reintroduction</b><br>25% VAT on EVs > NOK 500K<br>Status: Implemented<br>Source: elbil.no",
         "marker": {
          "color": "black",
          "size": 8,
          "symbol": "star"
         },
         "mode": "markers",
         "showlegend": false,
         "type": "scatter",
         "x": [
          2023
         ],
         "y": [
          0.9510799872675185
         ]
        },
        {
         "hovertemplate": "<b>National Heavy‑Duty ZEV Target</b><br>All new heavy trucks/buses to be ZEV by 2030<br>Status: Implemented<br>Source: elbil.no",
         "marker": {
          "color": "black",
          "size": 8,
          "symbol": "star"
         },
         "mode": "markers",
         "showlegend": false,
         "type": "scatter",
         "x": [
          2023
         ],
         "y": [
          0.9510799872675185
         ]
        },
        {
         "hovertemplate": "<b>Zero‑Emission Zones Expansion</b><br>Creation of EV-only city zones<br>Status: Planned<br>Source: elbil.no",
         "marker": {
          "color": "black",
          "size": 8,
          "symbol": "star"
         },
         "mode": "markers",
         "showlegend": false,
         "type": "scatter",
         "x": [
          2025
         ],
         "y": [
          0.9891083611404206
         ]
        },
        {
         "hovertemplate": "<b>All‑Bus ZEV Mandate</b><br>All new public buses must be zero-emission<br>Status: Planned<br>Source: elbil.no",
         "marker": {
          "color": "black",
          "size": 8,
          "symbol": "star"
         },
         "mode": "markers",
         "showlegend": false,
         "type": "scatter",
         "x": [
          2027
         ],
         "y": [
          0.9971741570449405
         ]
        },
        {
         "hovertemplate": "<b>Environmental Bonus Launch</b><br>€4k subsidy for BEVs and €3k for PHEVs<br>Status: Implemented<br>Source: bmwi.de",
         "marker": {
          "color": "black",
          "size": 8,
          "symbol": "star"
         },
         "mode": "markers",
         "showlegend": false,
         "type": "scatter",
         "x": [
          2016
         ],
         "y": [
          0.0034538665142646806
         ]
        },
        {
         "hovertemplate": "<b>Electric Mobility Law (EmoG)</b><br>Grants EVs special parking toll and bus-lane access<br>Status: Implemented<br>Source: bmvi.de",
         "marker": {
          "color": "black",
          "size": 8,
          "symbol": "star"
         },
         "mode": "markers",
         "showlegend": false,
         "type": "scatter",
         "x": [
          2016
         ],
         "y": [
          0.0034538665142646806
         ]
        },
        {
         "hovertemplate": "<b>Charging Infrastructure Funding</b><br>€300m for public charging station rollout<br>Status: Implemented<br>Source: bmwi.de",
         "marker": {
          "color": "black",
          "size": 8,
          "symbol": "star"
         },
         "mode": "markers",
         "showlegend": false,
         "type": "scatter",
         "x": [
          2017
         ],
         "y": [
          0.00746504558546056
         ]
        },
        {
         "hovertemplate": "<b>Municipal Fleet EV Procurement</b><br>Local governments encouraged to buy EVs<br>Status: Implemented<br>Source: bmu.de",
         "marker": {
          "color": "black",
          "size": 8,
          "symbol": "star"
         },
         "mode": "markers",
         "showlegend": false,
         "type": "scatter",
         "x": [
          2017
         ],
         "y": [
          0.00746504558546056
         ]
        },
        {
         "hovertemplate": "<b>CO2 Fleet Emission Rules</b><br>Stricter CO₂ targets per manufacturer<br>Status: Implemented<br>Source: bundesregierung.de",
         "marker": {
          "color": "black",
          "size": 8,
          "symbol": "star"
         },
         "mode": "markers",
         "showlegend": false,
         "type": "scatter",
         "x": [
          2019
         ],
         "y": [
          0.01879010055276704
         ]
        },
        {
         "hovertemplate": "<b>Environmental Bonus Increase</b><br>Boosted EV subsidy up to €9k total<br>Status: Implemented<br>Source: bmwi.de",
         "marker": {
          "color": "black",
          "size": 8,
          "symbol": "star"
         },
         "mode": "markers",
         "showlegend": false,
         "type": "scatter",
         "x": [
          2020
         ],
         "y": [
          0.08125729236939858
         ]
        },
        {
         "hovertemplate": "<b>BIL Charging Funds</b><br>€2.5bn for EV charging in recovery package<br>Status: Implemented<br>Source: bmvi.de",
         "marker": {
          "color": "black",
          "size": 8,
          "symbol": "star"
         },
         "mode": "markers",
         "showlegend": false,
         "type": "scatter",
         "x": [
          2020
         ],
         "y": [
          0.08125729236939858
         ]
        },
        {
         "hovertemplate": "<b>Company Car Tax Reduction</b><br>1% rule maintained for EVs as fringe benefit<br>Status: Implemented<br>Source: bundesfinanzministerium.de",
         "marker": {
          "color": "black",
          "size": 8,
          "symbol": "star"
         },
         "mode": "markers",
         "showlegend": false,
         "type": "scatter",
         "x": [
          2021
         ],
         "y": [
          0.19065638509096539
         ]
        },
        {
         "hovertemplate": "<b>Coalition ZEV Target by 2030</b><br>Target of 12–15M EVs by 2030 set by coalition<br>Status: Implemented<br>Source: bundesregierung.de",
         "marker": {
          "color": "black",
          "size": 8,
          "symbol": "star"
         },
         "mode": "markers",
         "showlegend": false,
         "type": "scatter",
         "x": [
          2021
         ],
         "y": [
          0.19065638509096539
         ]
        },
        {
         "hovertemplate": "<b>CO₂ Price Introduction</b><br>Carbon pricing introduced for transport fuels<br>Status: Implemented<br>Source: bundesfinanzministerium.de",
         "marker": {
          "color": "black",
          "size": 8,
          "symbol": "star"
         },
         "mode": "markers",
         "showlegend": false,
         "type": "scatter",
         "x": [
          2021
         ],
         "y": [
          0.19065638509096539
         ]
        },
        {
         "hovertemplate": "<b>ICE Ban Planning by 2035</b><br>Commitment to stop new ICE sales by 2035<br>Status: Implemented<br>Source: bundesregierung.de",
         "marker": {
          "color": "black",
          "size": 8,
          "symbol": "star"
         },
         "mode": "markers",
         "showlegend": false,
         "type": "scatter",
         "x": [
          2022
         ],
         "y": [
          0.2581050171957019
         ]
        },
        {
         "hovertemplate": "<b>AFIR Compliance Plan</b><br>Aligned charging targets with EU AFIR regulation<br>Status: Implemented<br>Source: bmvi.de",
         "marker": {
          "color": "black",
          "size": 8,
          "symbol": "star"
         },
         "mode": "markers",
         "showlegend": false,
         "type": "scatter",
         "x": [
          2022
         ],
         "y": [
          0.2581050171957019
         ]
        },
        {
         "hovertemplate": "<b>Rebate Reduction Plan</b><br>Environmental bonus cut by end of 2023<br>Status: Implemented<br>Source: bmwi.de",
         "marker": {
          "color": "black",
          "size": 8,
          "symbol": "star"
         },
         "mode": "markers",
         "showlegend": false,
         "type": "scatter",
         "x": [
          2023
         ],
         "y": [
          0.26159494274761547
         ]
        },
        {
         "hovertemplate": "<b>Charging Masterplan II</b><br>Low-emission zones + 15k chargers by 2030<br>Status: Implemented<br>Source: bmvi.de",
         "marker": {
          "color": "black",
          "size": 8,
          "symbol": "star"
         },
         "mode": "markers",
         "showlegend": false,
         "type": "scatter",
         "x": [
          2023
         ],
         "y": [
          0.26159494274761547
         ]
        },
        {
         "hovertemplate": "<b>OEM Bonus Continuation</b><br>Automaker discounts continue after subsidy ends<br>Status: Planned<br>Source: bmwi.de",
         "marker": {
          "color": "black",
          "size": 8,
          "symbol": "star"
         },
         "mode": "markers",
         "showlegend": false,
         "type": "scatter",
         "x": [
          2024
         ],
         "y": [
          0.41137533449186375
         ]
        },
        {
         "hovertemplate": "<b>Heavy-Duty EV Strategy</b><br>Zero-emission freight truck plan<br>Status: Planned<br>Source: bmvi.de",
         "marker": {
          "color": "black",
          "size": 8,
          "symbol": "star"
         },
         "mode": "markers",
         "showlegend": false,
         "type": "scatter",
         "x": [
          2025
         ],
         "y": [
          0.5229157422585015
         ]
        },
        {
         "hovertemplate": "<b>Grid Charging Upgrade</b><br>300kW+ megawatt hub funding<br>Status: Planned<br>Source: bmwi.de",
         "marker": {
          "color": "black",
          "size": 8,
          "symbol": "star"
         },
         "mode": "markers",
         "showlegend": false,
         "type": "scatter",
         "x": [
          2025
         ],
         "y": [
          0.5229157422585015
         ]
        },
        {
         "hovertemplate": "<b>Fleet Conversion Mandate</b><br>Public fleet to be 80% EV<br>Status: Planned<br>Source: bmvi.de",
         "marker": {
          "color": "black",
          "size": 8,
          "symbol": "star"
         },
         "mode": "markers",
         "showlegend": false,
         "type": "scatter",
         "x": [
          2026
         ],
         "y": [
          0.6259561129767311
         ]
        },
        {
         "hovertemplate": "<b>Home Charger Subsidy Increase</b><br>€1500 grant for domestic chargers<br>Status: Planned<br>Source: bmwi.de",
         "marker": {
          "color": "black",
          "size": 8,
          "symbol": "star"
         },
         "mode": "markers",
         "showlegend": false,
         "type": "scatter",
         "x": [
          2027
         ],
         "y": [
          0.7110159591682153
         ]
        },
        {
         "hovertemplate": "<b>EV Recycling Regulation</b><br>Battery recycling & reuse regulation<br>Status: Planned<br>Source: bmu.de",
         "marker": {
          "color": "black",
          "size": 8,
          "symbol": "star"
         },
         "mode": "markers",
         "showlegend": false,
         "type": "scatter",
         "x": [
          2028
         ],
         "y": [
          0.7749486818540413
         ]
        },
        {
         "hovertemplate": "<b>EV Export Incentives</b><br>Export subsidies for domestic EVs<br>Status: Planned<br>Source: bmwi.de",
         "marker": {
          "color": "black",
          "size": 8,
          "symbol": "star"
         },
         "mode": "markers",
         "showlegend": false,
         "type": "scatter",
         "x": [
          2029
         ],
         "y": [
          0.8196959131747412
         ]
        },
        {
         "hovertemplate": "<b>EV Policy Review 2030</b><br>Government review of EV targets and incentives<br>Status: Planned<br>Source: bundesregierung.de",
         "marker": {
          "color": "black",
          "size": 8,
          "symbol": "star"
         },
         "mode": "markers",
         "showlegend": false,
         "type": "scatter",
         "x": [
          2030
         ],
         "y": [
          0.8494751420759209
         ]
        },
        {
         "hovertemplate": "<b>Federal FAST Act</b><br>Authorized EV signage and alt-fuel corridor planning<br>Status: Implemented<br>Source: transportation.gov",
         "marker": {
          "color": "black",
          "size": 8,
          "symbol": "star"
         },
         "mode": "markers",
         "showlegend": false,
         "type": "scatter",
         "x": [
          2016
         ],
         "y": [
          0.0012450285472653346
         ]
        },
        {
         "hovertemplate": "<b>EV Everywhere Challenge</b><br>DOE initiative for EV cost parity by 2022<br>Status: Implemented<br>Source: energy.gov",
         "marker": {
          "color": "black",
          "size": 8,
          "symbol": "star"
         },
         "mode": "markers",
         "showlegend": false,
         "type": "scatter",
         "x": [
          2017
         ],
         "y": [
          0.0016554517965449303
         ]
        },
        {
         "hovertemplate": "<b>CAFE Freeze Proposal</b><br>Proposed freezing fuel economy standards<br>Status: Implemented<br>Source: nhtsa.gov",
         "marker": {
          "color": "black",
          "size": 8,
          "symbol": "star"
         },
         "mode": "markers",
         "showlegend": false,
         "type": "scatter",
         "x": [
          2018
         ],
         "y": [
          0.0024933952893727625
         ]
        },
        {
         "hovertemplate": "<b>EV Tax Credit Extension Debate</b><br>Proposal to extend $7500 EV tax credit<br>Status: Debated<br>Source: congress.gov",
         "marker": {
          "color": "black",
          "size": 8,
          "symbol": "star"
         },
         "mode": "markers",
         "showlegend": false,
         "type": "scatter",
         "x": [
          2019
         ],
         "y": [
          0.0033755143394743918
         ]
        },
        {
         "hovertemplate": "<b>California ZEV Target</b><br>All new passenger cars to be ZEV by 2035<br>Status: Implemented<br>Source: arb.ca.gov",
         "marker": {
          "color": "black",
          "size": 8,
          "symbol": "star"
         },
         "mode": "markers",
         "showlegend": false,
         "type": "scatter",
         "x": [
          2020
         ],
         "y": [
          0.004372753057686952
         ]
        },
        {
         "hovertemplate": "<b>Executive Order – Clean Cars</b><br>Target of 50% EV sales by 2030<br>Status: Implemented<br>Source: whitehouse.gov",
         "marker": {
          "color": "black",
          "size": 8,
          "symbol": "star"
         },
         "mode": "markers",
         "showlegend": false,
         "type": "scatter",
         "x": [
          2021
         ],
         "y": [
          0.006006097775010024
         ]
        },
        {
         "hovertemplate": "<b>NHTSA CAFE Reinstatement</b><br>Increased standards to 49 mpg by 2026<br>Status: Implemented<br>Source: nhtsa.gov",
         "marker": {
          "color": "black",
          "size": 8,
          "symbol": "star"
         },
         "mode": "markers",
         "showlegend": false,
         "type": "scatter",
         "x": [
          2021
         ],
         "y": [
          0.006006097775010024
         ]
        },
        {
         "hovertemplate": "<b>IIJA Infrastructure Bill</b><br>$7.5B for national EV charging<br>Status: Implemented<br>Source: whitehouse.gov",
         "marker": {
          "color": "black",
          "size": 8,
          "symbol": "star"
         },
         "mode": "markers",
         "showlegend": false,
         "type": "scatter",
         "x": [
          2021
         ],
         "y": [
          0.006006097775010024
         ]
        },
        {
         "hovertemplate": "<b>Inflation Reduction Act – EV Credit</b><br>New tax credit rules with sourcing criteria<br>Status: Implemented<br>Source: irs.gov",
         "marker": {
          "color": "black",
          "size": 8,
          "symbol": "star"
         },
         "mode": "markers",
         "showlegend": false,
         "type": "scatter",
         "x": [
          2022
         ],
         "y": [
          0.010017012885168767
         ]
        },
        {
         "hovertemplate": "<b>NAS Charging Action Plan</b><br>Target of 500k chargers by 2030<br>Status: Implemented<br>Source: transportation.gov",
         "marker": {
          "color": "black",
          "size": 8,
          "symbol": "star"
         },
         "mode": "markers",
         "showlegend": false,
         "type": "scatter",
         "x": [
          2022
         ],
         "y": [
          0.010017012885168767
         ]
        },
        {
         "hovertemplate": "<b>Charging Reliability Standards</b><br>99% uptime and CCS standards<br>Status: Implemented<br>Source: fhwa.dot.gov",
         "marker": {
          "color": "black",
          "size": 8,
          "symbol": "star"
         },
         "mode": "markers",
         "showlegend": false,
         "type": "scatter",
         "x": [
          2023
         ],
         "y": [
          0.014429842858000834
         ]
        },
        {
         "hovertemplate": "<b>California Truck ZEV Mandate</b><br>All medium/heavy trucks to be ZEV by 2045<br>Status: Implemented<br>Source: arb.ca.gov",
         "marker": {
          "color": "black",
          "size": 8,
          "symbol": "star"
         },
         "mode": "markers",
         "showlegend": false,
         "type": "scatter",
         "x": [
          2023
         ],
         "y": [
          0.014429842858000834
         ]
        },
        {
         "hovertemplate": "<b>NEVI Formula Program Expansion</b><br>$5B for state-level EV charging plans<br>Status: Planned<br>Source: fhwa.dot.gov",
         "marker": {
          "color": "black",
          "size": 8,
          "symbol": "star"
         },
         "mode": "markers",
         "showlegend": false,
         "type": "scatter",
         "x": [
          2024
         ],
         "y": [
          0.020844173508546775
         ]
        },
        {
         "hovertemplate": "<b>Federal ZEV Standard Proposal</b><br>Nationwide ZEV sales targets<br>Status: Planned<br>Source: epa.gov",
         "marker": {
          "color": "black",
          "size": 8,
          "symbol": "star"
         },
         "mode": "markers",
         "showlegend": false,
         "type": "scatter",
         "x": [
          2025
         ],
         "y": [
          0.03024741237049358
         ]
        },
        {
         "hovertemplate": "<b>Federal Battery Recycling Act</b><br>EPR policies for EV battery recycling<br>Status: Planned<br>Source: congress.gov",
         "marker": {
          "color": "black",
          "size": 8,
          "symbol": "star"
         },
         "mode": "markers",
         "showlegend": false,
         "type": "scatter",
         "x": [
          2026
         ],
         "y": [
          0.04368195335501891
         ]
        },
        {
         "hovertemplate": "<b>EV Workforce Reskilling Fund</b><br>Funds for ICE worker retraining<br>Status: Planned<br>Source: energy.gov",
         "marker": {
          "color": "black",
          "size": 8,
          "symbol": "star"
         },
         "mode": "markers",
         "showlegend": false,
         "type": "scatter",
         "x": [
          2027
         ],
         "y": [
          0.06265382565656885
         ]
        },
        {
         "hovertemplate": "<b>EV Grid Resilience Fund</b><br>$3B for grid + charging upgrades<br>Status: Planned<br>Source: energy.gov",
         "marker": {
          "color": "black",
          "size": 8,
          "symbol": "star"
         },
         "mode": "markers",
         "showlegend": false,
         "type": "scatter",
         "x": [
          2028
         ],
         "y": [
          0.08900935895095148
         ]
        },
        {
         "hovertemplate": "<b>USPS EV Fleet Target</b><br>Electrify 75% of new USPS fleet<br>Status: Planned<br>Source: usps.com",
         "marker": {
          "color": "black",
          "size": 8,
          "symbol": "star"
         },
         "mode": "markers",
         "showlegend": false,
         "type": "scatter",
         "x": [
          2029
         ],
         "y": [
          0.12479968981692587
         ]
        },
        {
         "hovertemplate": "<b>National ZEV Goal</b><br>50% of new cars sold to be electric by 2030<br>Status: Planned<br>Source: whitehouse.gov",
         "marker": {
          "color": "black",
          "size": 8,
          "symbol": "star"
         },
         "mode": "markers",
         "showlegend": false,
         "type": "scatter",
         "x": [
          2030
         ],
         "y": [
          0.17193140512144275
         ]
        }
       ],
       "layout": {
        "legend": {
         "title": {
          "text": "Country & Data Type"
         },
         "tracegroupgap": 0
        },
        "template": {
         "data": {
          "bar": [
           {
            "error_x": {
             "color": "#2a3f5f"
            },
            "error_y": {
             "color": "#2a3f5f"
            },
            "marker": {
             "line": {
              "color": "white",
              "width": 0.5
             },
             "pattern": {
              "fillmode": "overlay",
              "size": 10,
              "solidity": 0.2
             }
            },
            "type": "bar"
           }
          ],
          "barpolar": [
           {
            "marker": {
             "line": {
              "color": "white",
              "width": 0.5
             },
             "pattern": {
              "fillmode": "overlay",
              "size": 10,
              "solidity": 0.2
             }
            },
            "type": "barpolar"
           }
          ],
          "carpet": [
           {
            "aaxis": {
             "endlinecolor": "#2a3f5f",
             "gridcolor": "#C8D4E3",
             "linecolor": "#C8D4E3",
             "minorgridcolor": "#C8D4E3",
             "startlinecolor": "#2a3f5f"
            },
            "baxis": {
             "endlinecolor": "#2a3f5f",
             "gridcolor": "#C8D4E3",
             "linecolor": "#C8D4E3",
             "minorgridcolor": "#C8D4E3",
             "startlinecolor": "#2a3f5f"
            },
            "type": "carpet"
           }
          ],
          "choropleth": [
           {
            "colorbar": {
             "outlinewidth": 0,
             "ticks": ""
            },
            "type": "choropleth"
           }
          ],
          "contour": [
           {
            "colorbar": {
             "outlinewidth": 0,
             "ticks": ""
            },
            "colorscale": [
             [
              0,
              "#0d0887"
             ],
             [
              0.1111111111111111,
              "#46039f"
             ],
             [
              0.2222222222222222,
              "#7201a8"
             ],
             [
              0.3333333333333333,
              "#9c179e"
             ],
             [
              0.4444444444444444,
              "#bd3786"
             ],
             [
              0.5555555555555556,
              "#d8576b"
             ],
             [
              0.6666666666666666,
              "#ed7953"
             ],
             [
              0.7777777777777778,
              "#fb9f3a"
             ],
             [
              0.8888888888888888,
              "#fdca26"
             ],
             [
              1,
              "#f0f921"
             ]
            ],
            "type": "contour"
           }
          ],
          "contourcarpet": [
           {
            "colorbar": {
             "outlinewidth": 0,
             "ticks": ""
            },
            "type": "contourcarpet"
           }
          ],
          "heatmap": [
           {
            "colorbar": {
             "outlinewidth": 0,
             "ticks": ""
            },
            "colorscale": [
             [
              0,
              "#0d0887"
             ],
             [
              0.1111111111111111,
              "#46039f"
             ],
             [
              0.2222222222222222,
              "#7201a8"
             ],
             [
              0.3333333333333333,
              "#9c179e"
             ],
             [
              0.4444444444444444,
              "#bd3786"
             ],
             [
              0.5555555555555556,
              "#d8576b"
             ],
             [
              0.6666666666666666,
              "#ed7953"
             ],
             [
              0.7777777777777778,
              "#fb9f3a"
             ],
             [
              0.8888888888888888,
              "#fdca26"
             ],
             [
              1,
              "#f0f921"
             ]
            ],
            "type": "heatmap"
           }
          ],
          "heatmapgl": [
           {
            "colorbar": {
             "outlinewidth": 0,
             "ticks": ""
            },
            "colorscale": [
             [
              0,
              "#0d0887"
             ],
             [
              0.1111111111111111,
              "#46039f"
             ],
             [
              0.2222222222222222,
              "#7201a8"
             ],
             [
              0.3333333333333333,
              "#9c179e"
             ],
             [
              0.4444444444444444,
              "#bd3786"
             ],
             [
              0.5555555555555556,
              "#d8576b"
             ],
             [
              0.6666666666666666,
              "#ed7953"
             ],
             [
              0.7777777777777778,
              "#fb9f3a"
             ],
             [
              0.8888888888888888,
              "#fdca26"
             ],
             [
              1,
              "#f0f921"
             ]
            ],
            "type": "heatmapgl"
           }
          ],
          "histogram": [
           {
            "marker": {
             "pattern": {
              "fillmode": "overlay",
              "size": 10,
              "solidity": 0.2
             }
            },
            "type": "histogram"
           }
          ],
          "histogram2d": [
           {
            "colorbar": {
             "outlinewidth": 0,
             "ticks": ""
            },
            "colorscale": [
             [
              0,
              "#0d0887"
             ],
             [
              0.1111111111111111,
              "#46039f"
             ],
             [
              0.2222222222222222,
              "#7201a8"
             ],
             [
              0.3333333333333333,
              "#9c179e"
             ],
             [
              0.4444444444444444,
              "#bd3786"
             ],
             [
              0.5555555555555556,
              "#d8576b"
             ],
             [
              0.6666666666666666,
              "#ed7953"
             ],
             [
              0.7777777777777778,
              "#fb9f3a"
             ],
             [
              0.8888888888888888,
              "#fdca26"
             ],
             [
              1,
              "#f0f921"
             ]
            ],
            "type": "histogram2d"
           }
          ],
          "histogram2dcontour": [
           {
            "colorbar": {
             "outlinewidth": 0,
             "ticks": ""
            },
            "colorscale": [
             [
              0,
              "#0d0887"
             ],
             [
              0.1111111111111111,
              "#46039f"
             ],
             [
              0.2222222222222222,
              "#7201a8"
             ],
             [
              0.3333333333333333,
              "#9c179e"
             ],
             [
              0.4444444444444444,
              "#bd3786"
             ],
             [
              0.5555555555555556,
              "#d8576b"
             ],
             [
              0.6666666666666666,
              "#ed7953"
             ],
             [
              0.7777777777777778,
              "#fb9f3a"
             ],
             [
              0.8888888888888888,
              "#fdca26"
             ],
             [
              1,
              "#f0f921"
             ]
            ],
            "type": "histogram2dcontour"
           }
          ],
          "mesh3d": [
           {
            "colorbar": {
             "outlinewidth": 0,
             "ticks": ""
            },
            "type": "mesh3d"
           }
          ],
          "parcoords": [
           {
            "line": {
             "colorbar": {
              "outlinewidth": 0,
              "ticks": ""
             }
            },
            "type": "parcoords"
           }
          ],
          "pie": [
           {
            "automargin": true,
            "type": "pie"
           }
          ],
          "scatter": [
           {
            "fillpattern": {
             "fillmode": "overlay",
             "size": 10,
             "solidity": 0.2
            },
            "type": "scatter"
           }
          ],
          "scatter3d": [
           {
            "line": {
             "colorbar": {
              "outlinewidth": 0,
              "ticks": ""
             }
            },
            "marker": {
             "colorbar": {
              "outlinewidth": 0,
              "ticks": ""
             }
            },
            "type": "scatter3d"
           }
          ],
          "scattercarpet": [
           {
            "marker": {
             "colorbar": {
              "outlinewidth": 0,
              "ticks": ""
             }
            },
            "type": "scattercarpet"
           }
          ],
          "scattergeo": [
           {
            "marker": {
             "colorbar": {
              "outlinewidth": 0,
              "ticks": ""
             }
            },
            "type": "scattergeo"
           }
          ],
          "scattergl": [
           {
            "marker": {
             "colorbar": {
              "outlinewidth": 0,
              "ticks": ""
             }
            },
            "type": "scattergl"
           }
          ],
          "scattermapbox": [
           {
            "marker": {
             "colorbar": {
              "outlinewidth": 0,
              "ticks": ""
             }
            },
            "type": "scattermapbox"
           }
          ],
          "scatterpolar": [
           {
            "marker": {
             "colorbar": {
              "outlinewidth": 0,
              "ticks": ""
             }
            },
            "type": "scatterpolar"
           }
          ],
          "scatterpolargl": [
           {
            "marker": {
             "colorbar": {
              "outlinewidth": 0,
              "ticks": ""
             }
            },
            "type": "scatterpolargl"
           }
          ],
          "scatterternary": [
           {
            "marker": {
             "colorbar": {
              "outlinewidth": 0,
              "ticks": ""
             }
            },
            "type": "scatterternary"
           }
          ],
          "surface": [
           {
            "colorbar": {
             "outlinewidth": 0,
             "ticks": ""
            },
            "colorscale": [
             [
              0,
              "#0d0887"
             ],
             [
              0.1111111111111111,
              "#46039f"
             ],
             [
              0.2222222222222222,
              "#7201a8"
             ],
             [
              0.3333333333333333,
              "#9c179e"
             ],
             [
              0.4444444444444444,
              "#bd3786"
             ],
             [
              0.5555555555555556,
              "#d8576b"
             ],
             [
              0.6666666666666666,
              "#ed7953"
             ],
             [
              0.7777777777777778,
              "#fb9f3a"
             ],
             [
              0.8888888888888888,
              "#fdca26"
             ],
             [
              1,
              "#f0f921"
             ]
            ],
            "type": "surface"
           }
          ],
          "table": [
           {
            "cells": {
             "fill": {
              "color": "#EBF0F8"
             },
             "line": {
              "color": "white"
             }
            },
            "header": {
             "fill": {
              "color": "#C8D4E3"
             },
             "line": {
              "color": "white"
             }
            },
            "type": "table"
           }
          ]
         },
         "layout": {
          "annotationdefaults": {
           "arrowcolor": "#2a3f5f",
           "arrowhead": 0,
           "arrowwidth": 1
          },
          "autotypenumbers": "strict",
          "coloraxis": {
           "colorbar": {
            "outlinewidth": 0,
            "ticks": ""
           }
          },
          "colorscale": {
           "diverging": [
            [
             0,
             "#8e0152"
            ],
            [
             0.1,
             "#c51b7d"
            ],
            [
             0.2,
             "#de77ae"
            ],
            [
             0.3,
             "#f1b6da"
            ],
            [
             0.4,
             "#fde0ef"
            ],
            [
             0.5,
             "#f7f7f7"
            ],
            [
             0.6,
             "#e6f5d0"
            ],
            [
             0.7,
             "#b8e186"
            ],
            [
             0.8,
             "#7fbc41"
            ],
            [
             0.9,
             "#4d9221"
            ],
            [
             1,
             "#276419"
            ]
           ],
           "sequential": [
            [
             0,
             "#0d0887"
            ],
            [
             0.1111111111111111,
             "#46039f"
            ],
            [
             0.2222222222222222,
             "#7201a8"
            ],
            [
             0.3333333333333333,
             "#9c179e"
            ],
            [
             0.4444444444444444,
             "#bd3786"
            ],
            [
             0.5555555555555556,
             "#d8576b"
            ],
            [
             0.6666666666666666,
             "#ed7953"
            ],
            [
             0.7777777777777778,
             "#fb9f3a"
            ],
            [
             0.8888888888888888,
             "#fdca26"
            ],
            [
             1,
             "#f0f921"
            ]
           ],
           "sequentialminus": [
            [
             0,
             "#0d0887"
            ],
            [
             0.1111111111111111,
             "#46039f"
            ],
            [
             0.2222222222222222,
             "#7201a8"
            ],
            [
             0.3333333333333333,
             "#9c179e"
            ],
            [
             0.4444444444444444,
             "#bd3786"
            ],
            [
             0.5555555555555556,
             "#d8576b"
            ],
            [
             0.6666666666666666,
             "#ed7953"
            ],
            [
             0.7777777777777778,
             "#fb9f3a"
            ],
            [
             0.8888888888888888,
             "#fdca26"
            ],
            [
             1,
             "#f0f921"
            ]
           ]
          },
          "colorway": [
           "#636efa",
           "#EF553B",
           "#00cc96",
           "#ab63fa",
           "#FFA15A",
           "#19d3f3",
           "#FF6692",
           "#B6E880",
           "#FF97FF",
           "#FECB52"
          ],
          "font": {
           "color": "#2a3f5f"
          },
          "geo": {
           "bgcolor": "white",
           "lakecolor": "white",
           "landcolor": "white",
           "showlakes": true,
           "showland": true,
           "subunitcolor": "#C8D4E3"
          },
          "hoverlabel": {
           "align": "left"
          },
          "hovermode": "closest",
          "mapbox": {
           "style": "light"
          },
          "paper_bgcolor": "white",
          "plot_bgcolor": "white",
          "polar": {
           "angularaxis": {
            "gridcolor": "#EBF0F8",
            "linecolor": "#EBF0F8",
            "ticks": ""
           },
           "bgcolor": "white",
           "radialaxis": {
            "gridcolor": "#EBF0F8",
            "linecolor": "#EBF0F8",
            "ticks": ""
           }
          },
          "scene": {
           "xaxis": {
            "backgroundcolor": "white",
            "gridcolor": "#DFE8F3",
            "gridwidth": 2,
            "linecolor": "#EBF0F8",
            "showbackground": true,
            "ticks": "",
            "zerolinecolor": "#EBF0F8"
           },
           "yaxis": {
            "backgroundcolor": "white",
            "gridcolor": "#DFE8F3",
            "gridwidth": 2,
            "linecolor": "#EBF0F8",
            "showbackground": true,
            "ticks": "",
            "zerolinecolor": "#EBF0F8"
           },
           "zaxis": {
            "backgroundcolor": "white",
            "gridcolor": "#DFE8F3",
            "gridwidth": 2,
            "linecolor": "#EBF0F8",
            "showbackground": true,
            "ticks": "",
            "zerolinecolor": "#EBF0F8"
           }
          },
          "shapedefaults": {
           "line": {
            "color": "#2a3f5f"
           }
          },
          "ternary": {
           "aaxis": {
            "gridcolor": "#DFE8F3",
            "linecolor": "#A2B1C6",
            "ticks": ""
           },
           "baxis": {
            "gridcolor": "#DFE8F3",
            "linecolor": "#A2B1C6",
            "ticks": ""
           },
           "bgcolor": "white",
           "caxis": {
            "gridcolor": "#DFE8F3",
            "linecolor": "#A2B1C6",
            "ticks": ""
           }
          },
          "title": {
           "x": 0.05
          },
          "xaxis": {
           "automargin": true,
           "gridcolor": "#EBF0F8",
           "linecolor": "#EBF0F8",
           "ticks": "",
           "title": {
            "standoff": 15
           },
           "zerolinecolor": "#EBF0F8",
           "zerolinewidth": 2
          },
          "yaxis": {
           "automargin": true,
           "gridcolor": "#EBF0F8",
           "linecolor": "#EBF0F8",
           "ticks": "",
           "title": {
            "standoff": 15
           },
           "zerolinecolor": "#EBF0F8",
           "zerolinewidth": 2
          }
         }
        },
        "title": {
         "text": "EV Share S-Curve Forecast (Actual vs Predicted)"
        },
        "xaxis": {
         "anchor": "y",
         "domain": [
          0,
          1
         ],
         "title": {
          "text": "Year"
         }
        },
        "yaxis": {
         "anchor": "x",
         "domain": [
          0,
          1
         ],
         "tickformat": ".0%",
         "title": {
          "text": "EV Share"
         }
        }
       }
      }
     },
     "metadata": {},
     "output_type": "display_data"
    }
   ],
   "source": [
    "import plotly.graph_objects as go\n",
    "\n",
    "for _, row in df_policy.iterrows():\n",
    "    country = row['country']\n",
    "    year = row['year']\n",
    "    \n",
    "    match = all_preds[(all_preds['country'] == country) & (all_preds['year'] == year)]\n",
    "    if not match.empty:\n",
    "        ev_share = match['ev_share'].values[0]\n",
    "    else:\n",
    "        latest = all_preds[all_preds['country'] == country].sort_values('year')['ev_share'].iloc[-1]\n",
    "        ev_share = latest\n",
    "\n",
    "    fig.add_trace(go.Scatter(\n",
    "        x=[year],\n",
    "        y=[ev_share],\n",
    "        mode=\"markers\",\n",
    "        marker=dict(color=\"black\", size=8, symbol=\"star\"),\n",
    "        hovertemplate=(\n",
    "            f\"<b>{row['policy_title']}</b><br>\"\n",
    "            f\"{row['policy_description']}<br>\"\n",
    "            f\"Status: {row['status']}<br>\"\n",
    "            f\"Source: {row['source']}\"\n",
    "        ),\n",
    "        showlegend=False\n",
    "    ))\n",
    "fig.show()"
   ]
  },
  {
   "cell_type": "markdown",
   "id": "6508788f",
   "metadata": {},
   "source": [
    "The black stars now mark the years when key EV-related policies were implemented by each country. This adds a causal dimension to the adoption curves shown earlier.\n",
    "\n",
    "**Norway:**\n",
    "\n",
    "Several policy stars align with the steepest rise (2017–2020).\n",
    "\n",
    "These likely correspond to:\n",
    "\n",
    "- High vehicle weight fee\n",
    "- NTP EV Transport Plan \n",
    "- Zero emission vehicle target \n",
    "- Public EV charger funding \n",
    "\n",
    "**Impact: Policies acted as strong levers that accelerated adoption right at the inflection point**\n",
    "\n"
   ]
  },
  {
   "cell_type": "markdown",
   "id": "71e8eb7f",
   "metadata": {},
   "source": [
    "**Germany:**\n",
    "\n",
    "Stars cluster around 2019–2022, just before or during the start of the steep curve.\n",
    "\n",
    "These likely correspond to:\n",
    "\n",
    "- BIL charging funds\n",
    "- CO₂ price introduction\n",
    "- Low emission zones + 15k chargers by 2030. \n",
    "\n",
    "**Impact: Policies played a key role in triggering the S-curve lift-off**\n",
    "\n"
   ]
  },
  {
   "cell_type": "markdown",
   "id": "78837c98",
   "metadata": {},
   "source": [
    "**USA:**\n",
    "\n",
    "- Robust federal and state policies, including tax credits and charging infrastructure investments.\n",
    "\n",
    "- Low EV adoption despite incentives, EVs remain a small share of the total vehicle fleet.\n",
    "\n",
    "- Fragmented rollout and market inertia (e.g. love for gas SUVs, low fuel prices) slow the transition."
   ]
  }
 ],
 "metadata": {
  "kernelspec": {
   "display_name": "myenv",
   "language": "python",
   "name": "python3"
  },
  "language_info": {
   "codemirror_mode": {
    "name": "ipython",
    "version": 3
   },
   "file_extension": ".py",
   "mimetype": "text/x-python",
   "name": "python",
   "nbconvert_exporter": "python",
   "pygments_lexer": "ipython3",
   "version": "3.9.6"
  }
 },
 "nbformat": 4,
 "nbformat_minor": 5
}
